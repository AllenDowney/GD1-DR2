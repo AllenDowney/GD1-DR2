{
 "cells": [
  {
   "cell_type": "markdown",
   "metadata": {},
   "source": [
    "This notebook generates and runs queries to download Gaia data"
   ]
  },
  {
   "cell_type": "code",
   "execution_count": null,
   "metadata": {},
   "outputs": [],
   "source": [
    "from os import path\n",
    "import glob\n",
    "\n",
    "# Third-party\n",
    "import astropy.coordinates as coord\n",
    "from astropy.table import Table, vstack\n",
    "from astropy.io import fits\n",
    "import astropy.units as u\n",
    "import matplotlib as mpl\n",
    "import matplotlib.pyplot as plt\n",
    "import numpy as np\n",
    "%matplotlib inline\n",
    "\n",
    "import gala.coordinates as gc\n",
    "import gala.dynamics as gd\n",
    "from pyia import GaiaData"
   ]
  },
  {
   "cell_type": "code",
   "execution_count": null,
   "metadata": {},
   "outputs": [],
   "source": [
    "stream_w = np.load('../data/stream_model.npy')\n",
    "stream = gd.PhaseSpacePosition(pos=stream_w[:, :3].T*u.kpc,\n",
    "                               vel=stream_w[:, 3:].T*u.km/u.s)\n",
    "gc_frame = coord.Galactocentric(galcen_distance=8*u.kpc, z_sun=0*u.pc)"
   ]
  },
  {
   "cell_type": "code",
   "execution_count": null,
   "metadata": {},
   "outputs": [],
   "source": [
    "stream_gd1 = stream.to_coord_frame(gc.GD1, galactocentric_frame=gc_frame)\n",
    "mask = (stream_gd1.phi1.wrap_at(180*u.deg) > -120*u.deg) | (stream_gd1.phi1.wrap_at(180*u.deg) < 60*u.deg)\n",
    "\n",
    "stream_icrs = stream.to_coord_frame(coord.ICRS, galactocentric_frame=gc_frame)[mask]"
   ]
  },
  {
   "cell_type": "code",
   "execution_count": null,
   "metadata": {},
   "outputs": [],
   "source": [
    "fig, ax = plt.subplots(1, 1, figsize=(6, 6))\n",
    "\n",
    "ax.plot(stream_icrs.pm_ra_cosdec.to(u.mas/u.yr).value,\n",
    "        stream_icrs.pm_dec.to(u.mas/u.yr).value,\n",
    "        marker='.', linestyle='none', alpha=0.2)\n",
    "\n",
    "xx = np.random.uniform(-2, 2, size=100000)\n",
    "yy = np.random.uniform(-2, 2, size=100000)\n",
    "idx = np.sqrt(xx**2 + yy**2) > 2\n",
    "ax.plot(xx[idx], yy[idx], linestyle='', marker=',')\n",
    "\n",
    "ax.axvline(1)\n",
    "ax.axhline(1.5)\n",
    "\n",
    "ax.set_xlim(-15, 5)\n",
    "ax.set_ylim(-15, 5)"
   ]
  },
  {
   "cell_type": "code",
   "execution_count": null,
   "metadata": {},
   "outputs": [],
   "source": [
    "q_base ='''SELECT * FROM gaiadr2.gaia_source\n",
    "WHERE parallax < 1 AND bp_rp > -0.5 AND bp_rp < 2 AND\n",
    "      CONTAINS(POINT('ICRS', ra, dec), \n",
    "               POLYGON('ICRS', \n",
    "                       {0.ra.degree}, {0.dec.degree}, \n",
    "                       {1.ra.degree}, {1.dec.degree}, \n",
    "                       {2.ra.degree}, {2.dec.degree}, \n",
    "                       {3.ra.degree}, {3.dec.degree})) = 1 AND\n",
    "      (SQRT(POWER(pmra, 2) + POWER(pmdec, 2)) > 2) AND (pmra < 1) AND (pmdec < 1.5)\n",
    "'''"
   ]
  },
  {
   "cell_type": "code",
   "execution_count": null,
   "metadata": {},
   "outputs": [],
   "source": [
    "fig, axes = plt.subplots(2, 1, figsize=(15, 5), sharex=True)\n",
    "\n",
    "ax = axes[0]\n",
    "ax.plot(stream_gd1.phi1.wrap_at(180*u.deg),\n",
    "        stream_gd1.phi2, marker='.', linestyle='none', alpha=0.2)\n",
    "ax.set_xlim(-180, 120)\n",
    "ax.set_ylim(-25, 5)\n",
    "\n",
    "ax = axes[1]\n",
    "ax.plot(stream_gd1.phi1.wrap_at(180*u.deg),\n",
    "        stream_gd1.distance, marker='.', linestyle='none', alpha=0.2)\n",
    "ax.set_ylim(4, 20)"
   ]
  },
  {
   "cell_type": "code",
   "execution_count": null,
   "metadata": {
    "scrolled": true
   },
   "outputs": [],
   "source": [
    "queries = []\n",
    "for l in np.arange(-120, 50, 10):\n",
    "    corners = gc.GD1(phi1=[l, l, l+10, l+10]*u.deg, \n",
    "                     phi2=[-10, 5, 5, -10]*u.deg)\n",
    "    corners_icrs = corners.transform_to(coord.ICRS)\n",
    "    queries.append(q_base.format(corners_icrs[0], corners_icrs[1], corners_icrs[2], corners_icrs[3]))"
   ]
  },
  {
   "cell_type": "code",
   "execution_count": null,
   "metadata": {},
   "outputs": [],
   "source": [
    "for q in queries:\n",
    "    print(q)\n",
    "    print()"
   ]
  },
  {
   "cell_type": "markdown",
   "metadata": {},
   "source": [
    "# Combine tables"
   ]
  },
  {
   "cell_type": "code",
   "execution_count": null,
   "metadata": {},
   "outputs": [],
   "source": [
    "from numpy.lib.recfunctions import stack_arrays"
   ]
  },
  {
   "cell_type": "code",
   "execution_count": null,
   "metadata": {},
   "outputs": [],
   "source": [
    "keep_cols = ['solution_id', 'source_id', 'random_index', 'ref_epoch', \n",
    "             'ra', 'ra_error', 'dec', 'dec_error', 'parallax', 'parallax_error', 'parallax_over_error', \n",
    "             'pmra', 'pmra_error', 'pmdec', 'pmdec_error', 'ra_dec_corr', 'ra_parallax_corr', 'ra_pmra_corr', \n",
    "             'ra_pmdec_corr', 'dec_parallax_corr', 'dec_pmra_corr', 'dec_pmdec_corr', 'parallax_pmra_corr', \n",
    "             'parallax_pmdec_corr', 'pmra_pmdec_corr', 'visibility_periods_used', \n",
    "             'phot_g_n_obs', 'phot_g_mean_flux', 'phot_g_mean_flux_error', 'phot_g_mean_flux_over_error', \n",
    "             'phot_g_mean_mag', 'phot_bp_n_obs', 'phot_bp_mean_flux', 'phot_bp_mean_flux_error', \n",
    "             'phot_bp_mean_flux_over_error', 'phot_bp_mean_mag', 'phot_rp_n_obs', 'phot_rp_mean_flux', \n",
    "             'phot_rp_mean_flux_error', 'phot_rp_mean_flux_over_error', 'phot_rp_mean_mag', \n",
    "             'phot_bp_rp_excess_factor', 'phot_proc_mode', 'bp_rp', 'bp_g', 'g_rp', 'radial_velocity', \n",
    "             'radial_velocity_error', 'a_g_val', 'a_g_percentile_lower', 'a_g_percentile_upper', \n",
    "             'e_bp_min_rp_val', 'e_bp_min_rp_percentile_lower', 'e_bp_min_rp_percentile_upper']"
   ]
  },
  {
   "cell_type": "code",
   "execution_count": null,
   "metadata": {},
   "outputs": [],
   "source": [
    "all_filename = '../data/gd1-polygon/gd1-all.fits'\n",
    "if not path.exists(all_filename):\n",
    "    arrs = []\n",
    "    for filename in glob.glob('../data/gd1-polygon/*.fits'):\n",
    "        arrs.append(np.array(fits.getdata(filename))[keep_cols])\n",
    "    arr = stack_arrays(arrs, asrecarray=True, usemask=False)\n",
    "    t = Table(arr)\n",
    "    t.write(all_filename)"
   ]
  },
  {
   "cell_type": "code",
   "execution_count": null,
   "metadata": {},
   "outputs": [],
   "source": [
    "t = Table.read(all_filename)"
   ]
  },
  {
   "cell_type": "code",
   "execution_count": null,
   "metadata": {},
   "outputs": [],
   "source": [
    "c_gd1 = coord.SkyCoord(ra=t['ra']*u.deg, dec=t['dec']*u.deg).transform_to(gc.GD1)"
   ]
  },
  {
   "cell_type": "code",
   "execution_count": null,
   "metadata": {},
   "outputs": [],
   "source": [
    "fig, ax = plt.subplots(1, 1, figsize=(15, 5))\n",
    "\n",
    "ax.plot(c_gd1.phi1.wrap_at(180*u.deg)[t['phot_g_mean_mag'] < 18],\n",
    "        c_gd1.phi2[t['phot_g_mean_mag'] < 18], \n",
    "        marker=',', linestyle='none', alpha=0.04)\n",
    "\n",
    "ax.set_xlim(-120, 50)\n",
    "ax.set_ylim(-10, 5)\n",
    "\n",
    "ax.set_aspect('equal')"
   ]
  },
  {
   "cell_type": "code",
   "execution_count": null,
   "metadata": {},
   "outputs": [],
   "source": []
  }
 ],
 "metadata": {
  "kernelspec": {
   "display_name": "Python [default]",
   "language": "python",
   "name": "python3"
  },
  "language_info": {
   "codemirror_mode": {
    "name": "ipython",
    "version": 3
   },
   "file_extension": ".py",
   "mimetype": "text/x-python",
   "name": "python",
   "nbconvert_exporter": "python",
   "pygments_lexer": "ipython3",
   "version": "3.6.4"
  }
 },
 "nbformat": 4,
 "nbformat_minor": 2
}
