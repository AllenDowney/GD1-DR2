{
 "cells": [
  {
   "cell_type": "markdown",
   "metadata": {},
   "source": [
    "This notebook generates and runs queries to download Gaia data for the region around the GD-1 stream.\n",
    "\n",
    "Note that we don't use the Gaia-PS1 cross-match because of the aggressive quality cuts the Gaia team applied when loading the PS1 data, so here we only download Gaia data and later cross-match to PS1 using LSD."
   ]
  },
  {
   "cell_type": "code",
   "execution_count": null,
   "metadata": {},
   "outputs": [],
   "source": [
    "import os\n",
    "from os import path\n",
    "import glob\n",
    "import warnings\n",
    "\n",
    "# Third-party\n",
    "import astropy.coordinates as coord\n",
    "from astropy.table import Table, vstack\n",
    "from astropy.io import fits\n",
    "import astropy.units as u\n",
    "import matplotlib as mpl\n",
    "import matplotlib.pyplot as plt\n",
    "import numpy as np\n",
    "%matplotlib inline\n",
    "\n",
    "import gala.coordinates as gc\n",
    "import gala.dynamics as gd\n",
    "from pyia import GaiaData\n",
    "from sfd import reddening\n",
    "from astroquery.gaia import Gaia\n",
    "\n",
    "login_file = path.expanduser('~/.gaia/archive.login')\n",
    "if path.exists(login_file):\n",
    "    with open(login_file) as f:\n",
    "        username = f.readline()\n",
    "        password = f.readline()\n",
    "    print('Logging in with user: {0}'.format(username))\n",
    "    Gaia.login(user=username, password=password)"
   ]
  },
  {
   "cell_type": "code",
   "execution_count": null,
   "metadata": {},
   "outputs": [],
   "source": [
    "data_path = '../data/gd1-polygon/'\n",
    "os.makedirs(data_path, exist_ok=True)"
   ]
  },
  {
   "cell_type": "code",
   "execution_count": null,
   "metadata": {},
   "outputs": [],
   "source": [
    "gaia_cols = ['source_id', \n",
    "             'ra', 'dec', 'parallax', 'parallax_error', \n",
    "             'pmra', 'pmra_error', 'pmdec', 'pmdec_error', 'ra_parallax_corr', 'ra_pmra_corr', \n",
    "             'ra_pmdec_corr', 'dec_parallax_corr', 'dec_pmra_corr', 'dec_pmdec_corr', 'parallax_pmra_corr', \n",
    "             'parallax_pmdec_corr', 'pmra_pmdec_corr', 'visibility_periods_used', \n",
    "             'phot_g_mean_mag', 'phot_g_mean_flux_over_error', \n",
    "             'phot_bp_mean_mag', 'phot_bp_mean_flux_over_error', \n",
    "             'phot_rp_mean_mag', 'phot_rp_mean_flux_over_error', \n",
    "             'phot_bp_rp_excess_factor', 'astrometric_chi2_al', 'astrometric_n_good_obs_al']"
   ]
  },
  {
   "cell_type": "code",
   "execution_count": null,
   "metadata": {},
   "outputs": [],
   "source": [
    "q_base ='''SELECT {0}\n",
    "FROM gaiadr2.gaia_source\n",
    "WHERE parallax < 1 AND bp_rp > -0.75 AND bp_rp < 2 AND\n",
    "      CONTAINS(POINT('ICRS', ra, dec), \n",
    "               POLYGON('ICRS', \n",
    "                       {1[0].ra.degree}, {1[0].dec.degree}, \n",
    "                       {1[1].ra.degree}, {1[1].dec.degree}, \n",
    "                       {1[2].ra.degree}, {1[2].dec.degree}, \n",
    "                       {1[3].ra.degree}, {1[3].dec.degree})) = 1 AND\n",
    "      (ABS(pmra) < 12) AND (ABS(pmdec) < 12)\n",
    "'''"
   ]
  },
  {
   "cell_type": "code",
   "execution_count": null,
   "metadata": {
    "scrolled": true
   },
   "outputs": [],
   "source": [
    "queries = []\n",
    "jobs = []\n",
    "for l in np.arange(-100, 20, 10):\n",
    "    print(l)\n",
    "    \n",
    "    fn = path.join(data_path, 'gd1_{0:.0f}.fits'.format(l))\n",
    "    if path.exists(fn):\n",
    "        print('{0} exists...skipping'.format(fn))\n",
    "        continue\n",
    "\n",
    "    corners = gc.GD1(phi1=[l, l, l+10, l+10]*u.deg, \n",
    "                     phi2=[-10, 5, 5, -10]*u.deg)\n",
    "    corners_icrs = corners.transform_to(coord.ICRS)\n",
    "    q = q_base.format(', '.join(gaia_cols), corners_icrs)\n",
    "        \n",
    "    with warnings.catch_warnings():\n",
    "        warnings.simplefilter('ignore')\n",
    "        job = Gaia.launch_job_async(q, name='GD1-{0}'.format(l), \n",
    "                                    background=True)\n",
    "    jobs.append(job)"
   ]
  },
  {
   "cell_type": "code",
   "execution_count": null,
   "metadata": {},
   "outputs": [],
   "source": [
    "# for job in jobs:\n",
    "#     tbl = job.get_results()\n",
    "\n",
    "#     for c in tbl.colnames: # hack to make sure object arrays are string\n",
    "#         if tbl[c].dtype == object:\n",
    "#             tbl[c] = np.array(tbl[c]).astype(str)\n",
    "#     tbl.write(fn, overwrite=True)"
   ]
  },
  {
   "cell_type": "markdown",
   "metadata": {},
   "source": [
    "# Combine tables"
   ]
  },
  {
   "cell_type": "code",
   "execution_count": null,
   "metadata": {},
   "outputs": [],
   "source": [
    "from numpy.lib.recfunctions import stack_arrays"
   ]
  },
  {
   "cell_type": "code",
   "execution_count": null,
   "metadata": {},
   "outputs": [],
   "source": [
    "all_filename = '../data/gd1-all.fits'\n",
    "if not path.exists(all_filename):\n",
    "    arrs = []\n",
    "    for filename in glob.glob('../data/gd1-polygon/*.fits'):\n",
    "        arrs.append(np.array(fits.getdata(filename)))\n",
    "    arr = stack_arrays(arrs, asrecarray=True, usemask=False)\n",
    "    t = Table(arr)\n",
    "    t.write(all_filename)"
   ]
  },
  {
   "cell_type": "code",
   "execution_count": null,
   "metadata": {},
   "outputs": [],
   "source": [
    "g = GaiaData(all_filename)"
   ]
  },
  {
   "cell_type": "code",
   "execution_count": null,
   "metadata": {},
   "outputs": [],
   "source": [
    "c_gd1 = g.get_skycoord(distance=False).transform_to(gc.GD1)"
   ]
  },
  {
   "cell_type": "code",
   "execution_count": null,
   "metadata": {},
   "outputs": [],
   "source": [
    "fig, ax = plt.subplots(1, 1, figsize=(15, 5))\n",
    "\n",
    "ax.plot(c_gd1.phi1.wrap_at(180*u.deg),\n",
    "        c_gd1.phi2, \n",
    "        marker=',', linestyle='none', alpha=0.05)\n",
    "\n",
    "ax.set_xlim(-100, 20)\n",
    "ax.set_ylim(-10, 5)\n",
    "\n",
    "ax.set_aspect('equal')"
   ]
  },
  {
   "cell_type": "code",
   "execution_count": null,
   "metadata": {},
   "outputs": [],
   "source": []
  }
 ],
 "metadata": {
  "kernelspec": {
   "display_name": "Python [default]",
   "language": "python",
   "name": "python3"
  },
  "language_info": {
   "codemirror_mode": {
    "name": "ipython",
    "version": 3
   },
   "file_extension": ".py",
   "mimetype": "text/x-python",
   "name": "python",
   "nbconvert_exporter": "python",
   "pygments_lexer": "ipython3",
   "version": "3.6.4"
  }
 },
 "nbformat": 4,
 "nbformat_minor": 2
}