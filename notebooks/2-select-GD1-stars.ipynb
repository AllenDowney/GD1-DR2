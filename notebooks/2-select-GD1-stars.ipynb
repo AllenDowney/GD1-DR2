{
 "cells": [
  {
   "cell_type": "markdown",
   "metadata": {},
   "source": [
    "Here we select stars in the GD-1 stream using a simple proper-motion cut combined with a color-magnitude filter using a metal-poor isochrone:"
   ]
  },
  {
   "cell_type": "code",
   "execution_count": null,
   "metadata": {},
   "outputs": [],
   "source": [
    "from os import path\n",
    "\n",
    "# Third-party\n",
    "import astropy.coordinates as coord\n",
    "from astropy.table import Table, vstack\n",
    "from astropy.io import fits\n",
    "import astropy.units as u\n",
    "import matplotlib as mpl\n",
    "import matplotlib.pyplot as plt\n",
    "import numpy as np\n",
    "%matplotlib inline\n",
    "from scipy.interpolate import interp1d\n",
    "from sklearn.neighbors import KernelDensity\n",
    "\n",
    "from pyia import GaiaData\n",
    "import gala.coordinates as gc\n",
    "import gala.dynamics as gd\n",
    "import gala.potential as gp"
   ]
  },
  {
   "cell_type": "markdown",
   "metadata": {},
   "source": [
    "This is the full table of Gaia data + Pan-STARRs photometry for the region around GD-1:"
   ]
  },
  {
   "cell_type": "code",
   "execution_count": null,
   "metadata": {},
   "outputs": [],
   "source": [
    "t = Table.read('../data/gd1-all.fits')"
   ]
  },
  {
   "cell_type": "code",
   "execution_count": null,
   "metadata": {},
   "outputs": [],
   "source": [
    "# # deredden\n",
    "# bands = ['g', 'r', 'i', 'z', 'y']\n",
    "# for band in bands:\n",
    "#     t[band + '0'] = t[band] - t['A_{}'.format(band)]"
   ]
  },
  {
   "cell_type": "code",
   "execution_count": null,
   "metadata": {},
   "outputs": [],
   "source": [
    "g = GaiaData(t)\n",
    "c_tmp = g.get_skycoord(distance=False)"
   ]
  },
  {
   "cell_type": "markdown",
   "metadata": {},
   "source": [
    "### Convert to GD-1 coordinates and reflex correct\n",
    "\n",
    "We assign distances to the stars using the orbit from Koposov et al. 2010:"
   ]
  },
  {
   "cell_type": "code",
   "execution_count": null,
   "metadata": {},
   "outputs": [],
   "source": [
    "gc_frame = coord.Galactocentric(galcen_distance=8*u.kpc, z_sun=0*u.pc)\n",
    "pot = gp.load('../output/mwpot.yml')"
   ]
  },
  {
   "cell_type": "code",
   "execution_count": null,
   "metadata": {},
   "outputs": [],
   "source": [
    "phi1_0 = 20. * u.deg\n",
    "phi2, d, pm1, pm2, vr = [-3.47508128, 12.26167861, -5.70045271, -1.44728289, -326.96300355]\n",
    "c0 = gc.GD1(phi1=phi1_0, phi2=phi2*u.deg, distance=d*u.kpc, \n",
    "            pm_phi1_cosphi2=pm1*u.mas/u.yr,\n",
    "            pm_phi2=pm2*u.mas/u.yr,\n",
    "            radial_velocity=vr*u.km/u.s)\n",
    "w0 = gd.PhaseSpacePosition(c0.transform_to(gc_frame).cartesian)\n",
    "\n",
    "orbit = pot.integrate_orbit(w0, dt=-0.2*u.Myr, n_steps=300)\n",
    "orbit = pot.integrate_orbit(orbit[-1], dt=0.2*u.Myr, n_steps=1000)\n",
    "orbit_c = orbit.to_coord_frame(gc.GD1, galactocentric_frame=gc_frame)\n",
    "orbit_gd1 = gc.reflex_correct(orbit_c)"
   ]
  },
  {
   "cell_type": "markdown",
   "metadata": {},
   "source": [
    "Use interpolation to compute distance at any phi1:"
   ]
  },
  {
   "cell_type": "code",
   "execution_count": null,
   "metadata": {},
   "outputs": [],
   "source": [
    "fig, axes = plt.subplots(1, 2, figsize=(10, 3.5), \n",
    "                         sharex=True, constrained_layout=True)\n",
    "axes[0].plot(orbit_c.phi1.wrap_at(180*u.deg),\n",
    "             orbit_c.distance)\n",
    "axes[0].set_xlabel(r'$\\phi_1$')\n",
    "axes[0].set_ylabel('distance')\n",
    "axes[0].set_ylim(5, 20)\n",
    "\n",
    "axes[1].plot(orbit_c.phi1.wrap_at(180*u.deg),\n",
    "             orbit_c.distance.distmod)\n",
    "axes[1].set_xlabel(r'$\\phi_1$')\n",
    "axes[1].set_ylabel('DM')"
   ]
  },
  {
   "cell_type": "code",
   "execution_count": null,
   "metadata": {},
   "outputs": [],
   "source": [
    "_dist_func = interp1d(orbit_c.phi1.wrap_at(180*u.deg).degree, \n",
    "                      orbit_c.distance.to(u.kpc).value)\n",
    "def dist_func(phi1):\n",
    "    phi1 = coord.Angle(phi1)\n",
    "    return coord.Distance(_dist_func(phi1.wrap_at(180*u.deg).degree) * u.kpc)"
   ]
  },
  {
   "cell_type": "code",
   "execution_count": null,
   "metadata": {},
   "outputs": [],
   "source": [
    "tmp = c_tmp.transform_to(gc.GD1).phi1\n",
    "c = g.get_skycoord(distance=dist_func(tmp), \n",
    "                   radial_velocity=0*u.km/u.s)\n",
    "\n",
    "gd1_c_raw = c.transform_to(gc.GD1)\n",
    "gd1_c = gc.reflex_correct(gd1_c_raw)"
   ]
  },
  {
   "cell_type": "code",
   "execution_count": null,
   "metadata": {},
   "outputs": [],
   "source": [
    "phi1 = gd1_c.phi1.wrap_at(180*u.deg)\n",
    "phi2 = gd1_c.phi2\n",
    "pm1 = gd1_c.pm_phi1_cosphi2\n",
    "pm2 = gd1_c.pm_phi2"
   ]
  },
  {
   "cell_type": "markdown",
   "metadata": {},
   "source": [
    "## Color magnitude selection:\n",
    "\n",
    "Inial proper motion cut to roughly select stream stars"
   ]
  },
  {
   "cell_type": "code",
   "execution_count": null,
   "metadata": {},
   "outputs": [],
   "source": [
    "pm1_min = -9*u.mas/u.yr\n",
    "pm1_max = -4.*u.mas/u.yr\n",
    "pm2_min = -1.7*u.mas/u.yr\n",
    "pm2_max = 1.*u.mas/u.yr\n",
    "pm_mask1 = ((pm1 < pm1_max) & (pm1 > pm1_min) & \n",
    "            (pm2 < pm2_max) & (pm2 > pm2_min))"
   ]
  },
  {
   "cell_type": "markdown",
   "metadata": {},
   "source": [
    "Isochrone for CMD selection:"
   ]
  },
  {
   "cell_type": "code",
   "execution_count": null,
   "metadata": {},
   "outputs": [],
   "source": [
    "iso = Table.read('../data/mist_12.0_-1.35.cmd', format='ascii.commented_header', header_start=12)\n",
    "phasecut = (iso['phase']>=0) & (iso['phase']<3)\n",
    "iso = iso[phasecut]"
   ]
  },
  {
   "cell_type": "markdown",
   "metadata": {},
   "source": [
    "### First figure out what distance modulus and range of DM we should be sensitive to:\n",
    "\n",
    "We use the orbit fit to look at the range of distance over this region"
   ]
  },
  {
   "cell_type": "code",
   "execution_count": null,
   "metadata": {},
   "outputs": [],
   "source": [
    "_phi1 = orbit_c.phi1.wrap_at(180*u.deg)\n",
    "_phi1_mask = (_phi1 > -80*u.deg) & (_phi1 < 20*u.deg)\n",
    "orbit_dm = orbit_c.distance.distmod[_phi1_mask]\n",
    "med_dm = np.median(orbit_dm)\n",
    "ptp_dm = np.ptp(orbit_dm)\n",
    "print('min, max = ', orbit_dm.min(), orbit_dm.max())\n",
    "print('med, range = ', med_dm, ptp_dm)"
   ]
  },
  {
   "cell_type": "code",
   "execution_count": null,
   "metadata": {},
   "outputs": [],
   "source": [
    "# i_gi = iso['PS_g'] - iso['PS_i']\n",
    "# i_g = iso['PS_g'] + med_dm.value\n",
    "\n",
    "# i_left = i_gi - 0.2*(i_g/22)**5\n",
    "# i_right = i_gi + 0.3*(i_g/23)**5\n",
    "\n",
    "# poly = np.hstack([np.array([i_left, i_g - 0.5/2.]), \n",
    "#                   np.array([i_right[::-1], i_g[::-1] + 0.5/2.])]).T\n",
    "# ind = (poly[:,1]<21.3) & (poly[:,1]>15.5)\n",
    "# poly_main = poly[ind]\n",
    "# cmd_path_main = mpl.path.Path(poly_main)\n",
    "\n",
    "# distance modulus\n",
    "dm = coord.Distance(7.8*u.kpc).distmod.value\n",
    "\n",
    "# main sequence + rgb\n",
    "i_gi = iso['PS_g']-iso['PS_i']\n",
    "i_g = iso['PS_g']+dm\n",
    "np.save('../output/iso_shifted.npy', \n",
    "        np.vstack((i_gi, i_g)).T)\n",
    "\n",
    "i_left_gi = i_gi - 0.5*(i_g/28)**5\n",
    "i_right_gi = i_gi + 0.55*(i_g/28)**5\n",
    "# A = np.exp(-0.5 * ((i_gi - 0.4)**2/0.2**2 + (i_g - 18)**2/0.5**2))\n",
    "# i_left_g = i_g - 0.2 * A\n",
    "# i_right_g = i_g + 0.2 * A\n",
    "i_left_g = i_g\n",
    "i_right_g = i_g\n",
    "\n",
    "poly = np.hstack([np.array([i_left_gi, i_left_g]), np.array([i_right_gi[::-1], i_right_g[::-1]])]).T\n",
    "ind = (poly[:,1]<21.) & (poly[:,1]>17.8)\n",
    "poly_main = poly[ind]\n",
    "np.save('../output/iso_poly.npy', poly_main)\n",
    "cmd_path_main = mpl.path.Path(poly_main)"
   ]
  },
  {
   "cell_type": "code",
   "execution_count": null,
   "metadata": {},
   "outputs": [],
   "source": [
    "on_mask = np.abs(phi2-0.5*u.deg) < 1.5*u.deg\n",
    "off_mask = np.abs(phi2-3.5*u.deg) < 1.5*u.deg"
   ]
  },
  {
   "cell_type": "code",
   "execution_count": null,
   "metadata": {},
   "outputs": [],
   "source": [
    "for l in np.arange(-50, -10+1e-3, 10):\n",
    "    phi_mask1 = (phi1 > l*u.deg) & (phi1 < (l+10)*u.deg)\n",
    "\n",
    "    init_stream_mask = pm_mask1 & phi_mask1 & on_mask\n",
    "    init_ctrl_mask = pm_mask1 & phi_mask1 & off_mask\n",
    "\n",
    "    mean_DM = np.mean(gd1_c.distance[init_stream_mask]).distmod.value\n",
    "    fig, axes = plt.subplots(1, 4, figsize=(14, 5),\n",
    "                             constrained_layout=True, \n",
    "                             sharex=True, sharey=True)\n",
    "\n",
    "    for i, mask in enumerate([init_stream_mask, init_ctrl_mask]):\n",
    "        ax = axes[i]\n",
    "        ax.plot(g.g0[mask] - g.i0[mask], g.g0[mask], \n",
    "                color='k', marker='.', alpha=0.5, ls='none')\n",
    "\n",
    "        ax.plot(iso['PS_g']-iso['PS_i'],\n",
    "                iso['PS_g'] + mean_DM, \n",
    "                marker='')\n",
    "        \n",
    "        p = mpl.patches.Polygon(cmd_path_main.vertices, \n",
    "                                alpha=0.2, color='tab:orange')\n",
    "        ax.add_patch(p)\n",
    "\n",
    "#     for i, mask in enumerate([init_stream_mask, init_ctrl_mask]):\n",
    "#         ax = axes[i+2]\n",
    "#         ax.plot(g.r0[mask] - g.z0[mask], g.r0[mask], \n",
    "#                 color='k', marker='.', alpha=0.5, ls='none')\n",
    "\n",
    "#         ax.plot(iso['PS_r']-iso['PS_z'],\n",
    "#                 iso['PS_r'] + mean_DM, \n",
    "#                 marker='')\n",
    "\n",
    "    ax.set_xlim(-0.1, 1.1)\n",
    "    ax.set_ylim(21.5, 14)\n",
    "    fig.suptitle('{0:.0f}\u2013{1:.0f}'.format(l, l+10), fontsize=20)"
   ]
  },
  {
   "cell_type": "code",
   "execution_count": null,
   "metadata": {},
   "outputs": [],
   "source": [
    "points = np.vstack((g.g0 - g.i0, g.g0)).T\n",
    "cmd_mask = cmd_path_main.contains_points(points)"
   ]
  },
  {
   "cell_type": "code",
   "execution_count": null,
   "metadata": {},
   "outputs": [],
   "source": [
    "cmd_mask.sum()"
   ]
  },
  {
   "cell_type": "code",
   "execution_count": null,
   "metadata": {
    "scrolled": true
   },
   "outputs": [],
   "source": [
    "bins = (np.arange(-15, 5+1e-3, 0.25),\n",
    "        np.arange(-10, 10+1e-3, 0.25))\n",
    "norm = mpl.colors.LogNorm(vmin=1, vmax=100)\n",
    "\n",
    "fig, axes = plt.subplots(1, 3, figsize=(12, 4), \n",
    "                       sharex=True, sharey=True)\n",
    "\n",
    "ax = axes[0]\n",
    "_ph = (phi1 > -80*u.deg) & (phi1 < 10*u.deg) & (np.abs(phi2) < 1.5*u.deg)\n",
    "X1 = np.vstack((pm1.value[cmd_mask & _ph], pm2.value[cmd_mask & _ph])).T\n",
    "Xerr1 = g[cmd_mask & _ph].get_cov()[:, 3:5, 3:5]\n",
    "H1, xe, ye = np.histogram2d(X1[:, 0], X1[:, 1],\n",
    "                            bins=bins)\n",
    "ax.pcolormesh(xe, ye, H1.T, cmap='Greys', norm=norm)\n",
    "ax.set_xlim(-15, 5)\n",
    "ax.set_ylim(-10, 10)\n",
    "\n",
    "ax = axes[1]\n",
    "_ph = (phi1 > -80*u.deg) & (phi1 < 10*u.deg) & (np.abs(phi2-3.5*u.deg) < 1.5*u.deg)\n",
    "X2 = np.vstack((pm1.value[cmd_mask & _ph], pm2.value[cmd_mask & _ph])).T\n",
    "Xerr2 = g[cmd_mask & _ph].get_cov()[:, 3:5, 3:5]\n",
    "H2, xe, ye = np.histogram2d(X2[:, 0], X2[:, 1],\n",
    "                            bins=bins)\n",
    "ax.pcolormesh(xe, ye, H2.T, cmap='Greys', norm=norm)\n",
    "\n",
    "ax = axes[2]\n",
    "ax.pcolormesh(xe, ye, (H1 - H2).T, \n",
    "              cmap='RdBu', vmin=-5, vmax=5)"
   ]
  },
  {
   "cell_type": "code",
   "execution_count": null,
   "metadata": {},
   "outputs": [],
   "source": [
    "bw = 0.45\n",
    "kernel = 'epanechnikov'\n",
    "# kernel = 'gaussian'\n",
    "\n",
    "kde1 = KernelDensity(bandwidth=bw, kernel=kernel)\n",
    "_ = kde1.fit(X1)\n",
    "\n",
    "kde2 = KernelDensity(bandwidth=bw, kernel=kernel)\n",
    "_ = kde2.fit(X2)"
   ]
  },
  {
   "cell_type": "code",
   "execution_count": null,
   "metadata": {},
   "outputs": [],
   "source": [
    "xgrid, ygrid = np.meshgrid(np.linspace(-15, 5, 128), np.linspace(-10, 10, 128))"
   ]
  },
  {
   "cell_type": "code",
   "execution_count": null,
   "metadata": {},
   "outputs": [],
   "source": [
    "gridX = np.vstack((xgrid.ravel(), ygrid.ravel())).T"
   ]
  },
  {
   "cell_type": "code",
   "execution_count": null,
   "metadata": {},
   "outputs": [],
   "source": [
    "gridH1 = kde1.score_samples(gridX)\n",
    "gridH1 = gridH1.reshape(xgrid.shape)\n",
    "\n",
    "gridH2 = kde2.score_samples(gridX)\n",
    "gridH2 = gridH2.reshape(xgrid.shape)"
   ]
  },
  {
   "cell_type": "code",
   "execution_count": null,
   "metadata": {},
   "outputs": [],
   "source": [
    "fig, ax = plt.subplots(1, 1, figsize=(5, 5))\n",
    "ax.pcolormesh(xgrid, ygrid, np.exp(gridH1) - np.exp(gridH2), \n",
    "              vmin=-5e-3, vmax=5e-3)\n",
    "\n",
    "# shape\n",
    "nodes = np.array([[-9.1, -2.4],\n",
    "                  [-6.5, -2.4],\n",
    "                  [-6, -1],\n",
    "                  [-4.4, -1],\n",
    "                  [-3.8, 0.2],\n",
    "                  [-4.4, 1.7],\n",
    "                  [-9.1, 1.9]])\n",
    "np.save('../output/pm_poly.npy', nodes)\n",
    "pp = mpl.patches.Polygon(nodes, \n",
    "                         facecolor='none', edgecolor='k', linewidth=2)\n",
    "\n",
    "# rectangle\n",
    "# nodes = np.array([[-9, -1.7],\n",
    "#                   [-4.5, -1.7],\n",
    "#                   [-4.5, 1],\n",
    "#                   [-9, 1]])\n",
    "# pp = mpl.patches.Polygon(nodes, \n",
    "#                          facecolor='none', edgecolor='k', linewidth=2)\n",
    "\n",
    "ax.add_patch(pp)"
   ]
  },
  {
   "cell_type": "code",
   "execution_count": null,
   "metadata": {},
   "outputs": [],
   "source": [
    "pm_points = np.vstack((pm1.value, pm2.value)).T\n",
    "pm_mask = pp.get_path().contains_points(pm_points)"
   ]
  },
  {
   "cell_type": "code",
   "execution_count": null,
   "metadata": {
    "scrolled": true
   },
   "outputs": [],
   "source": [
    "fig, axes = plt.subplots(2, 1, figsize=(14, 5), \n",
    "                         sharex=True, sharey=True,\n",
    "                         constrained_layout=True)\n",
    "\n",
    "ax = axes[0]\n",
    "ax.plot(phi1[pm_mask], phi2[pm_mask], \n",
    "        marker='o', ms=1.5, ls='none', alpha=0.4, c='k')\n",
    "\n",
    "# ax.axhline(2, color='r')\n",
    "# ax.axhline(-1, color='r')\n",
    "\n",
    "ax = axes[1]\n",
    "ax.plot(phi1[cmd_mask & pm_mask], phi2[cmd_mask & pm_mask], \n",
    "        marker='o', ms=2, ls='none', alpha=0.75, c='k')\n",
    "\n",
    "# xxx = 50000\n",
    "# ax.plot(np.random.uniform(-100, 25, xxx),\n",
    "#         np.random.uniform(-10, 5, xxx),\n",
    "#         marker='o', ms=1.5, ls='none', alpha=0.4, c='k')\n",
    "# ax.plot(phi1[cmd_mask & pm_mask], phi2[cmd_mask & pm_mask], \n",
    "#         marker='o', ms=1.5, ls='none', alpha=0.4, c='k')\n",
    "\n",
    "# ax.set_xlim(-100, 25)\n",
    "# ax.set_ylim(-10, 5)\n",
    "ax.set_xlim(-90, 10)\n",
    "ax.set_ylim(-5, 5)\n",
    "\n",
    "for ax in axes:\n",
    "    ax.set_aspect('equal')"
   ]
  },
  {
   "cell_type": "code",
   "execution_count": null,
   "metadata": {},
   "outputs": [],
   "source": [
    "derp = (phi1 > -36*u.deg) & (phi1 < -30*u.deg)\n",
    "plt.figure()\n",
    "plt.hist(phi2[derp & cmd_mask & pm_mask], bins=np.linspace(-5, 5, 55));\n",
    "\n",
    "derp = (phi1 > (-36-10)*u.deg) & (phi1 < (-30-10)*u.deg)\n",
    "plt.figure()\n",
    "plt.hist(phi2[derp & cmd_mask & pm_mask], bins=np.linspace(-5, 5, 55));"
   ]
  },
  {
   "cell_type": "markdown",
   "metadata": {},
   "source": [
    "### Output table with masks:"
   ]
  },
  {
   "cell_type": "code",
   "execution_count": null,
   "metadata": {},
   "outputs": [],
   "source": [
    "final_phi1_mask = (phi1 > -100*u.deg) & (phi1 < 25*u.deg)\n",
    "\n",
    "final_t = g.data[final_phi1_mask]\n",
    "final_t['pm_mask'] = pm_mask[final_phi1_mask]\n",
    "final_t['gi_cmd_mask'] = cmd_mask[final_phi1_mask]\n",
    "\n",
    "final_t['phi1'] = phi1[final_phi1_mask]\n",
    "final_t['phi2'] = phi2[final_phi1_mask]\n",
    "\n",
    "final_t['pm_phi1_cosphi2_no_reflex'] = pm1[final_phi1_mask]\n",
    "final_t['pm_phi2_no_reflex'] = pm2[final_phi1_mask]\n",
    "\n",
    "final_t['pm_phi1_cosphi2'] = gd1_c_raw.pm_phi1_cosphi2[final_phi1_mask]\n",
    "final_t['pm_phi2'] = gd1_c_raw.pm_phi2[final_phi1_mask]\n",
    "\n",
    "len(final_t)"
   ]
  },
  {
   "cell_type": "code",
   "execution_count": null,
   "metadata": {},
   "outputs": [],
   "source": [
    "final_t.write('../data/gd1-with-masks.fits')"
   ]
  },
  {
   "cell_type": "code",
   "execution_count": null,
   "metadata": {},
   "outputs": [],
   "source": [
    "final_t.colnames"
   ]
  },
  {
   "cell_type": "code",
   "execution_count": null,
   "metadata": {},
   "outputs": [],
   "source": []
  }
 ],
 "metadata": {
  "kernelspec": {
   "display_name": "Python [default]",
   "language": "python",
   "name": "python3"
  },
  "language_info": {
   "codemirror_mode": {
    "name": "ipython",
    "version": 3
   },
   "file_extension": ".py",
   "mimetype": "text/x-python",
   "name": "python",
   "nbconvert_exporter": "python",
   "pygments_lexer": "ipython3",
   "version": "3.6.4"
  }
 },
 "nbformat": 4,
 "nbformat_minor": 2
}