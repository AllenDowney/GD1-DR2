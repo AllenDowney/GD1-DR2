{
 "cells": [
  {
   "cell_type": "code",
   "execution_count": null,
   "metadata": {},
   "outputs": [],
   "source": [
    "from os import path\n",
    "\n",
    "# Third-party\n",
    "import astropy.coordinates as coord\n",
    "from astropy.table import Table, vstack\n",
    "from astropy.io import fits\n",
    "import astropy.units as u\n",
    "import matplotlib as mpl\n",
    "import matplotlib.pyplot as plt\n",
    "import numpy as np\n",
    "%matplotlib inline\n",
    "\n",
    "from pyia import GaiaData\n",
    "\n",
    "import gala.coordinates as gc\n",
    "import gala.dynamics as gd\n",
    "from scipy.stats import binned_statistic"
   ]
  },
  {
   "cell_type": "markdown",
   "metadata": {},
   "source": [
    "Load data:"
   ]
  },
  {
   "cell_type": "code",
   "execution_count": null,
   "metadata": {},
   "outputs": [],
   "source": [
    "g = GaiaData('../data/gd1-with-masks.fits')\n",
    "g = g[g.phi2 > -8*u.deg]"
   ]
  },
  {
   "cell_type": "code",
   "execution_count": null,
   "metadata": {},
   "outputs": [],
   "source": [
    "pm_mask = g.pm_mask\n",
    "cmd_mask = g.gi_cmd_mask\n",
    "stream_mask = pm_mask & cmd_mask"
   ]
  },
  {
   "cell_type": "code",
   "execution_count": null,
   "metadata": {},
   "outputs": [],
   "source": [
    "(stream_mask).sum()"
   ]
  },
  {
   "cell_type": "code",
   "execution_count": null,
   "metadata": {},
   "outputs": [],
   "source": [
    "phi1 = g.phi1\n",
    "phi2 = g.phi2\n",
    "pm1 = g.pm_phi1_cosphi2\n",
    "pm2 = g.pm_phi2"
   ]
  },
  {
   "cell_type": "markdown",
   "metadata": {},
   "source": [
    "---\n",
    "\n",
    "## Stream track"
   ]
  },
  {
   "cell_type": "code",
   "execution_count": null,
   "metadata": {},
   "outputs": [],
   "source": [
    "fig, ax = plt.subplots(1, 1, figsize=(15, 2))\n",
    "\n",
    "ax.plot(phi1[stream_mask],\n",
    "        phi2[stream_mask], \n",
    "        linestyle='none', alpha=0.4, c='k')\n",
    "\n",
    "ax.set_xlim(-100, 20)\n",
    "ax.set_ylim(-8, 5)\n",
    "\n",
    "ax.set_aspect('equal')"
   ]
  },
  {
   "cell_type": "markdown",
   "metadata": {},
   "source": [
    "### First, compute the stream track:"
   ]
  },
  {
   "cell_type": "code",
   "execution_count": null,
   "metadata": {},
   "outputs": [],
   "source": [
    "phi2_wide_mask = stream_mask & (phi2 < 2.*u.deg) & (phi2 > -5.*u.deg)\n",
    "\n",
    "fig, ax = plt.subplots(1, 1, figsize=(15, 2))\n",
    "\n",
    "ax.plot(phi1[phi2_wide_mask],\n",
    "        phi2[phi2_wide_mask], \n",
    "        linestyle='none', alpha=0.4, c='k')\n",
    "\n",
    "ax.set_xlim(-100, 20)\n",
    "ax.set_ylim(-8, 5)\n",
    "\n",
    "ax.set_aspect('equal')"
   ]
  },
  {
   "cell_type": "code",
   "execution_count": null,
   "metadata": {},
   "outputs": [],
   "source": [
    "# bin_size = 4 # deg\n",
    "# bin_l = np.arange(-80, (0-bin_size)+1, 2.)\n",
    "# # bin_size = 8 # deg\n",
    "# # bin_l = np.arange(-85, (10-bin_size)+1, 4)\n",
    "# bin_r = bin_l + bin_size\n",
    "# bin_c = 0.5 * (bin_l+bin_r)\n",
    "# len(bin_r)"
   ]
  },
  {
   "cell_type": "code",
   "execution_count": null,
   "metadata": {},
   "outputs": [],
   "source": [
    "bins_nonoverlap = np.arange(-90, (20-bin_size)+1, bin_size)\n",
    "cen_phi1 = 0.5 * (bins_nonoverlap[:-1] + bins_nonoverlap[1:])\n",
    "\n",
    "# median track\n",
    "phi2_median, be, bn = binned_statistic((phi1[phi2_wide_mask]), \n",
    "                                        phi2[phi2_wide_mask], \n",
    "                                        statistic='median', bins=bins_nonoverlap)\n",
    "phi2_sum, be = np.histogram((phi1[phi2_wide_mask]), \n",
    "                            bins=bins_nonoverlap)\n",
    "phi2_median_err = np.abs(phi2_median) / np.sqrt(phi2_sum)"
   ]
  },
  {
   "cell_type": "code",
   "execution_count": null,
   "metadata": {},
   "outputs": [],
   "source": [
    "phi2_median[0] = -3.1\n",
    "phi2_median[1] = -2.8\n",
    "phi2_median[2] = -2.55\n",
    "phi2_median[3] = -1.9\n",
    "phi2_median[4] = -1.7\n",
    "phi2_median[5] = -1.5\n",
    "phi2_median[6] = -1.\n",
    "\n",
    "phi2_median[-9] = -0.1\n",
    "\n",
    "phi2_median[-2] = -2.1\n",
    "phi2_median[-1] = -2.4"
   ]
  },
  {
   "cell_type": "code",
   "execution_count": null,
   "metadata": {},
   "outputs": [],
   "source": [
    "deg = 4\n",
    "ptrack = np.polyfit(cen_phi1, phi2_median, deg, w=1 / np.sqrt(phi2_sum))\n",
    "\n",
    "polytrack = np.poly1d(ptrack)\n",
    "phi1_ = np.linspace(-100, 20, 100)\n",
    "phi2_ = polytrack(phi1_)\n",
    "\n",
    "np.save('../output/polytrack.npy', ptrack.tolist())"
   ]
  },
  {
   "cell_type": "code",
   "execution_count": null,
   "metadata": {},
   "outputs": [],
   "source": [
    "plt.figure(figsize=(13, 6))\n",
    "plt.plot(phi1[phi2_wide_mask], \n",
    "         phi2[phi2_wide_mask], \n",
    "         'ko', ms=3, alpha=0.6, rasterized=True)\n",
    "# plt.gca().set_aspect('equal')\n",
    "\n",
    "plt.errorbar(cen_phi1, phi2_median, yerr=phi2_median_err, fmt='o', color='tab:red')\n",
    "plt.plot(phi1_, phi2_, '-', color='tab:blue')\n",
    "\n",
    "plt.xlabel('$\\phi_1$ (deg)')\n",
    "plt.ylabel('$\\phi_2$ (deg)')\n",
    "plt.xlim(-100, 20)\n",
    "plt.ylim(-5, 5)\n",
    "\n",
    "plt.tight_layout()"
   ]
  },
  {
   "cell_type": "code",
   "execution_count": null,
   "metadata": {},
   "outputs": [],
   "source": [
    "delta_phi2 = 1.5\n",
    "\n",
    "plt.figure(figsize=(13, 6))\n",
    "plt.plot(phi1[phi2_wide_mask], \n",
    "         phi2[phi2_wide_mask], \n",
    "         'ko', ms=3, alpha=0.6, rasterized=True)\n",
    "# plt.gca().set_aspect('equal')\n",
    "\n",
    "plt.plot(phi1_, phi2_ + delta_phi2, '-', color='tab:blue')\n",
    "plt.plot(phi1_, phi2_ - delta_phi2, '-', color='tab:blue')\n",
    "\n",
    "plt.xlabel('$\\phi_1$ (deg)')\n",
    "plt.ylabel('$\\phi_2$ (deg)')\n",
    "plt.xlim(-90, 10)\n",
    "plt.ylim(-5, 5)\n",
    "\n",
    "plt.tight_layout()"
   ]
  },
  {
   "cell_type": "code",
   "execution_count": null,
   "metadata": {},
   "outputs": [],
   "source": [
    "plt.figure(figsize=(13,6))\n",
    "\n",
    "_phi1 = phi1[phi2_wide_mask]\n",
    "dphi2 = phi2[phi2_wide_mask].value - polytrack(_phi1)\n",
    "\n",
    "res15 = binned_statistic(_phi1, dphi2, bins=25, \n",
    "                         statistic=lambda x: np.percentile(x, 15))\n",
    "res85 = binned_statistic(_phi1, dphi2, bins=25,\n",
    "                         statistic=lambda x: np.percentile(x, 85))\n",
    "\n",
    "plt.plot(_phi1, dphi2,\n",
    "         'ko', ms=3, alpha=0.6, rasterized=True)\n",
    "\n",
    "plt.plot(0.5 * (res15.bin_edges[:-1] + res15.bin_edges[1:]), \n",
    "         res15.statistic, marker='')\n",
    "plt.plot(0.5 * (res85.bin_edges[:-1] + res85.bin_edges[1:]), \n",
    "         res85.statistic, marker='')\n",
    "\n",
    "# plt.gca().set_aspect('equal')\n",
    "\n",
    "plt.xlabel('$\\phi_1$ (deg)')\n",
    "plt.ylabel('$\\phi_2$ (deg)')\n",
    "plt.xlim(-90, 10)\n",
    "plt.ylim(-2, 2)\n",
    "\n",
    "plt.axhline(0., zorder=-10, color='tab:blue')\n",
    "plt.axvline(-13.5)\n",
    "plt.tight_layout()"
   ]
  },
  {
   "cell_type": "code",
   "execution_count": null,
   "metadata": {},
   "outputs": [],
   "source": [
    "def mad_std(x):\n",
    "    \"\"\"Median absolute deviation\"\"\"\n",
    "    return 1.5 * np.median(np.abs(np.median(x)-x))"
   ]
  },
  {
   "cell_type": "code",
   "execution_count": null,
   "metadata": {},
   "outputs": [],
   "source": [
    "off_phi2 = 2.5"
   ]
  },
  {
   "cell_type": "code",
   "execution_count": null,
   "metadata": {},
   "outputs": [],
   "source": [
    "bin_size = 4 # deg\n",
    "bin_l = np.arange(-90, (10-bin_size)+1, 2.)\n",
    "bin_r = bin_l + bin_size\n",
    "bins_phi1 = 0.5 * (bin_l+bin_r)\n",
    "\n",
    "Nbins = len(bin_l)\n",
    "n = np.zeros(Nbins)\n",
    "n_back = np.zeros(Nbins)\n",
    "w = np.zeros(Nbins)*u.deg\n",
    "rmed_phi2 = np.zeros(Nbins)*u.deg\n",
    "rmed_pmphi1 = np.zeros(Nbins)*u.mas/u.yr\n",
    "rmed_pmphi2 = np.zeros(Nbins)*u.mas/u.yr\n",
    "rmed_pmphi1_err = np.zeros(Nbins)*u.mas/u.yr\n",
    "rmed_pmphi2_err = np.zeros(Nbins)*u.mas/u.yr\n",
    "\n",
    "phi2_poly = polytrack(phi1[pm_mask & cmd_mask].value)\n",
    "\n",
    "_phi1 = phi1[pm_mask & cmd_mask].value\n",
    "for i, l, r in zip(range(Nbins), bin_l, bin_r):\n",
    "    sel_bin = (_phi1 > l) & (_phi1 <= r)\n",
    "    sel_stream = (np.abs(phi2[pm_mask & cmd_mask].to(u.deg).value - phi2_poly) < delta_phi2)\n",
    "    sel_back = ((np.abs(phi2[pm_mask & cmd_mask].to(u.deg).value - phi2_poly - off_phi2)<delta_phi2) |\n",
    "                (np.abs(phi2[pm_mask & cmd_mask].to(u.deg).value - phi2_poly + off_phi2)<delta_phi2))\n",
    "    selection = sel_bin & sel_stream\n",
    "    \n",
    "    n[i] = np.sum(selection)\n",
    "    n_back[i] = np.sum(sel_bin & sel_back) * 0.5\n",
    "    \n",
    "    rmed_phi2[i] = np.nanmedian(phi2[pm_mask & cmd_mask][selection])\n",
    "    w[i] = mad_std(phi2[pm_mask & cmd_mask][selection])\n",
    "    \n",
    "    rmed_pmphi1[i] = np.nanmedian(pm1[pm_mask & cmd_mask][selection])\n",
    "    rmed_pmphi1_err[i] = mad_std(pm1[pm_mask & cmd_mask][selection])\n",
    "    \n",
    "    rmed_pmphi2[i] = np.nanmedian(pm2[pm_mask & cmd_mask][selection])\n",
    "    rmed_pmphi2_err[i] = mad_std(pm2[pm_mask & cmd_mask][selection])\n",
    "    \n",
    "density = (n-n_back)/(2*delta_phi2*bin_size)"
   ]
  },
  {
   "cell_type": "code",
   "execution_count": null,
   "metadata": {},
   "outputs": [],
   "source": [
    "fig, axes = plt.subplots(4, 1, figsize=(8,10), sharex=True)\n",
    "\n",
    "ax = axes[0]\n",
    "ax.plot(phi1[phi2_wide_mask], \n",
    "        phi2[phi2_wide_mask], \n",
    "        'ko', ms=2, alpha=0.6, rasterized=True)\n",
    "\n",
    "ax.plot(phi1_, phi2_+delta_phi2, '-', color='tab:blue')\n",
    "ax.plot(phi1_, phi2_-delta_phi2, '-', color='tab:blue')\n",
    "ax.text(-83, 1.5, 'filtered data', ha='left', va='top', \n",
    "        bbox=dict(facecolor='w', alpha=1), fontsize=16)\n",
    "ax.set_ylabel('$\\phi_2$\\n[deg]')\n",
    "ax.set_ylim(-4, 2)\n",
    "\n",
    "ax.text(8, 1.5, '(a)', ha='right', va='top', \n",
    "        bbox=dict(facecolor='w', alpha=1), fontsize=16)\n",
    "\n",
    "ax = axes[1]\n",
    "ax.plot(bins_phi1, density, '-', label='data')\n",
    "ax.fill_between(bins_phi1, density*(1-1/np.sqrt(n)), density*(1+1/np.sqrt(n)), \n",
    "                color='tab:blue', alpha=0.3)\n",
    "ax.axhline(0, zorder=-10, alpha=0.2)\n",
    "ax.set_ylabel('surface\\ndensity\\n[deg$^{-2}$]')\n",
    "\n",
    "ax.text(8, 18, '(c)', ha='right', va='top', \n",
    "        bbox=dict(facecolor='w', alpha=1), fontsize=16)\n",
    "\n",
    "ax = axes[2]\n",
    "ax.plot(bins_phi1, rmed_pmphi1, '-')\n",
    "ax.fill_between(bins_phi1, rmed_pmphi1-rmed_pmphi1_err, rmed_pmphi1+rmed_pmphi1_err, \n",
    "                color='tab:blue', alpha=0.3)\n",
    "\n",
    "ax.set_ylabel('$\\mu_{\\phi_1}$\\n[mas yr$^{-1}$]')\n",
    "\n",
    "ax.text(8, -13.5, '(d)', ha='right', va='bottom', \n",
    "        bbox=dict(facecolor='w', alpha=1), fontsize=16)\n",
    "\n",
    "ax = axes[3]\n",
    "ax.plot(bins_phi1, rmed_pmphi2, '-')\n",
    "ax.fill_between(bins_phi1, rmed_pmphi2-rmed_pmphi2_err, rmed_pmphi2+rmed_pmphi2_err, \n",
    "                color='tab:blue', alpha=0.3)\n",
    "\n",
    "ax.set_xlabel('$\\phi_1$ [deg]')\n",
    "ax.set_ylabel('$\\mu_{\\phi_2}$\\n[mas yr$^{-1}$]')\n",
    "\n",
    "ax.text(8, -4.5, '(e)', ha='right', va='bottom', \n",
    "        bbox=dict(facecolor='w', alpha=1), fontsize=16)\n",
    "\n",
    "axes[0].set_xlim(-85, 10)\n",
    "\n",
    "fig.tight_layout()"
   ]
  },
  {
   "cell_type": "code",
   "execution_count": null,
   "metadata": {},
   "outputs": [],
   "source": [
    "# Write out the track properties:\n",
    "\n",
    "# output table w track observables\n",
    "ttrack = Table([bins_phi1, n, n_back, density, rmed_phi2, w, rmed_pmphi1, rmed_pmphi1_err, rmed_pmphi2, rmed_pmphi2_err],\n",
    "              names=('phi1', 'n', 'n_back', 'density', 'phi2', 'w', 'pm_phi1_cosphi2', 'pm_phi1_cosphi2_error', \n",
    "                     'pm_phi2', 'pm_phi2_error'))\n",
    "# skip 0th row because nan\n",
    "ttrack.write('../output/stream_track.fits', overwrite=True)"
   ]
  },
  {
   "cell_type": "code",
   "execution_count": null,
   "metadata": {},
   "outputs": [],
   "source": [
    "len(ttrack)"
   ]
  },
  {
   "cell_type": "code",
   "execution_count": null,
   "metadata": {},
   "outputs": [],
   "source": [
    "len(Table.read('../data/track.fits'))"
   ]
  },
  {
   "cell_type": "code",
   "execution_count": null,
   "metadata": {},
   "outputs": [],
   "source": []
  }
 ],
 "metadata": {
  "kernelspec": {
   "display_name": "Python [default]",
   "language": "python",
   "name": "python3"
  },
  "language_info": {
   "codemirror_mode": {
    "name": "ipython",
    "version": 3
   },
   "file_extension": ".py",
   "mimetype": "text/x-python",
   "name": "python",
   "nbconvert_exporter": "python",
   "pygments_lexer": "ipython3",
   "version": "3.6.4"
  }
 },
 "nbformat": 4,
 "nbformat_minor": 2
}