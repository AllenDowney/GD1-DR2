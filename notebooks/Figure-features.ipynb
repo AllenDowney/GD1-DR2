{
 "cells": [
  {
   "cell_type": "markdown",
   "metadata": {},
   "source": [
    "See [2-select-GD1-stars.ipynb](2-select-GD1-stars.ipynb) to see details about the selection."
   ]
  },
  {
   "cell_type": "code",
   "execution_count": null,
   "metadata": {},
   "outputs": [],
   "source": [
    "from os import path\n",
    "\n",
    "# Third-party\n",
    "import astropy.coordinates as coord\n",
    "from astropy.table import Table, vstack\n",
    "from astropy.io import fits\n",
    "import astropy.units as u\n",
    "import matplotlib as mpl\n",
    "import matplotlib.pyplot as plt\n",
    "import numpy as np\n",
    "%matplotlib inline\n",
    "\n",
    "from pyia import GaiaData\n",
    "import gala.coordinates as gc"
   ]
  },
  {
   "cell_type": "code",
   "execution_count": null,
   "metadata": {
    "scrolled": true
   },
   "outputs": [],
   "source": [
    "# plt.style.use('gd1_paper')\n",
    "plt.rcParams['font.size'] = 20.0"
   ]
  },
  {
   "cell_type": "markdown",
   "metadata": {},
   "source": [
    "Load data:"
   ]
  },
  {
   "cell_type": "code",
   "execution_count": null,
   "metadata": {},
   "outputs": [],
   "source": [
    "g = GaiaData('../data/gd1-with-masks.fits')\n",
    "g = g[g.phi2 > -8*u.deg]"
   ]
  },
  {
   "cell_type": "code",
   "execution_count": null,
   "metadata": {},
   "outputs": [],
   "source": [
    "pm_mask = g.pm_mask\n",
    "cmd_mask = g.gi_cmd_mask"
   ]
  },
  {
   "cell_type": "code",
   "execution_count": null,
   "metadata": {},
   "outputs": [],
   "source": [
    "(pm_mask & cmd_mask).sum()"
   ]
  },
  {
   "cell_type": "markdown",
   "metadata": {},
   "source": [
    "Load isochrone and proper motion selection polygons:"
   ]
  },
  {
   "cell_type": "code",
   "execution_count": null,
   "metadata": {},
   "outputs": [],
   "source": [
    "iso = np.load('../output/iso_shifted.npy')\n",
    "cmd_poly = np.load('../output/iso_poly.npy')\n",
    "pm_poly = np.load('../output/pm_poly.npy')"
   ]
  },
  {
   "cell_type": "code",
   "execution_count": null,
   "metadata": {},
   "outputs": [],
   "source": [
    "polystyle = dict(color='tab:orange', alpha=0.3, linewidth=0)\n",
    "ptstyle = dict(color='k', marker='o', linewidth=0, \n",
    "               markersize=2, alpha=0.15, rasterized=True)"
   ]
  },
  {
   "cell_type": "code",
   "execution_count": null,
   "metadata": {},
   "outputs": [],
   "source": [
    "phi1_lim = (-90, 10)\n",
    "phi2_lim = (-6.5, 5.5)\n",
    "\n",
    "pm1_lim = (-15, 5)\n",
    "pm2_lim = (-10, 10)\n",
    "\n",
    "gi_lim = (-0.1, 1.1)\n",
    "g_lim = (21.2, 16.8)"
   ]
  },
  {
   "cell_type": "markdown",
   "metadata": {},
   "source": [
    "## Features"
   ]
  },
  {
   "cell_type": "code",
   "execution_count": null,
   "metadata": {},
   "outputs": [],
   "source": [
    "phi1 = g.phi1\n",
    "phi2 = g.phi2\n",
    "pm1 = g.pm_phi1_cosphi2_no_reflex\n",
    "pm2 = g.pm_phi2_no_reflex"
   ]
  },
  {
   "cell_type": "code",
   "execution_count": null,
   "metadata": {},
   "outputs": [],
   "source": [
    "titles = ['Stream', 'Stream', 'Spur', 'Off spur', 'Stream', 'Blob', 'Off blob', 'Off blob 2']\n",
    "\n",
    "# phi1_min = np.array([-64, -37, -37, -37, -20, -20, -20, -20])*u.deg\n",
    "# phi1_max = np.array([-56, -29, -29, -29, -12, -12, -12, -12])*u.deg\n",
    "phi1_min = np.array([-64, -37, -37, -37, -19, -19, -19, -19])*u.deg\n",
    "phi1_max = np.array([-56, -29, -29, -29, -11, -11, -11, -11])*u.deg\n",
    "phi2_min = np.array([-1.7, -0.4, 0.5, -1.9, -0.6, -2, 0.3, 1.7])*u.deg\n",
    "phi2_max = np.array([0.3, 0.5, 2, -0.4, 0.3, -0.6, 1.7, 3.1])*u.deg\n",
    "Npos = np.size(phi1_min)\n",
    "\n",
    "pos_masks = []\n",
    "for i in range(Npos):\n",
    "    pos_masks = pos_masks + [((g.phi1<phi1_max[i]) & (g.phi1>phi1_min[i]) &\n",
    "            (g.phi2<phi2_max[i]) & (g.phi2>phi2_min[i]))]"
   ]
  },
  {
   "cell_type": "code",
   "execution_count": null,
   "metadata": {},
   "outputs": [],
   "source": [
    "outer_grid = mpl.gridspec.GridSpec(3, 1, wspace=0.0, hspace=0.35)\n",
    "top_row = mpl.gridspec.GridSpecFromSubplotSpec(1, 6, subplot_spec=outer_grid[0], wspace=0.5, hspace=0.05,\n",
    "                                              width_ratios=[1,2,1,2,1,2])\n",
    "middle_row = mpl.gridspec.GridSpecFromSubplotSpec(1, 1, subplot_spec=outer_grid[1], wspace=0.35, hspace=0.05)\n",
    "bottom_row = mpl.gridspec.GridSpecFromSubplotSpec(1, 6, subplot_spec=outer_grid[2], wspace=0.5, hspace=0.05,\n",
    "                                                 width_ratios=[1,2,1,2,1,2])\n",
    "\n",
    "fig = plt.figure(figsize=(18,12))\n",
    "ax = plt.Subplot(fig, middle_row[0])\n",
    "ax_main = fig.add_subplot(ax)\n",
    "\n",
    "plt.plot(phi1[pm_mask & cmd_mask], phi2[pm_mask & cmd_mask],\n",
    "         'ko', ms=2, alpha=0.5, rasterized=True)\n",
    "plt.gca().set_aspect('equal')\n",
    "\n",
    "plt.xlabel('$\\phi_1$ [deg]')\n",
    "plt.ylabel('$\\phi_2$ [deg]')\n",
    "plt.xlim(phi1_lim)\n",
    "plt.ylim(phi2_lim)\n",
    "\n",
    "rows = [top_row, bottom_row]\n",
    "positions = [[1,2,3], [4,5,6]]\n",
    "cmaps = [mpl.cm.Purples_r, mpl.cm.Blues_r]\n",
    "ci = [0.1, 0.4, 0.7]\n",
    "\n",
    "axes = []\n",
    "\n",
    "for er, row in enumerate(rows):\n",
    "    for e, i in enumerate(positions[er]):\n",
    "        plt.sca(ax_main)\n",
    "        rect_xy_ = [phi1_min[i].to(u.deg).value, phi2_min[i].to(u.deg).value]\n",
    "        rect_w_ = phi1_max[i].to(u.deg).value - phi1_min[i].to(u.deg).value\n",
    "        rect_h_ = phi2_max[i].to(u.deg).value - phi2_min[i].to(u.deg).value\n",
    "        rect_c_ = cmaps[er](ci[e])\n",
    "        \n",
    "        pr = mpl.patches.Rectangle(rect_xy_, rect_w_, rect_h_, ec=rect_c_, lw=2, color=rect_c_, alpha=0.2)\n",
    "        plt.gca().add_artist(pr)\n",
    "        \n",
    "        ax = plt.Subplot(fig, row[2*e])\n",
    "        ax_1 = fig.add_subplot(ax)\n",
    "        pos1 = ax_1.get_position()\n",
    "        \n",
    "        plt.plot(g.g0[pos_masks[i] & pm_mask] - g.i0[pos_masks[i] & pm_mask], \n",
    "                 g.g0[pos_masks[i] & pm_mask], 'ko', ms=1, alpha=0.5)\n",
    "\n",
    "        pm = mpl.patches.Polygon(cmd_poly, **polystyle)\n",
    "        plt.gca().add_artist(pm)\n",
    "\n",
    "        plt.xlim(gi_lim)\n",
    "        plt.ylim(g_lim)\n",
    "        plt.xlabel('$(g - i)_0$')\n",
    "        plt.ylabel('$g_0$')\n",
    "        \n",
    "\n",
    "        ax = plt.Subplot(fig, row[2*e+1])\n",
    "        ax_2 = fig.add_subplot(ax)\n",
    "        pos2 = ax_2.get_position()\n",
    "\n",
    "        plt.plot(pm1[pos_masks[i] & cmd_mask].to(u.mas/u.yr), \n",
    "                 pm2[pos_masks[i] & cmd_mask].to(u.mas/u.yr),  'ko', ms=1, alpha=0.5)\n",
    "\n",
    "        # pr = mpl.patches.Rectangle(rect_xy, rect_w, rect_h, color='orange', alpha=0.3)\n",
    "        pr = mpl.patches.Polygon(pm_poly, **polystyle)\n",
    "        plt.gca().add_artist(pr)\n",
    "        \n",
    "        x1 = pos1.x0\n",
    "        y1 = pos1.y1\n",
    "        w = pos2.x1 - pos1.x0\n",
    "        fig.patches.extend([plt.Rectangle((x1,y1), w, 0.007,\n",
    "                                  fill=True, color=rect_c_, alpha=0.5, zorder=1000,\n",
    "                                  transform=fig.transFigure, figure=fig)])\n",
    "\n",
    "        plt.xlim(-12,12)\n",
    "        plt.ylim(-12,12)\n",
    "        plt.xlabel('$\\mu_{\\phi_1}$ [mas yr$^{-1}$]')\n",
    "        plt.ylabel('$\\mu_{\\phi_2}$ [mas yr$^{-1}$]', labelpad=-15)\n",
    "        plt.title(titles[i], fontsize='medium', position=(-0., 1.05))\n",
    "        \n",
    "        if e==1:\n",
    "            if er==0:\n",
    "                xy_text_1 = [rect_xy_[0], rect_xy_[1] + rect_h_]\n",
    "                xy_text_2 = [rect_xy_[0] + rect_w_, rect_xy_[1] + rect_h_]\n",
    "                xy_coord_1 = [0,0]\n",
    "                xy_coord_2 = [1,0]\n",
    "            else:\n",
    "                xy_text_1 = [rect_xy_[0], rect_xy_[1]]\n",
    "                xy_text_2 = [rect_xy_[0] + rect_w_, rect_xy_[1]]\n",
    "                xy_coord_1 = [0,1]\n",
    "                xy_coord_2 = [1,1]\n",
    "                \n",
    "            ax_main.annotate('',xy=xy_coord_1, xytext=xy_text_1, xycoords=ax_1.transAxes, \n",
    "                             textcoords=ax_main.transData,\n",
    "                            arrowprops=dict(color=rect_c_, arrowstyle='-', alpha=0.2, lw=3))\n",
    "            ax_main.annotate('',xy=xy_coord_2, xytext=xy_text_2, xycoords=ax_2.transAxes, \n",
    "                             textcoords=ax_main.transData,\n",
    "                            arrowprops=dict(color=rect_c_, arrowstyle='-', alpha=0.2, lw=3))\n",
    "\n",
    "# plt.savefig('../paper/features.pdf')"
   ]
  },
  {
   "cell_type": "code",
   "execution_count": null,
   "metadata": {},
   "outputs": [],
   "source": []
  }
 ],
 "metadata": {
  "kernelspec": {
   "display_name": "Python [default]",
   "language": "python",
   "name": "python3"
  },
  "language_info": {
   "codemirror_mode": {
    "name": "ipython",
    "version": 3
   },
   "file_extension": ".py",
   "mimetype": "text/x-python",
   "name": "python",
   "nbconvert_exporter": "python",
   "pygments_lexer": "ipython3",
   "version": "3.6.4"
  }
 },
 "nbformat": 4,
 "nbformat_minor": 2
}