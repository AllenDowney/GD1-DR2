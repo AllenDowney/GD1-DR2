{
 "cells": [
  {
   "cell_type": "markdown",
   "metadata": {},
   "source": [
    "See [2-select-GD1-stars.ipynb](2-select-GD1-stars.ipynb) to see details about the selection."
   ]
  },
  {
   "cell_type": "code",
   "execution_count": null,
   "metadata": {},
   "outputs": [],
   "source": [
    "from os import path\n",
    "\n",
    "# Third-party\n",
    "import astropy.coordinates as coord\n",
    "from astropy.table import Table, vstack\n",
    "from astropy.io import fits\n",
    "import astropy.units as u\n",
    "import matplotlib as mpl\n",
    "import matplotlib.pyplot as plt\n",
    "import numpy as np\n",
    "%matplotlib inline\n",
    "\n",
    "from pyia import GaiaData\n",
    "import gala.coordinates as gc\n",
    "import scipy.stats"
   ]
  },
  {
   "cell_type": "code",
   "execution_count": null,
   "metadata": {
    "scrolled": true
   },
   "outputs": [],
   "source": [
    "# plt.style.use('gd1_paper')\n",
    "plt.rcParams['font.size'] = 20.0"
   ]
  },
  {
   "cell_type": "markdown",
   "metadata": {},
   "source": [
    "Load data:"
   ]
  },
  {
   "cell_type": "code",
   "execution_count": null,
   "metadata": {},
   "outputs": [],
   "source": [
    "g = GaiaData('../data/gd1-with-masks.fits')\n",
    "g = g[g.phi2 > -8*u.deg]"
   ]
  },
  {
   "cell_type": "code",
   "execution_count": null,
   "metadata": {},
   "outputs": [],
   "source": [
    "pm_mask = g.pm_mask\n",
    "cmd_mask = g.gi_cmd_mask"
   ]
  },
  {
   "cell_type": "code",
   "execution_count": null,
   "metadata": {},
   "outputs": [],
   "source": [
    "(pm_mask & cmd_mask).sum()"
   ]
  },
  {
   "cell_type": "markdown",
   "metadata": {},
   "source": [
    "Load isochrone and proper motion selection polygons:"
   ]
  },
  {
   "cell_type": "code",
   "execution_count": null,
   "metadata": {},
   "outputs": [],
   "source": [
    "iso = np.load('../output/iso_shifted.npy')\n",
    "cmd_poly = np.load('../output/iso_poly.npy')\n",
    "pm_poly = np.load('../output/pm_poly.npy')"
   ]
  },
  {
   "cell_type": "code",
   "execution_count": null,
   "metadata": {},
   "outputs": [],
   "source": [
    "phi_mask_stream = ((np.abs(g.phi2--0.5*u.deg) < 0.75*u.deg) & (g.phi1>-50*u.deg) & (g.phi1<-10*u.deg))"
   ]
  },
  {
   "cell_type": "code",
   "execution_count": null,
   "metadata": {},
   "outputs": [],
   "source": [
    "polystyle = dict(color='tab:orange', alpha=0.3, linewidth=0)\n",
    "ptstyle = dict(color='k', marker='o', linewidth=0, \n",
    "               markersize=2, alpha=0.15, rasterized=True)"
   ]
  },
  {
   "cell_type": "code",
   "execution_count": null,
   "metadata": {},
   "outputs": [],
   "source": [
    "phi1_lim = (-100, 20)"
   ]
  },
  {
   "cell_type": "code",
   "execution_count": null,
   "metadata": {},
   "outputs": [],
   "source": [
    "fig, axes = plt.subplots(2, 2,\n",
    "                         figsize=(15.2, 6.5),\n",
    "                         gridspec_kw={'width_ratios':[5,1]})\n",
    "\n",
    "# sky positions filtered by proper motion selection:\n",
    "ax = axes[0, 0]\n",
    "ax.plot(g.phi1[pm_mask], g.phi2[pm_mask], **ptstyle)\n",
    "ax.set_ylabel('$\\phi_2$ [deg]')\n",
    "ax.set_title('Proper motion selection', fontsize='medium')\n",
    "\n",
    "plt.setp(ax.get_xticklabels(), visible=False)\n",
    "ax.set_xlim(phi1_lim)\n",
    "ax.set_ylim(-12, 12)\n",
    "ax.set_aspect('equal')\n",
    "\n",
    "# proper motion components\n",
    "ax = axes[0, 1]\n",
    "style = ptstyle.copy()\n",
    "style['alpha'] = 0.06\n",
    "ax.plot(g.pm_phi1_cosphi2_no_reflex[phi_mask_stream].to(u.mas/u.yr), \n",
    "        g.pm_phi2_no_reflex[phi_mask_stream].to(u.mas/u.yr), \n",
    "        **style)\n",
    "\n",
    "pr = mpl.patches.Polygon(pm_poly, **polystyle)\n",
    "ax.add_artist(pr)\n",
    "\n",
    "ax.xaxis.set_ticks(np.arange(-15, 15+1, 5))\n",
    "ax.set_xlim(-12, 8)\n",
    "ax.set_ylim(-10, 10)\n",
    "# ax.set_xlim(-15, 5)\n",
    "# ax.set_ylim(-10, 10)\n",
    "ax.set_xlabel('$\\mu_{\\phi_1}$ [mas yr$^{-1}$]')\n",
    "ax.set_ylabel('$\\mu_{\\phi_2}$ [mas yr$^{-1}$]')\n",
    "\n",
    "# sky positions filtered by proper motion and CMD selection\n",
    "ax = axes[1, 0]\n",
    "style = ptstyle.copy()\n",
    "style['alpha'] = 0.55\n",
    "ax.plot(g.phi1[pm_mask & cmd_mask], g.phi2[pm_mask & cmd_mask],\n",
    "        **style)\n",
    "ax.set_aspect('equal')\n",
    "\n",
    "arrow_style = dict(color='#444444', width=2, alpha=0.8,\n",
    "                   headwidth=8, headlength=10, linewidth=0)\n",
    "annot_style = dict(fontsize='small', # backgroundcolor=(1,1,1,0.7), \n",
    "                   color='#333333')\n",
    "ax.annotate('Progenitor?', xy=(-13, 0.5), xytext=(-10, 7),\n",
    "            arrowprops=dict(shrink=0.05, **arrow_style),\n",
    "            **annot_style)\n",
    "\n",
    "ax.annotate('Blob', xy=(-14, -2), xytext=(-14, -10),\n",
    "            arrowprops=dict(shrink=0.08, **arrow_style),\n",
    "            **annot_style)\n",
    "\n",
    "ax.annotate('Spur', xy=(-33, 2), xytext=(-42, 7),\n",
    "            arrowprops=dict(shrink=0.08, **arrow_style),\n",
    "            **annot_style)\n",
    "\n",
    "ax.annotate('Gaps', xy=(-40, -2), xytext=(-35, -10),\n",
    "            arrowprops=dict(shrink=0.08, **arrow_style),\n",
    "            **annot_style)\n",
    "\n",
    "style = annot_style.copy()\n",
    "# style.pop('backgroundcolor')\n",
    "ax.annotate('      ', xy=(-21, -1), xytext=(-35, -10),\n",
    "            arrowprops=dict(shrink=0.08, **arrow_style),\n",
    "            **style)\n",
    "\n",
    "ax.axvline(-55, ls='--', color='#666666', alpha=0.6, dashes=(6,4), lw=2)\n",
    "ax.text(-60, 9.5, 'Previously\\nundetected', ha='right', va='top', **annot_style)\n",
    "\n",
    "ax.set_xlabel('$\\phi_1$ [deg]')\n",
    "ax.set_ylabel('$\\phi_2$ [deg]')\n",
    "ax.set_title('Proper motion + photometry selection', fontsize='medium')\n",
    "\n",
    "ax.set_xlim(phi1_lim)\n",
    "ax.set_ylim(-12, 12)\n",
    "\n",
    "# color-magnitude\n",
    "ax = axes[1, 1]\n",
    "ax.plot(g.g0[phi_mask_stream & pm_mask] - g.i0[phi_mask_stream & pm_mask], \n",
    "        g.g0[phi_mask_stream & pm_mask], \n",
    "        **ptstyle)\n",
    "\n",
    "ax.plot(iso[:, 0], iso[:, 1], ls='-', marker='', color='tab:red', \n",
    "        lw=2, alpha=0.35, zorder=0, label='12 Gyr\\n[Fe/H]=$-1.35$')\n",
    "pm = mpl.patches.Polygon(cmd_poly, color='tab:orange', \n",
    "                         alpha=0.3, zorder=2, label='')\n",
    "ax.add_artist(pm)\n",
    "\n",
    "ax.legend(loc='upper right', frameon=False, fontsize=8,\n",
    "          handlelength=0.5, bbox_to_anchor=(0.99,0.95))\n",
    "ax.xaxis.set_ticks([0, 0.5, 1, 1.5])\n",
    "ax.set_xlim(-0.2, 1.8)\n",
    "ax.set_ylim(22, 14)\n",
    "ax.set_xlabel('$(g - i)_0$')\n",
    "ax.set_ylabel('$g_0$')\n",
    "\n",
    "for ax in axes.flat:\n",
    "    ax.xaxis.set_ticks_position('both')\n",
    "    ax.yaxis.set_ticks_position('both')\n",
    "\n",
    "plt.tight_layout(h_pad=0.5, w_pad=0.5)\n",
    "# fig.set_facecolor('w')\n",
    "\n",
    "fig.savefig('../paper/gd1_sample.pdf', dpi=250)"
   ]
  },
  {
   "cell_type": "code",
   "execution_count": null,
   "metadata": {},
   "outputs": [],
   "source": []
  }
 ],
 "metadata": {
  "kernelspec": {
   "display_name": "Python [default]",
   "language": "python",
   "name": "python3"
  },
  "language_info": {
   "codemirror_mode": {
    "name": "ipython",
    "version": 3
   },
   "file_extension": ".py",
   "mimetype": "text/x-python",
   "name": "python",
   "nbconvert_exporter": "python",
   "pygments_lexer": "ipython3",
   "version": "3.6.4"
  }
 },
 "nbformat": 4,
 "nbformat_minor": 2
}