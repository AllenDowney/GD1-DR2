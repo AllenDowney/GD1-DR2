{
 "cells": [
  {
   "cell_type": "code",
   "execution_count": null,
   "metadata": {},
   "outputs": [],
   "source": [
    "from os import path\n",
    "\n",
    "# Third-party\n",
    "import astropy.coordinates as coord\n",
    "from astropy.table import Table, vstack\n",
    "from astropy.io import fits\n",
    "import astropy.units as u\n",
    "import matplotlib as mpl\n",
    "import matplotlib.pyplot as plt\n",
    "import numpy as np\n",
    "%matplotlib inline\n",
    "\n",
    "from pyia import GaiaData\n",
    "\n",
    "import gala.coordinates as gc\n",
    "import gala.dynamics as gd\n",
    "from scipy.stats import binned_statistic"
   ]
  },
  {
   "cell_type": "code",
   "execution_count": null,
   "metadata": {},
   "outputs": [],
   "source": [
    "def mad_std(x):\n",
    "    \"\"\"Median absolute deviation\"\"\"\n",
    "    return 1.5 * np.median(np.abs(np.median(x)-x))"
   ]
  },
  {
   "cell_type": "code",
   "execution_count": null,
   "metadata": {},
   "outputs": [],
   "source": [
    "g = GaiaData('../data/gd1-with-masks.fits')\n",
    "stream = g[g.pm_mask & g.gi_cmd_mask]"
   ]
  },
  {
   "cell_type": "code",
   "execution_count": null,
   "metadata": {},
   "outputs": [],
   "source": [
    "phi1 = stream.phi1\n",
    "phi2 = stream.phi2\n",
    "pm1 = stream.pm_phi1_cosphi2\n",
    "pm2 = stream.pm_phi2"
   ]
  },
  {
   "cell_type": "markdown",
   "metadata": {},
   "source": [
    "## Define track selection"
   ]
  },
  {
   "cell_type": "code",
   "execution_count": null,
   "metadata": {},
   "outputs": [],
   "source": [
    "ptrack = np.load('../output/polytrack.npy')\n",
    "polytrack = np.poly1d(ptrack)"
   ]
  },
  {
   "cell_type": "code",
   "execution_count": null,
   "metadata": {},
   "outputs": [],
   "source": [
    "pred_phi2 = polytrack(g.phi1.value)\n",
    "phi2_plus = 1.8\n",
    "phi2_minus = 1.5\n",
    "track_mask = ((g.phi2.value < (pred_phi2 + phi2_plus)) & \n",
    "              (g.phi2.value > (pred_phi2 - phi2_minus)) &\n",
    "              (g.phi1.value > -90) & (g.phi1.value < 10))\n",
    "track_mask.sum()"
   ]
  },
  {
   "cell_type": "code",
   "execution_count": null,
   "metadata": {},
   "outputs": [],
   "source": [
    "full_mask = g.pm_mask & g.gi_cmd_mask & track_mask\n",
    "full_mask.sum()"
   ]
  },
  {
   "cell_type": "code",
   "execution_count": null,
   "metadata": {},
   "outputs": [],
   "source": [
    "fig, axes = plt.subplots(2, 1, figsize=(12, 5), sharex=True, sharey=True)\n",
    "\n",
    "axes[0].plot(g.phi1[g.pm_mask & g.gi_cmd_mask], g.phi2[g.pm_mask & g.gi_cmd_mask], **ptstyle)\n",
    "axes[1].plot(g.phi1[full_mask], g.phi2[full_mask], **ptstyle)\n",
    "axes[0].set_xlim(-100, 20)\n",
    "axes[0].set_ylim(-10, 5)"
   ]
  },
  {
   "cell_type": "code",
   "execution_count": null,
   "metadata": {},
   "outputs": [],
   "source": [
    "track = Table.read('../output/stream_track.fits')"
   ]
  },
  {
   "cell_type": "code",
   "execution_count": null,
   "metadata": {},
   "outputs": [],
   "source": [
    "bin_size = 4. # see 3-stream-track\n",
    "bin_l = track['phi1'] - bin_size/2\n",
    "bin_r = track['phi1'] + bin_size/2"
   ]
  },
  {
   "cell_type": "code",
   "execution_count": null,
   "metadata": {},
   "outputs": [],
   "source": [
    "stream_w = np.load('../output/stream_model.npy')\n",
    "stream = gd.PhaseSpacePosition(pos=stream_w[:, :3].T*u.kpc,\n",
    "                               vel=stream_w[:, 3:].T*u.km/u.s)\n",
    "gc_frame = coord.Galactocentric(galcen_distance=8*u.kpc, z_sun=0*u.pc)\n",
    "stream_gd1 = stream.to_coord_frame(gc.GD1, galactocentric_frame=gc_frame)"
   ]
  },
  {
   "cell_type": "code",
   "execution_count": null,
   "metadata": {},
   "outputs": [],
   "source": [
    "Nbins = len(bin_l)\n",
    "model_n = np.zeros(Nbins)\n",
    "model_w = np.zeros(Nbins)*u.deg\n",
    "model_rmed_phi2 = np.zeros(Nbins)*u.deg\n",
    "model_rmed_pmphi1 = np.zeros(Nbins)*u.mas/u.yr\n",
    "model_rmed_pmphi2 = np.zeros(Nbins)*u.mas/u.yr\n",
    "model_rmed_pmphi1_err = np.zeros(Nbins)*u.mas/u.yr\n",
    "model_rmed_pmphi2_err = np.zeros(Nbins)*u.mas/u.yr\n",
    "\n",
    "_phi1 = stream_gd1.phi1.wrap_at(180*u.deg).degree\n",
    "for i, l, r in zip(range(Nbins), bin_l, bin_r):\n",
    "    sel_bin = (_phi1 > l) & (_phi1 <= r)\n",
    "    sel_stream = (np.abs(stream_gd1.phi2.to(u.deg).value) < 3.)\n",
    "    selection = sel_bin & sel_stream\n",
    "    \n",
    "    model_n[i] = np.sum(selection)\n",
    "    model_rmed_phi2[i] = np.nanmedian(stream_gd1.phi2[selection])\n",
    "    model_w[i] = mad_std(stream_gd1.phi2[selection])\n",
    "    \n",
    "    model_rmed_pmphi1[i] = np.nanmedian(stream_gd1.pm_phi1_cosphi2[selection])\n",
    "    model_rmed_pmphi1_err[i] = mad_std(stream_gd1.pm_phi1_cosphi2[selection])\n",
    "    \n",
    "    model_rmed_pmphi2[i] = np.nanmedian(stream_gd1.pm_phi2[selection])\n",
    "    model_rmed_pmphi2_err[i] = mad_std(stream_gd1.pm_phi2[selection])\n",
    "    \n",
    "model_density = model_n / (2*3.*bin_size)\n",
    "model_density = model_density / model_density.max() * track['density'].max()"
   ]
  },
  {
   "cell_type": "code",
   "execution_count": null,
   "metadata": {},
   "outputs": [],
   "source": [
    "phi1_ = np.linspace(-100, 20, 100)\n",
    "phi2_ = polytrack(phi1_)"
   ]
  },
  {
   "cell_type": "code",
   "execution_count": null,
   "metadata": {},
   "outputs": [],
   "source": [
    "ptstyle = dict(color='k', marker='o', linewidth=0, \n",
    "               markersize=2, alpha=0.6, rasterized=True, linestyle='none')"
   ]
  },
  {
   "cell_type": "code",
   "execution_count": null,
   "metadata": {},
   "outputs": [],
   "source": [
    "fig, axes = plt.subplots(5, 1, figsize=(12,10), sharex=True)\n",
    "\n",
    "ax = axes[0]\n",
    "ax.plot(phi1, phi2, **ptstyle)\n",
    "\n",
    "ax.plot(phi1_, phi2_+phi2_plus, '-', color='tab:blue')\n",
    "ax.plot(phi1_, phi2_-phi2_minus, '-', color='tab:blue')\n",
    "ax.text(-83, 2.5, 'filtered data', ha='left', va='top', \n",
    "        bbox=dict(facecolor='w', alpha=1), fontsize=16)\n",
    "ax.set_ylabel('$\\phi_2$\\n[deg]')\n",
    "ax.set_ylim(-5, 3)\n",
    "\n",
    "ax.text(8, 2.5, '(a)', ha='right', va='top', \n",
    "        bbox=dict(facecolor='w', alpha=1), fontsize=16)\n",
    "\n",
    "# phi2 track:\n",
    "# ax = axes[1]\n",
    "# ax.plot(bins_phi1, rmed_phi2, '-')\n",
    "# ax.fill_between(bins_phi1, rmed_phi2-w, rmed_phi2+w, \n",
    "#                 color='tab:blue', alpha=0.3)\n",
    "\n",
    "# ax.plot(bins_phi1, model_rmed_phi2, '--', color='tab:orange', zorder=-10, lw=2)\n",
    "\n",
    "# ax.set_ylabel('$\\phi_2$\\n[deg]')\n",
    "\n",
    "# model stream\n",
    "ax = axes[1]\n",
    "ax.plot(stream_gd1.phi1.wrap_at(180*u.deg), \n",
    "        stream_gd1.phi2, \n",
    "        marker='o', linestyle='none', ms=1., color='k', \n",
    "        alpha=0.6, rasterized=True)\n",
    "\n",
    "ax.plot(phi1_, phi2_+phi2_plus, '-', color='tab:blue')\n",
    "ax.plot(phi1_, phi2_-phi2_minus, '-', color='tab:blue')\n",
    "ax.text(-83, 2.5, 'toy model', ha='left', va='top', \n",
    "        bbox=dict(facecolor='w', alpha=1), fontsize=16)\n",
    "\n",
    "ax.text(8, 2.5, '(b)', ha='right', va='top', \n",
    "        bbox=dict(facecolor='w', alpha=1), fontsize=16)\n",
    "\n",
    "ax.set_ylabel('$\\phi_2$\\n[deg]')\n",
    "ax.set_ylim(-5, 3)\n",
    "\n",
    "ax = axes[2]\n",
    "ax.plot(track['phi1'], track['density'], '-', label='data')\n",
    "ax.fill_between(track['phi1'], \n",
    "                track['density']*(1-1/np.sqrt(track['n'])), \n",
    "                track['density']*(1+1/np.sqrt(track['n'])), \n",
    "                color='tab:blue', alpha=0.3)\n",
    "ax.axhline(0, zorder=-10, alpha=0.2)\n",
    "\n",
    "ax.plot(track['phi1'], model_density, '--', \n",
    "        color='tab:orange', zorder=-10, lw=2, label='model')\n",
    "ax.legend(loc='upper left', fontsize=13)\n",
    "\n",
    "ax.set_ylabel('surface\\ndensity\\n[deg$^{-2}$]')\n",
    "\n",
    "ax.text(8, 18, '(c)', ha='right', va='top', \n",
    "        bbox=dict(facecolor='w', alpha=1), fontsize=16)\n",
    "\n",
    "ax = axes[3]\n",
    "ax.plot(track['phi1'], track['pm_phi1_cosphi2'], '-')\n",
    "ax.fill_between(track['phi1'], \n",
    "                track['pm_phi1_cosphi2']-track['pm_phi1_cosphi2_error'], \n",
    "                track['pm_phi1_cosphi2']+track['pm_phi1_cosphi2_error'], \n",
    "                color='tab:blue', alpha=0.3)\n",
    "\n",
    "ax.plot(track['phi1'], model_rmed_pmphi1, '--', \n",
    "        color='tab:orange', zorder=-10, lw=2)\n",
    "\n",
    "ax.set_ylabel('$\\mu_{\\phi_1}$\\n[mas yr$^{-1}$]')\n",
    "\n",
    "ax.text(8, -13.5, '(d)', ha='right', va='bottom', \n",
    "        bbox=dict(facecolor='w', alpha=1), fontsize=16)\n",
    "\n",
    "ax = axes[4]\n",
    "ax.plot(track['phi1'], track['pm_phi2'], '-')\n",
    "ax.fill_between(track['phi1'], \n",
    "                track['pm_phi2'] - track['pm_phi2_error'], \n",
    "                track['pm_phi2'] + track['pm_phi2_error'], \n",
    "                color='tab:blue', alpha=0.3)\n",
    "\n",
    "ax.plot(track['phi1'], model_rmed_pmphi2, '--', color='tab:orange', zorder=-10, lw=2)\n",
    "\n",
    "ax.set_xlabel('$\\phi_1$ [deg]')\n",
    "ax.set_ylabel('$\\mu_{\\phi_2}$\\n[mas yr$^{-1}$]')\n",
    "\n",
    "ax.text(8, -4.5, '(e)', ha='right', va='bottom', \n",
    "        bbox=dict(facecolor='w', alpha=1), fontsize=16)\n",
    "\n",
    "axes[0].set_xlim(-90, 10)\n",
    "\n",
    "fig.set_facecolor('w')\n",
    "fig.tight_layout()\n",
    "fig.savefig('../paper/track_observables.pdf')"
   ]
  },
  {
   "cell_type": "code",
   "execution_count": null,
   "metadata": {},
   "outputs": [],
   "source": []
  }
 ],
 "metadata": {
  "kernelspec": {
   "display_name": "Python [default]",
   "language": "python",
   "name": "python3"
  },
  "language_info": {
   "codemirror_mode": {
    "name": "ipython",
    "version": 3
   },
   "file_extension": ".py",
   "mimetype": "text/x-python",
   "name": "python",
   "nbconvert_exporter": "python",
   "pygments_lexer": "ipython3",
   "version": "3.6.4"
  }
 },
 "nbformat": 4,
 "nbformat_minor": 2
}