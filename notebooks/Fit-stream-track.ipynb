{
 "cells": [
  {
   "cell_type": "code",
   "execution_count": 1,
   "metadata": {},
   "outputs": [],
   "source": [
    "from os import path\n",
    "\n",
    "# Third-party\n",
    "from astropy.convolution import convolve, Gaussian1DKernel\n",
    "import astropy.coordinates as coord\n",
    "from astropy.table import Table, vstack\n",
    "from astropy.io import fits, ascii\n",
    "import astropy.units as u\n",
    "import matplotlib as mpl\n",
    "import matplotlib.pyplot as plt\n",
    "import numpy as np\n",
    "%matplotlib inline\n",
    "from scipy.interpolate import InterpolatedUnivariateSpline\n",
    "from scipy.optimize import minimize\n",
    "from scipy.stats import binned_statistic\n",
    "from astropy.convolution import convolve, Gaussian1DKernel\n",
    "from astroML.utils import log_multivariate_gaussian\n",
    "\n",
    "from pyia import GaiaData\n",
    "\n",
    "import gala.coordinates as gc\n",
    "import gala.dynamics as gd\n",
    "from gala.dynamics import mockstream\n",
    "import gala.integrate as gi\n",
    "import gala.potential as gp\n",
    "from gala.units import galactic\n",
    "from gala.mpl_style import center_emph"
   ]
  },
  {
   "cell_type": "code",
   "execution_count": 2,
   "metadata": {},
   "outputs": [],
   "source": [
    "galcen_frame = coord.Galactocentric(galcen_distance=8.1*u.kpc)"
   ]
  },
  {
   "cell_type": "markdown",
   "metadata": {},
   "source": [
    "## Prepare data:"
   ]
  },
  {
   "cell_type": "code",
   "execution_count": 3,
   "metadata": {},
   "outputs": [],
   "source": [
    "tbl = Table.read('../output/rrl_bhb_bs_rgb_master.fits')"
   ]
  },
  {
   "cell_type": "code",
   "execution_count": 4,
   "metadata": {},
   "outputs": [],
   "source": [
    "c = coord.SkyCoord(ra=tbl['ra']*u.deg, \n",
    "                   dec=tbl['dec']*u.deg)\n",
    "c_gd1 = c.transform_to(gc.GD1)"
   ]
  },
  {
   "cell_type": "code",
   "execution_count": 7,
   "metadata": {},
   "outputs": [
    {
     "name": "stdout",
     "output_type": "stream",
     "text": [
      "INFO: Upgrading Table to masked Table. Use Table.filled() to convert to unmasked table. [astropy.table.table]\n"
     ]
    }
   ],
   "source": [
    "data = Table()\n",
    "\n",
    "data['phi1'] = c_gd1.phi1.wrap_at(180*u.deg).degree\n",
    "data['phi1_ivar'] = 1 / (1*u.mas).to_value(u.deg)**2\n",
    "\n",
    "data['phi2'] = c_gd1.phi2.degree\n",
    "data['phi2_ivar'] = 1 / (1*u.mas).to_value(u.deg)**2\n",
    "\n",
    "data['distmod'] = tbl['DM']\n",
    "data['distmod'][np.isnan(data['distmod'])] = 0.\n",
    "data['distmod_ivar'] = 1 / tbl['DM_error']**2\n",
    "\n",
    "data['pmra'] = tbl['pmra']\n",
    "data['pmra_ivar'] = 1 / tbl['pmra_error']**2\n",
    "\n",
    "data['pmdec'] = tbl['pmdec']\n",
    "data['pmdec_ivar'] = 1 / tbl['pmdec_error']**2\n",
    "\n",
    "data['rv'] = tbl['rv']\n",
    "data['rv'][np.isnan(data['rv'])] = 0.\n",
    "data['rv_ivar'] = 1 / tbl['rv_error']**2\n",
    "\n",
    "data = data.filled(fill_value=0)"
   ]
  },
  {
   "cell_type": "markdown",
   "metadata": {},
   "source": [
    "---\n",
    "\n",
    "## HACKING:"
   ]
  },
  {
   "cell_type": "code",
   "execution_count": 8,
   "metadata": {},
   "outputs": [],
   "source": [
    "_stream = np.load('../output/stream_model_-20.0.npy')\n",
    "stream = gd.PhaseSpacePosition(pos=_stream[:, :3].T*u.kpc,\n",
    "                               vel=_stream[:, 3:].T*u.km/u.s)"
   ]
  },
  {
   "cell_type": "code",
   "execution_count": 9,
   "metadata": {},
   "outputs": [],
   "source": [
    "from scipy.stats import binned_statistic"
   ]
  },
  {
   "cell_type": "code",
   "execution_count": 54,
   "metadata": {},
   "outputs": [],
   "source": [
    "def get_stream_track(stream_c, stream_icrs,\n",
    "                     phi1_lim=[-180, 180]*u.deg, \n",
    "                     phi1_binsize=1*u.deg):\n",
    "    \n",
    "    phi1 = stream_c.phi1.wrap_at(180*u.deg).degree\n",
    "    phi1_lim = phi1_lim.to_value(u.deg)\n",
    "    phi1_binsize = phi1_binsize.to_value(u.deg)\n",
    "    \n",
    "    phi1_bins = np.arange(phi1_lim[0], phi1_lim[1]+1e-8, phi1_binsize)\n",
    "    phi1_binc = 0.5*(phi1_bins[:-1]+phi1_bins[1:])\n",
    "    \n",
    "    means = dict()\n",
    "    stds = dict()\n",
    "    interps = dict()\n",
    "    units = dict()\n",
    "    \n",
    "    # --------\n",
    "    k = 'phi2'\n",
    "    val = getattr(stream_c, k)\n",
    "    means[k] = binned_statistic(phi1, val.value, \n",
    "                                bins=phi1_bins, statistic='mean')\n",
    "    stds[k] = binned_statistic(phi1, val.value, \n",
    "                               bins=phi1_bins, statistic='std')\n",
    "    units[k] = val.unit\n",
    "    interps[k] = InterpolatedUnivariateSpline(phi1_binc, means[k].statistic, \n",
    "                                              w=1/stds[k].statistic**2)\n",
    "    \n",
    "    # --------\n",
    "    k = 'distmod'\n",
    "    val = getattr(stream_c, 'distance').distmod\n",
    "    means[k] = binned_statistic(phi1, val.value, \n",
    "                                bins=phi1_bins, statistic='mean')\n",
    "    stds[k] = binned_statistic(phi1, val.value, \n",
    "                               bins=phi1_bins, statistic='std')\n",
    "    units[k] = val.unit\n",
    "    interps[k] = InterpolatedUnivariateSpline(phi1_binc, means[k].statistic, \n",
    "                                              w=1/stds[k].statistic**2)\n",
    "    \n",
    "    # --------\n",
    "    for k, k2 in [('pmra', 'pm_ra_cosdec'), \n",
    "                  ('pmdec', 'pm_dec')]:\n",
    "        val = getattr(stream_icrs, k2)\n",
    "        means[k] = binned_statistic(phi1, val.value, \n",
    "                                    bins=phi1_bins, statistic='mean')\n",
    "        stds[k] = binned_statistic(phi1, val.value, \n",
    "                                   bins=phi1_bins, statistic='std')\n",
    "        units[k] = val.unit\n",
    "        interps[k] = InterpolatedUnivariateSpline(phi1_binc, means[k].statistic, \n",
    "                                                  w=1/stds[k].statistic**2)\n",
    "    \n",
    "    # --------\n",
    "    k = 'rv'\n",
    "    val = getattr(stream_c, 'radial_velocity')\n",
    "    means[k] = binned_statistic(phi1, val.value, \n",
    "                                bins=phi1_bins, statistic='mean')\n",
    "    stds[k] = binned_statistic(phi1, val.value, \n",
    "                               bins=phi1_bins, statistic='std')\n",
    "    units[k] = val.unit\n",
    "    interps[k] = InterpolatedUnivariateSpline(phi1_binc, means[k].statistic, \n",
    "                                              w=1/stds[k].statistic**2)\n",
    "    \n",
    "    return interps"
   ]
  },
  {
   "cell_type": "code",
   "execution_count": 55,
   "metadata": {},
   "outputs": [],
   "source": [
    "def ln_normal(x, mu, std):\n",
    "    return -0.5 * (x-mu)**2 / std**2 - 0.5*np.log(2*np.pi) - np.log(std)\n",
    "\n",
    "def ln_normal_ivar(x, mu, ivar):\n",
    "    return -0.5 * (x-mu)**2 * ivar - 0.5*np.log(2*np.pi) + 0.5*np.log(ivar)\n",
    "\n",
    "def get_ivar(ivar, extra_var):\n",
    "    return ivar / (1 + extra_var * ivar)"
   ]
  },
  {
   "cell_type": "code",
   "execution_count": 106,
   "metadata": {},
   "outputs": [],
   "source": [
    "class MockStreamModel:\n",
    "    \n",
    "    @u.quantity_input(phi1_0=u.deg,\n",
    "                      phi1_lim=u.deg, phi1_binsize=u.deg)\n",
    "    def __init__(self, data, stream_frame,\n",
    "                 potential, dt, n_steps, phi1_0,\n",
    "                 release_every=1,\n",
    "                 galcen_frame=None,\n",
    "                 phi1_lim=[-180, 180]*u.deg, phi1_binsize=1*u.deg):\n",
    "        \n",
    "        # TODO: validate data?\n",
    "        self.data = data\n",
    "        \n",
    "        # coordinate frame of the stream data\n",
    "        self.stream_frame = stream_frame\n",
    "        \n",
    "        # potential and integration parameters\n",
    "        self.ham = gp.Hamiltonian(potential)\n",
    "        self.dt = dt\n",
    "        self.n_steps = n_steps\n",
    "        self.phi1_0 = phi1_0\n",
    "        self.release_every = release_every\n",
    "        \n",
    "        if galcen_frame is None:\n",
    "            galcen_frame = coord.Galactocentric()\n",
    "        self.galcen_frame = galcen_frame\n",
    "            \n",
    "        self.phi1_lim = phi1_lim\n",
    "        self.phi1_binsize = phi1_binsize\n",
    "        \n",
    "        # TODO: put data into the right units? or just strip units and prepare...\n",
    "    \n",
    "    def tracks_ln_likelihood(self, stream):\n",
    "        tracks = get_stream_track(stream.to_coord_frame(self.stream_frame, \n",
    "                                                        galactocentric_frame=self.galcen_frame),\n",
    "                                  stream.to_coord_frame(coord.ICRS, \n",
    "                                                        galactocentric_frame=self.galcen_frame),\n",
    "                                  phi1_lim=self.phi1_lim,\n",
    "                                  phi1_binsize=self.phi1_binsize)\n",
    "        \n",
    "        # _grid = np.linspace(-100, 20, 1024)\n",
    "        # for k in tracks:\n",
    "        #     plt.figure(figsize=(10, 5))\n",
    "        #     plt.scatter(data['phi1'], data[k], zorder=-100)\n",
    "        #     plt.plot(_grid, tracks[k](_grid), marker='')\n",
    "\n",
    "        # TODO:\n",
    "        extra_var = dict()\n",
    "        extra_var['phi2'] = 0.5 ** 2\n",
    "        extra_var['distmod'] = 0.02 ** 2\n",
    "        extra_var['pmra'] = 0.1 ** 2\n",
    "        extra_var['pmdec'] = 0.1 ** 2\n",
    "        extra_var['rv'] = 5. ** 2\n",
    "        \n",
    "        lls = []\n",
    "        for name in ['phi2', 'distmod', 'pmra', 'pmdec', 'rv']:\n",
    "            ll = ln_normal_ivar(tracks[name](data['phi1']), \n",
    "                                data[name], \n",
    "                                get_ivar(data[name+'_ivar'], extra_var[name]))\n",
    "            lls.append(ll[np.isfinite(ll)].sum())\n",
    "        \n",
    "        return np.sum(lls)\n",
    "    \n",
    "    def ln_likelihood(self, p):\n",
    "        phi2, d, pm1, pm2, rv = p\n",
    "        \n",
    "        print(p)\n",
    "        \n",
    "        # TODO: vary potential?\n",
    "        ham = self.ham\n",
    "        \n",
    "        c = self.stream_frame.__class__(phi1=self.phi1_0,\n",
    "                                        phi2=phi2*u.deg,\n",
    "                                        distance=d*u.kpc,\n",
    "                                        pm_phi1_cosphi2=pm1*u.mas/u.yr,\n",
    "                                        pm_phi2=pm2*u.mas/u.yr,\n",
    "                                        radial_velocity=rv*u.km/u.s,\n",
    "                                        **self.stream_frame.frame_attributes)\n",
    "        w0 = gd.PhaseSpacePosition(c.transform_to(self.galcen_frame).data)        \n",
    "        orbit = ham.integrate_orbit(w0, dt=-np.abs(self.dt), \n",
    "                                    n_steps=self.n_steps)[::-1]\n",
    "        \n",
    "        # TODO: vary mass-loss!\n",
    "        n_times = len(orbit.t)\n",
    "        prog_mass = np.linspace(5e4, 2E3, n_times) * u.Msun\n",
    "        stream = mockstream.dissolved_fardal_stream(ham, orbit, prog_mass,\n",
    "                                                    t_disrupt=0*u.Gyr, \n",
    "                                                    release_every=self.release_every,\n",
    "                                                    seed=42)\n",
    "        \n",
    "        return self.tracks_ln_likelihood(stream)\n",
    "    \n",
    "    def ln_prior(self, p):\n",
    "        phi2, dm, pm1, pm2, rv = p\n",
    "        \n",
    "        lp = 0.\n",
    "        \n",
    "        # TODO HACK: hard-coded\n",
    "        lp += ln_normal(phi2, 0., 3.)\n",
    "        lp += ln_normal(dm, 14.65, 1.)\n",
    "        lp += ln_normal(pm1, 0, 50.)\n",
    "        lp += ln_normal(pm2, 0, 50.)\n",
    "        lp += ln_normal(rv, 0, 400.)\n",
    "        \n",
    "        return lp"
   ]
  },
  {
   "cell_type": "code",
   "execution_count": 107,
   "metadata": {},
   "outputs": [],
   "source": [
    "model = MockStreamModel(data, stream_frame=gc.GD1(),\n",
    "                        potential=gp.MilkyWayPotential(), \n",
    "                        dt=-0.5*u.Myr, n_steps=8000, phi1_0=-20*u.deg,\n",
    "                        galcen_frame=galcen_frame,\n",
    "                        phi1_lim=[-100, 20]*u.deg, phi1_binsize=2*u.deg)"
   ]
  },
  {
   "cell_type": "code",
   "execution_count": 108,
   "metadata": {},
   "outputs": [],
   "source": [
    "p0 = (4.14772642e-02,  8.90676434e+00, -1.00000000e+01, -2.27057862e+00, -1.37929779e+02)"
   ]
  },
  {
   "cell_type": "code",
   "execution_count": 109,
   "metadata": {},
   "outputs": [
    {
     "data": {
      "text/plain": [
       "-36.0817720668013"
      ]
     },
     "execution_count": 109,
     "metadata": {},
     "output_type": "execute_result"
    }
   ],
   "source": [
    "model.ln_prior(p0)"
   ]
  },
  {
   "cell_type": "code",
   "execution_count": 110,
   "metadata": {},
   "outputs": [
    {
     "name": "stdout",
     "output_type": "stream",
     "text": [
      "(0.0414772642, 8.90676434, -10.0, -2.27057862, -137.929779)\n",
      "CPU times: user 7.6 s, sys: 59.1 ms, total: 7.66 s\n",
      "Wall time: 7.68 s\n"
     ]
    },
    {
     "name": "stderr",
     "output_type": "stream",
     "text": [
      "/Users/adrian/anaconda/lib/python3.6/site-packages/ipykernel/__main__.py:5: RuntimeWarning: divide by zero encountered in log\n"
     ]
    },
    {
     "data": {
      "text/plain": [
       "-2276.5649851265007"
      ]
     },
     "execution_count": 110,
     "metadata": {},
     "output_type": "execute_result"
    }
   ],
   "source": [
    "%%time\n",
    "model.ln_likelihood(p0)"
   ]
  },
  {
   "cell_type": "code",
   "execution_count": 112,
   "metadata": {
    "scrolled": true
   },
   "outputs": [
    {
     "name": "stdout",
     "output_type": "stream",
     "text": [
      "[ 4.14772642e-02  8.90676434e+00 -1.00000000e+01 -2.27057862e+00\n",
      " -1.37929779e+02]\n"
     ]
    },
    {
     "name": "stderr",
     "output_type": "stream",
     "text": [
      "/Users/adrian/anaconda/lib/python3.6/site-packages/ipykernel/__main__.py:5: RuntimeWarning: divide by zero encountered in log\n"
     ]
    },
    {
     "name": "stdout",
     "output_type": "stream",
     "text": [
      "[ 4.14772742e-02  8.90676434e+00 -1.00000000e+01 -2.27057862e+00\n",
      " -1.37929779e+02]\n",
      "[ 4.14772642e-02  8.90676435e+00 -1.00000000e+01 -2.27057862e+00\n",
      " -1.37929779e+02]\n",
      "[ 4.14772642e-02  8.90676434e+00 -9.99999999e+00 -2.27057862e+00\n",
      " -1.37929779e+02]\n",
      "[ 4.14772642e-02  8.90676434e+00 -1.00000000e+01 -2.27057861e+00\n",
      " -1.37929779e+02]\n",
      "[ 4.14772642e-02  8.90676434e+00 -1.00000000e+01 -2.27057862e+00\n",
      " -1.37929779e+02]\n",
      "[   2.   12.    0.   10. -100.]\n"
     ]
    },
    {
     "name": "stderr",
     "output_type": "stream",
     "text": [
      "ERROR: TypeError: can't convert complex to float [IPython.core.interactiveshell]\n"
     ]
    },
    {
     "ename": "TypeError",
     "evalue": "can't convert complex to float",
     "output_type": "error",
     "traceback": [
      "\u001b[0;31m---------------------------------------------------------------------------\u001b[0m",
      "\u001b[0;31mTypeError\u001b[0m                                 Traceback (most recent call last)",
      "\u001b[0;32m<ipython-input-112-855925e6a5e7>\u001b[0m in \u001b[0;36m<module>\u001b[0;34m\u001b[0m\n\u001b[1;32m      2\u001b[0m                \u001b[0mx0\u001b[0m\u001b[0;34m=\u001b[0m\u001b[0mp0\u001b[0m\u001b[0;34m,\u001b[0m\u001b[0;34m\u001b[0m\u001b[0;34m\u001b[0m\u001b[0m\n\u001b[1;32m      3\u001b[0m                bounds=[(-2, 2), (5, 12), (-20, 0), \n\u001b[0;32m----> 4\u001b[0;31m                        (-10, 10), (-200, -100)])\n\u001b[0m",
      "\u001b[0;32m~/anaconda/lib/python3.6/site-packages/scipy/optimize/_minimize.py\u001b[0m in \u001b[0;36mminimize\u001b[0;34m(fun, x0, args, method, jac, hess, hessp, bounds, constraints, tol, callback, options)\u001b[0m\n\u001b[1;32m    601\u001b[0m     \u001b[0;32melif\u001b[0m \u001b[0mmeth\u001b[0m \u001b[0;34m==\u001b[0m \u001b[0;34m'l-bfgs-b'\u001b[0m\u001b[0;34m:\u001b[0m\u001b[0;34m\u001b[0m\u001b[0;34m\u001b[0m\u001b[0m\n\u001b[1;32m    602\u001b[0m         return _minimize_lbfgsb(fun, x0, args, jac, bounds,\n\u001b[0;32m--> 603\u001b[0;31m                                 callback=callback, **options)\n\u001b[0m\u001b[1;32m    604\u001b[0m     \u001b[0;32melif\u001b[0m \u001b[0mmeth\u001b[0m \u001b[0;34m==\u001b[0m \u001b[0;34m'tnc'\u001b[0m\u001b[0;34m:\u001b[0m\u001b[0;34m\u001b[0m\u001b[0;34m\u001b[0m\u001b[0m\n\u001b[1;32m    605\u001b[0m         return _minimize_tnc(fun, x0, args, jac, bounds, callback=callback,\n",
      "\u001b[0;32m~/anaconda/lib/python3.6/site-packages/scipy/optimize/lbfgsb.py\u001b[0m in \u001b[0;36m_minimize_lbfgsb\u001b[0;34m(fun, x0, args, jac, bounds, disp, maxcor, ftol, gtol, eps, maxfun, maxiter, iprint, callback, maxls, **unknown_options)\u001b[0m\n\u001b[1;32m    333\u001b[0m             \u001b[0;31m# until the completion of the current minimization iteration.\u001b[0m\u001b[0;34m\u001b[0m\u001b[0;34m\u001b[0m\u001b[0;34m\u001b[0m\u001b[0m\n\u001b[1;32m    334\u001b[0m             \u001b[0;31m# Overwrite f and g:\u001b[0m\u001b[0;34m\u001b[0m\u001b[0;34m\u001b[0m\u001b[0;34m\u001b[0m\u001b[0m\n\u001b[0;32m--> 335\u001b[0;31m             \u001b[0mf\u001b[0m\u001b[0;34m,\u001b[0m \u001b[0mg\u001b[0m \u001b[0;34m=\u001b[0m \u001b[0mfunc_and_grad\u001b[0m\u001b[0;34m(\u001b[0m\u001b[0mx\u001b[0m\u001b[0;34m)\u001b[0m\u001b[0;34m\u001b[0m\u001b[0;34m\u001b[0m\u001b[0m\n\u001b[0m\u001b[1;32m    336\u001b[0m         \u001b[0;32melif\u001b[0m \u001b[0mtask_str\u001b[0m\u001b[0;34m.\u001b[0m\u001b[0mstartswith\u001b[0m\u001b[0;34m(\u001b[0m\u001b[0;34mb'NEW_X'\u001b[0m\u001b[0;34m)\u001b[0m\u001b[0;34m:\u001b[0m\u001b[0;34m\u001b[0m\u001b[0;34m\u001b[0m\u001b[0m\n\u001b[1;32m    337\u001b[0m             \u001b[0;31m# new iteration\u001b[0m\u001b[0;34m\u001b[0m\u001b[0;34m\u001b[0m\u001b[0;34m\u001b[0m\u001b[0m\n",
      "\u001b[0;32m~/anaconda/lib/python3.6/site-packages/scipy/optimize/lbfgsb.py\u001b[0m in \u001b[0;36mfunc_and_grad\u001b[0;34m(x)\u001b[0m\n\u001b[1;32m    278\u001b[0m     \u001b[0;32mif\u001b[0m \u001b[0mjac\u001b[0m \u001b[0;32mis\u001b[0m \u001b[0;32mNone\u001b[0m\u001b[0;34m:\u001b[0m\u001b[0;34m\u001b[0m\u001b[0;34m\u001b[0m\u001b[0m\n\u001b[1;32m    279\u001b[0m         \u001b[0;32mdef\u001b[0m \u001b[0mfunc_and_grad\u001b[0m\u001b[0;34m(\u001b[0m\u001b[0mx\u001b[0m\u001b[0;34m)\u001b[0m\u001b[0;34m:\u001b[0m\u001b[0;34m\u001b[0m\u001b[0;34m\u001b[0m\u001b[0m\n\u001b[0;32m--> 280\u001b[0;31m             \u001b[0mf\u001b[0m \u001b[0;34m=\u001b[0m \u001b[0mfun\u001b[0m\u001b[0;34m(\u001b[0m\u001b[0mx\u001b[0m\u001b[0;34m,\u001b[0m \u001b[0;34m*\u001b[0m\u001b[0margs\u001b[0m\u001b[0;34m)\u001b[0m\u001b[0;34m\u001b[0m\u001b[0;34m\u001b[0m\u001b[0m\n\u001b[0m\u001b[1;32m    281\u001b[0m             \u001b[0mg\u001b[0m \u001b[0;34m=\u001b[0m \u001b[0m_approx_fprime_helper\u001b[0m\u001b[0;34m(\u001b[0m\u001b[0mx\u001b[0m\u001b[0;34m,\u001b[0m \u001b[0mfun\u001b[0m\u001b[0;34m,\u001b[0m \u001b[0mepsilon\u001b[0m\u001b[0;34m,\u001b[0m \u001b[0margs\u001b[0m\u001b[0;34m=\u001b[0m\u001b[0margs\u001b[0m\u001b[0;34m,\u001b[0m \u001b[0mf0\u001b[0m\u001b[0;34m=\u001b[0m\u001b[0mf\u001b[0m\u001b[0;34m)\u001b[0m\u001b[0;34m\u001b[0m\u001b[0;34m\u001b[0m\u001b[0m\n\u001b[1;32m    282\u001b[0m             \u001b[0;32mreturn\u001b[0m \u001b[0mf\u001b[0m\u001b[0;34m,\u001b[0m \u001b[0mg\u001b[0m\u001b[0;34m\u001b[0m\u001b[0;34m\u001b[0m\u001b[0m\n",
      "\u001b[0;32m~/anaconda/lib/python3.6/site-packages/scipy/optimize/optimize.py\u001b[0m in \u001b[0;36mfunction_wrapper\u001b[0;34m(*wrapper_args)\u001b[0m\n\u001b[1;32m    291\u001b[0m     \u001b[0;32mdef\u001b[0m \u001b[0mfunction_wrapper\u001b[0m\u001b[0;34m(\u001b[0m\u001b[0;34m*\u001b[0m\u001b[0mwrapper_args\u001b[0m\u001b[0;34m)\u001b[0m\u001b[0;34m:\u001b[0m\u001b[0;34m\u001b[0m\u001b[0;34m\u001b[0m\u001b[0m\n\u001b[1;32m    292\u001b[0m         \u001b[0mncalls\u001b[0m\u001b[0;34m[\u001b[0m\u001b[0;36m0\u001b[0m\u001b[0;34m]\u001b[0m \u001b[0;34m+=\u001b[0m \u001b[0;36m1\u001b[0m\u001b[0;34m\u001b[0m\u001b[0;34m\u001b[0m\u001b[0m\n\u001b[0;32m--> 293\u001b[0;31m         \u001b[0;32mreturn\u001b[0m \u001b[0mfunction\u001b[0m\u001b[0;34m(\u001b[0m\u001b[0;34m*\u001b[0m\u001b[0;34m(\u001b[0m\u001b[0mwrapper_args\u001b[0m \u001b[0;34m+\u001b[0m \u001b[0margs\u001b[0m\u001b[0;34m)\u001b[0m\u001b[0;34m)\u001b[0m\u001b[0;34m\u001b[0m\u001b[0;34m\u001b[0m\u001b[0m\n\u001b[0m\u001b[1;32m    294\u001b[0m \u001b[0;34m\u001b[0m\u001b[0m\n\u001b[1;32m    295\u001b[0m     \u001b[0;32mreturn\u001b[0m \u001b[0mncalls\u001b[0m\u001b[0;34m,\u001b[0m \u001b[0mfunction_wrapper\u001b[0m\u001b[0;34m\u001b[0m\u001b[0;34m\u001b[0m\u001b[0m\n",
      "\u001b[0;32m<ipython-input-112-855925e6a5e7>\u001b[0m in \u001b[0;36m<lambda>\u001b[0;34m(*x)\u001b[0m\n\u001b[0;32m----> 1\u001b[0;31m res = minimize(lambda *x: -model.ln_likelihood(*x), \n\u001b[0m\u001b[1;32m      2\u001b[0m                \u001b[0mx0\u001b[0m\u001b[0;34m=\u001b[0m\u001b[0mp0\u001b[0m\u001b[0;34m,\u001b[0m\u001b[0;34m\u001b[0m\u001b[0;34m\u001b[0m\u001b[0m\n\u001b[1;32m      3\u001b[0m                bounds=[(-2, 2), (5, 12), (-20, 0), \n\u001b[1;32m      4\u001b[0m                        (-10, 10), (-200, -100)])\n",
      "\u001b[0;32m<ipython-input-106-633217e98fbf>\u001b[0m in \u001b[0;36mln_likelihood\u001b[0;34m(self, p)\u001b[0m\n\u001b[1;32m     87\u001b[0m                                                     \u001b[0mt_disrupt\u001b[0m\u001b[0;34m=\u001b[0m\u001b[0;36m0\u001b[0m\u001b[0;34m*\u001b[0m\u001b[0mu\u001b[0m\u001b[0;34m.\u001b[0m\u001b[0mGyr\u001b[0m\u001b[0;34m,\u001b[0m\u001b[0;34m\u001b[0m\u001b[0;34m\u001b[0m\u001b[0m\n\u001b[1;32m     88\u001b[0m                                                     \u001b[0mrelease_every\u001b[0m\u001b[0;34m=\u001b[0m\u001b[0mself\u001b[0m\u001b[0;34m.\u001b[0m\u001b[0mrelease_every\u001b[0m\u001b[0;34m,\u001b[0m\u001b[0;34m\u001b[0m\u001b[0;34m\u001b[0m\u001b[0m\n\u001b[0;32m---> 89\u001b[0;31m                                                     seed=42)\n\u001b[0m\u001b[1;32m     90\u001b[0m \u001b[0;34m\u001b[0m\u001b[0m\n\u001b[1;32m     91\u001b[0m         \u001b[0;32mreturn\u001b[0m \u001b[0mself\u001b[0m\u001b[0;34m.\u001b[0m\u001b[0mtracks_ln_likelihood\u001b[0m\u001b[0;34m(\u001b[0m\u001b[0mstream\u001b[0m\u001b[0;34m)\u001b[0m\u001b[0;34m\u001b[0m\u001b[0;34m\u001b[0m\u001b[0m\n",
      "\u001b[0;32m~/projects/gala/gala/dynamics/mockstream/core.py\u001b[0m in \u001b[0;36mdissolved_fardal_stream\u001b[0;34m(hamiltonian, prog_orbit, prog_mass, t_disrupt, release_every, Integrator, Integrator_kwargs, snapshot_filename, seed)\u001b[0m\n\u001b[1;32m    345\u001b[0m                        \u001b[0mk_mean\u001b[0m\u001b[0;34m=\u001b[0m\u001b[0mk_mean\u001b[0m\u001b[0;34m,\u001b[0m \u001b[0mk_disp\u001b[0m\u001b[0;34m=\u001b[0m\u001b[0mk_disp\u001b[0m\u001b[0;34m,\u001b[0m \u001b[0mrelease_every\u001b[0m\u001b[0;34m=\u001b[0m\u001b[0mrelease_every\u001b[0m\u001b[0;34m,\u001b[0m\u001b[0;34m\u001b[0m\u001b[0;34m\u001b[0m\u001b[0m\n\u001b[1;32m    346\u001b[0m                        \u001b[0mIntegrator\u001b[0m\u001b[0;34m=\u001b[0m\u001b[0mIntegrator\u001b[0m\u001b[0;34m,\u001b[0m \u001b[0mIntegrator_kwargs\u001b[0m\u001b[0;34m=\u001b[0m\u001b[0mIntegrator_kwargs\u001b[0m\u001b[0;34m,\u001b[0m\u001b[0;34m\u001b[0m\u001b[0;34m\u001b[0m\u001b[0m\n\u001b[0;32m--> 347\u001b[0;31m                        snapshot_filename=snapshot_filename, seed=seed)\n\u001b[0m",
      "\u001b[0;32m~/projects/gala/gala/dynamics/mockstream/core.py\u001b[0m in \u001b[0;36mmock_stream\u001b[0;34m(hamiltonian, prog_orbit, prog_mass, k_mean, k_disp, release_every, Integrator, Integrator_kwargs, snapshot_filename, seed)\u001b[0m\n\u001b[1;32m    140\u001b[0m                                            \u001b[0mG\u001b[0m\u001b[0;34m=\u001b[0m\u001b[0mhamiltonian\u001b[0m\u001b[0;34m.\u001b[0m\u001b[0mpotential\u001b[0m\u001b[0;34m.\u001b[0m\u001b[0mG\u001b[0m\u001b[0;34m,\u001b[0m\u001b[0;34m\u001b[0m\u001b[0;34m\u001b[0m\u001b[0m\n\u001b[1;32m    141\u001b[0m                                            \u001b[0m_prog_mass\u001b[0m\u001b[0;34m=\u001b[0m\u001b[0mprog_mass\u001b[0m\u001b[0;34m,\u001b[0m \u001b[0mseed\u001b[0m\u001b[0;34m=\u001b[0m\u001b[0mseed\u001b[0m\u001b[0;34m,\u001b[0m\u001b[0;34m\u001b[0m\u001b[0;34m\u001b[0m\u001b[0m\n\u001b[0;32m--> 142\u001b[0;31m                                            **Integrator_kwargs)\n\u001b[0m\u001b[1;32m    143\u001b[0m \u001b[0;34m\u001b[0m\u001b[0m\n\u001b[1;32m    144\u001b[0m     \u001b[0;32melse\u001b[0m\u001b[0;34m:\u001b[0m\u001b[0;34m\u001b[0m\u001b[0;34m\u001b[0m\u001b[0m\n",
      "\u001b[0;32m~/projects/gala/gala/dynamics/mockstream/_mockstream.pyx\u001b[0m in \u001b[0;36mgala.dynamics.mockstream._mockstream._mock_stream_dop853\u001b[0;34m()\u001b[0m\n",
      "\u001b[0;32m~/projects/gala/gala/dynamics/mockstream/_mockstream.pyx\u001b[0m in \u001b[0;36mgala.dynamics.mockstream._mockstream._mock_stream_dop853\u001b[0;34m()\u001b[0m\n",
      "\u001b[0;31mTypeError\u001b[0m: can't convert complex to float"
     ]
    }
   ],
   "source": [
    "res = minimize(lambda *x: -model.ln_likelihood(*x), \n",
    "               x0=p0, \n",
    "               bounds=[(-2, 2), (5, 12), (-20, 0), \n",
    "                       (-10, 10), (-200, -100)])"
   ]
  },
  {
   "cell_type": "code",
   "execution_count": null,
   "metadata": {},
   "outputs": [],
   "source": [
    "res.x - p0"
   ]
  },
  {
   "cell_type": "code",
   "execution_count": null,
   "metadata": {},
   "outputs": [],
   "source": []
  }
 ],
 "metadata": {
  "kernelspec": {
   "display_name": "Python [default]",
   "language": "python",
   "name": "python3"
  },
  "language_info": {
   "codemirror_mode": {
    "name": "ipython",
    "version": 3
   },
   "file_extension": ".py",
   "mimetype": "text/x-python",
   "name": "python",
   "nbconvert_exporter": "python",
   "pygments_lexer": "ipython3",
   "version": "3.6.8"
  }
 },
 "nbformat": 4,
 "nbformat_minor": 2
}
