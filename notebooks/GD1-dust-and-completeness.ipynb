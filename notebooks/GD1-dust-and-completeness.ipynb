{
 "cells": [
  {
   "cell_type": "code",
   "execution_count": null,
   "metadata": {},
   "outputs": [],
   "source": [
    "from os import path\n",
    "\n",
    "# Third-party\n",
    "import astropy.coordinates as coord\n",
    "from astropy.table import Table, vstack\n",
    "from astropy.io import fits, ascii\n",
    "import astropy.units as u\n",
    "import matplotlib as mpl\n",
    "import matplotlib.pyplot as plt\n",
    "from mpl_toolkits.axes_grid1 import make_axes_locatable\n",
    "import numpy as np\n",
    "%matplotlib inline\n",
    "\n",
    "from pyia import GaiaData\n",
    "\n",
    "import gala.coordinates as gc\n",
    "\n",
    "import dustmaps\n",
    "from dustmaps.sfd import SFDQuery\n",
    "\n",
    "import dustmaps.sfd\n",
    "dustmaps.sfd.fetch()"
   ]
  },
  {
   "cell_type": "markdown",
   "metadata": {},
   "source": [
    "# NOTE!\n",
    "\n",
    "Gap and underdensity coordinates made up!"
   ]
  },
  {
   "cell_type": "code",
   "execution_count": null,
   "metadata": {},
   "outputs": [],
   "source": [
    "gap_phi1 = coord.Angle([338., 342]*u.deg)\n",
    "udens_phi1 = coord.Angle([316, 324]*u.deg)"
   ]
  },
  {
   "cell_type": "markdown",
   "metadata": {},
   "source": [
    "---\n",
    "\n",
    "### Polygon to get all data to check scanning law:"
   ]
  },
  {
   "cell_type": "code",
   "execution_count": null,
   "metadata": {},
   "outputs": [],
   "source": [
    "poly = gc.GD1(phi1=[332, 332, 348, 348]*u.deg, \n",
    "              phi2=[-5, 5, 5, -5]*u.deg)\n",
    "for c_ in poly.transform_to(coord.ICRS):\n",
    "    print('{0.degree:.3f}, {1.degree:.3f},'.format(c_.ra, c_.dec))"
   ]
  },
  {
   "cell_type": "markdown",
   "metadata": {},
   "source": [
    "```\n",
    "SELECT *\n",
    "FROM gaiadr2.gaia_source\n",
    "WHERE CONTAINS(POINT('ICRS', ra, dec), \n",
    "               POLYGON('ICRS', \n",
    "                       164.297, 41.471,\n",
    "154.179, 48.477,\n",
    "174.374, 59.244,\n",
    "183.235, 50.615)) = 1\n",
    "```"
   ]
  },
  {
   "cell_type": "code",
   "execution_count": null,
   "metadata": {},
   "outputs": [],
   "source": [
    "scan = GaiaData('../data/gd1-gap-scanning-check.fits')"
   ]
  },
  {
   "cell_type": "code",
   "execution_count": null,
   "metadata": {},
   "outputs": [],
   "source": [
    "scan_c = coord.SkyCoord(ra=scan.ra, dec=scan.dec).transform_to(gc.GD1)"
   ]
  },
  {
   "cell_type": "code",
   "execution_count": null,
   "metadata": {},
   "outputs": [],
   "source": [
    "nan_mask = np.isnan(scan.pmra) | np.isnan(scan.pmdec)"
   ]
  },
  {
   "cell_type": "code",
   "execution_count": null,
   "metadata": {},
   "outputs": [],
   "source": [
    "fig, ax = plt.subplots(1, 1, figsize=(10, 3))\n",
    "ax.plot(scan_c.phi1.degree[nan_mask], \n",
    "        scan_c.phi2.degree[nan_mask], \n",
    "        marker='.', linestyle='none', alpha=0.2)\n",
    "ax.set_title('nan pm')\n",
    "\n",
    "fig, ax = plt.subplots(1, 1, figsize=(10, 3))\n",
    "ax.plot(scan_c.phi1.degree[~nan_mask], \n",
    "        scan_c.phi2.degree[~nan_mask], \n",
    "        marker=',', linestyle='none', alpha=0.5)\n",
    "ax.set_title('not nan pm')\n",
    "\n",
    "fig, ax = plt.subplots(1, 1, figsize=(10, 3))\n",
    "cs = ax.scatter(scan_c.phi1.degree, \n",
    "           scan_c.phi2.degree, \n",
    "           c=scan.visibility_periods_used,\n",
    "           alpha=0.2, linewidth=0)\n",
    "cb = fig.colorbar(cs)\n",
    "cb.set_label('visibility periods')"
   ]
  },
  {
   "cell_type": "markdown",
   "metadata": {},
   "source": [
    "---"
   ]
  },
  {
   "cell_type": "code",
   "execution_count": null,
   "metadata": {},
   "outputs": [],
   "source": [
    "g = GaiaData(Table.read('gd1_tbl.fits'))\n",
    "gd1_gal = coord.Galactic(l=g[g.parallax>0].skycoord.galactic.l,\n",
    "                         b=g[g.parallax>0].skycoord.galactic.b)"
   ]
  },
  {
   "cell_type": "code",
   "execution_count": null,
   "metadata": {},
   "outputs": [],
   "source": [
    "fig, ax = plt.subplots(1, 1, figsize=(8, 6))\n",
    "ax.plot(gd1_gal.l.degree, gd1_gal.b.degree, marker='.', linestyle='none')\n",
    "ax.set_xlim(300, 100)\n",
    "ax.set_ylim(0, 80)"
   ]
  },
  {
   "cell_type": "code",
   "execution_count": null,
   "metadata": {},
   "outputs": [],
   "source": [
    "l0, b0 = (170., 37.)\n",
    "l = np.arange(l0 - 50., l0 + 50., 0.1)\n",
    "b = np.arange(b0 - 50., b0 + 50., 0.1)\n",
    "l, b = np.meshgrid(l, b)\n",
    "coords = coord.SkyCoord(l*u.deg, b*u.deg,\n",
    "                        distance=1.*u.kpc, frame='galactic')"
   ]
  },
  {
   "cell_type": "code",
   "execution_count": null,
   "metadata": {},
   "outputs": [],
   "source": [
    "sfd = SFDQuery()\n",
    "Av_sfd = 2.742 * sfd(coords)"
   ]
  },
  {
   "cell_type": "code",
   "execution_count": null,
   "metadata": {},
   "outputs": [],
   "source": [
    "phi1 = np.linspace(280, 360, 1024) * u.degree\n",
    "phi2 = np.full(len(phi1), 1) * phi1.unit\n",
    "gd1_hull1 = gc.GD1(phi1=phi1, phi2=phi2).transform_to(coord.Galactic)\n",
    "\n",
    "phi2 = np.full(len(phi1), -1) * phi1.unit\n",
    "gd1_hull2 = gc.GD1(phi1=phi1, phi2=phi2).transform_to(coord.Galactic)\n",
    "\n",
    "gd1_gap = gc.GD1(phi1=[338, 338, 342, 342]*u.deg, \n",
    "                 phi2=[-1, 1, -1, 1]*u.deg).transform_to(coord.Galactic)\n",
    "gd1_underd = gc.GD1(phi1=[316, 316, 324, 324]*u.deg, \n",
    "                    phi2=[-1, 1, -1, 1]*u.deg).transform_to(coord.Galactic)"
   ]
  },
  {
   "cell_type": "code",
   "execution_count": null,
   "metadata": {},
   "outputs": [],
   "source": [
    "fig, ax = plt.subplots(1, 1, figsize=(9, 6))\n",
    "\n",
    "# ax.pcolormesh(l, b, \n",
    "#    Av_sfd[::,::-1],\n",
    "#    vmin=0.,\n",
    "#    vmax=4.,\n",
    "#    cmap='binary'\n",
    "# )\n",
    "c = ax.pcolormesh(l, b, \n",
    "   Av_sfd[::,::-1],\n",
    "   cmap='binary',\n",
    "   norm=mpl.colors.LogNorm(vmin=1E-2, vmax=1e0)\n",
    ")\n",
    "\n",
    "ax.plot(gd1_hull1.l.degree, gd1_hull1.b.degree, \n",
    "        marker='', color='tab:blue')\n",
    "ax.plot(gd1_hull2.l.degree, gd1_hull2.b.degree, \n",
    "        marker='', color='tab:blue')\n",
    "\n",
    "ax.plot(gd1_gap.l.degree[:2], gd1_gap.b.degree[:2], \n",
    "        marker='', color='tab:orange')\n",
    "ax.plot(gd1_gap.l.degree[2:], gd1_gap.b.degree[2:], \n",
    "        marker='', color='tab:orange')\n",
    "\n",
    "ax.plot(gd1_underd.l.degree[:2], gd1_underd.b.degree[:2], \n",
    "        marker='', color='tab:orange')\n",
    "ax.plot(gd1_underd.l.degree[2:], gd1_underd.b.degree[2:], \n",
    "        marker='', color='tab:orange')\n",
    "\n",
    "ax.set_xlim(220, 120)\n",
    "ax.set_ylim(0, 80)\n",
    "\n",
    "fig.colorbar(c)\n",
    "\n",
    "fig.tight_layout()"
   ]
  },
  {
   "cell_type": "markdown",
   "metadata": {},
   "source": [
    "---\n",
    "\n",
    "GD1 coordinates"
   ]
  },
  {
   "cell_type": "code",
   "execution_count": null,
   "metadata": {},
   "outputs": [],
   "source": [
    "l = np.arange(279.5, 360.5, 0.1)\n",
    "b = np.arange(-5.2, 5.2, 0.1)\n",
    "l, b = np.meshgrid(l, b)\n",
    "l = coord.Angle(l*u.deg)\n",
    "b = coord.Angle(b*u.deg)\n",
    "coords = coord.SkyCoord(l, b,\n",
    "                        distance=1.*u.kpc, frame=gc.GD1)\n",
    "\n",
    "sfd = SFDQuery()\n",
    "Av_sfd = 2.742 * sfd(coords)"
   ]
  },
  {
   "cell_type": "code",
   "execution_count": null,
   "metadata": {},
   "outputs": [],
   "source": [
    "fig, ax = plt.subplots(1, 1, figsize=(12, 3.5))\n",
    "\n",
    "l_ = l.wrap_at(180*u.deg).degree\n",
    "c = ax.pcolormesh(l_, b, \n",
    "   Av_sfd[::,::-1],\n",
    "   cmap='Blues',\n",
    "   norm=mpl.colors.LogNorm(vmin=1E-2, vmax=1e0),\n",
    "   rasterized=True\n",
    ")\n",
    "\n",
    "for v in gap_phi1.wrap_at(180*u.deg).value:\n",
    "    ax.axvline(v, color='k', marker='')\n",
    "    \n",
    "for v in udens_phi1.wrap_at(180*u.deg).value:\n",
    "    ax.axvline(v, color='k', marker='')\n",
    "\n",
    "div = make_axes_locatable(ax)\n",
    "cax = div.append_axes(\"top\", size=\"20%\", pad=0.2)\n",
    "cb = fig.colorbar(c, cax=cax, orientation='horizontal')\n",
    "cb.ax.xaxis.set_ticks_position('top')\n",
    "\n",
    "cb.set_label('$A_G$ [mag]', labelpad=10)\n",
    "cb.ax.xaxis.set_label_position('top')\n",
    "\n",
    "ax.set_xlim(l_.min(), l_.max())\n",
    "ax.set_ylim(-5.2, 5.2)\n",
    "\n",
    "ax.set_xlabel(r'$\\phi_1$ [deg]')\n",
    "ax.set_ylabel(r'$\\phi_2$ [deg]')\n",
    "\n",
    "ax.text(-40, 4.5, 'UD', ha='center', va='top', fontsize=19)\n",
    "ax.text(-20, 4.5, 'Gap', ha='center', va='top', fontsize=19)\n",
    "\n",
    "fig.tight_layout()\n",
    "ax.set_aspect('equal')\n",
    "\n",
    "fig.savefig('../paper/sfd.pdf', dpi=250)"
   ]
  },
  {
   "cell_type": "code",
   "execution_count": null,
   "metadata": {},
   "outputs": [],
   "source": [
    "for region in [gap_phi1, udens_phi1]:\n",
    "    l = np.arange(region.min().value, region.max().value, 0.1)\n",
    "    b = np.arange(-1, 1, 0.1)\n",
    "    l, b = np.meshgrid(l, b)\n",
    "    l = coord.Angle(l*u.deg)\n",
    "    b = coord.Angle(b*u.deg)\n",
    "    coords = coord.SkyCoord(l, b, distance=1.*u.kpc, \n",
    "                            frame=gc.GD1)\n",
    "\n",
    "    sfd = SFDQuery()\n",
    "    print(np.max(2.742 * sfd(coords)))"
   ]
  },
  {
   "cell_type": "code",
   "execution_count": null,
   "metadata": {},
   "outputs": [],
   "source": []
  },
  {
   "cell_type": "code",
   "execution_count": null,
   "metadata": {},
   "outputs": [],
   "source": []
  }
 ],
 "metadata": {
  "kernelspec": {
   "display_name": "Python [default]",
   "language": "python",
   "name": "python3"
  },
  "language_info": {
   "codemirror_mode": {
    "name": "ipython",
    "version": 3
   },
   "file_extension": ".py",
   "mimetype": "text/x-python",
   "name": "python",
   "nbconvert_exporter": "python",
   "pygments_lexer": "ipython3",
   "version": "3.6.4"
  }
 },
 "nbformat": 4,
 "nbformat_minor": 2
}