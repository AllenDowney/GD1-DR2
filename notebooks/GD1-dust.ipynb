{
 "cells": [
  {
   "cell_type": "code",
   "execution_count": null,
   "metadata": {},
   "outputs": [],
   "source": [
    "from os import path\n",
    "\n",
    "# Third-party\n",
    "import astropy.coordinates as coord\n",
    "from astropy.table import Table, vstack\n",
    "from astropy.io import fits, ascii\n",
    "import astropy.units as u\n",
    "import matplotlib as mpl\n",
    "import matplotlib.pyplot as plt\n",
    "import numpy as np\n",
    "%matplotlib inline\n",
    "\n",
    "from pyia import GaiaData\n",
    "\n",
    "import gala.coordinates as gc\n",
    "\n",
    "import dustmaps\n",
    "from dustmaps.sfd import SFDQuery\n",
    "\n",
    "import dustmaps.sfd\n",
    "dustmaps.sfd.fetch()"
   ]
  },
  {
   "cell_type": "markdown",
   "metadata": {},
   "source": [
    "---\n",
    "\n",
    "### Polygon to get all data to check scanning law:"
   ]
  },
  {
   "cell_type": "code",
   "execution_count": null,
   "metadata": {},
   "outputs": [],
   "source": [
    "(4*u.deg / (2*u.mas/u.yr)).to(u.Myr)"
   ]
  },
  {
   "cell_type": "code",
   "execution_count": null,
   "metadata": {},
   "outputs": [],
   "source": [
    "poly = gc.GD1(phi1=[335, 335, 345, 345]*u.deg, \n",
    "              phi2=[-2, 2, 2, -2]*u.deg)\n",
    "for c_ in poly.transform_to(coord.ICRS):\n",
    "    print('{0.degree:.3f}, {1.degree:.3f},'.format(c_.ra, c_.dec))"
   ]
  },
  {
   "cell_type": "markdown",
   "metadata": {},
   "source": [
    "SELECT *\n",
    "FROM gaiadr2.gaia_source\n",
    "WHERE CONTAINS(POINT('ICRS', ra, dec), \n",
    "               POLYGON('ICRS', \n",
    "                       164.607, 45.703,\n",
    "                       160.580, 48.621,\n",
    "                       172.989, 55.072,\n",
    "                       176.716, 51.744)) = 1"
   ]
  },
  {
   "cell_type": "code",
   "execution_count": null,
   "metadata": {},
   "outputs": [],
   "source": [
    "scan = GaiaData('../data/gd1-gap-scanning-check.fits')"
   ]
  },
  {
   "cell_type": "code",
   "execution_count": null,
   "metadata": {},
   "outputs": [],
   "source": [
    "scan_c = coord.SkyCoord(ra=scan.ra, dec=scan.dec).transform_to(gc.GD1)"
   ]
  },
  {
   "cell_type": "code",
   "execution_count": null,
   "metadata": {},
   "outputs": [],
   "source": [
    "nan_mask = np.isnan(scan.pmra) | np.isnan(scan.pmdec)"
   ]
  },
  {
   "cell_type": "code",
   "execution_count": null,
   "metadata": {},
   "outputs": [],
   "source": [
    "fig, ax = plt.subplots(1, 1, figsize=(10, 3))\n",
    "ax.scatter(scan_c.phi1.degree[nan_mask], \n",
    "           scan_c.phi2.degree[nan_mask], \n",
    "           alpha=0.2, linewidth=0)\n",
    "ax.set_title('nan pm')\n",
    "\n",
    "fig, ax = plt.subplots(1, 1, figsize=(10, 3))\n",
    "ax.scatter(scan_c.phi1.degree[~nan_mask], \n",
    "           scan_c.phi2.degree[~nan_mask], \n",
    "           alpha=0.08, linewidth=0)\n",
    "ax.set_title('not nan pm')\n",
    "\n",
    "fig, ax = plt.subplots(1, 1, figsize=(10, 3))\n",
    "cs = ax.scatter(scan_c.phi1.degree, \n",
    "           scan_c.phi2.degree, \n",
    "           c=scan.visibility_periods_used,\n",
    "           alpha=0.2, linewidth=0)\n",
    "cb = fig.colorbar(cs)\n",
    "cb.set_label('visibility periods')"
   ]
  },
  {
   "cell_type": "code",
   "execution_count": null,
   "metadata": {},
   "outputs": [],
   "source": []
  },
  {
   "cell_type": "markdown",
   "metadata": {},
   "source": [
    "---"
   ]
  },
  {
   "cell_type": "code",
   "execution_count": null,
   "metadata": {},
   "outputs": [],
   "source": [
    "g = GaiaData(Table.read('gd1_tbl.fits'))\n",
    "gd1_gal = coord.Galactic(l=g[g.parallax>0].skycoord.galactic.l,\n",
    "                         b=g[g.parallax>0].skycoord.galactic.b)"
   ]
  },
  {
   "cell_type": "code",
   "execution_count": null,
   "metadata": {},
   "outputs": [],
   "source": [
    "fig, ax = plt.subplots(1, 1, figsize=(8, 6))\n",
    "ax.plot(gd1_gal.l.degree, gd1_gal.b.degree, marker='.', linestyle='none')\n",
    "ax.set_xlim(300, 100)\n",
    "ax.set_ylim(0, 80)"
   ]
  },
  {
   "cell_type": "code",
   "execution_count": null,
   "metadata": {},
   "outputs": [],
   "source": [
    "l0, b0 = (170., 37.)\n",
    "l = np.arange(l0 - 50., l0 + 50., 0.1)\n",
    "b = np.arange(b0 - 50., b0 + 50., 0.1)\n",
    "l, b = np.meshgrid(l, b)\n",
    "coords = coord.SkyCoord(l*u.deg, b*u.deg,\n",
    "                        distance=1.*u.kpc, frame='galactic')"
   ]
  },
  {
   "cell_type": "code",
   "execution_count": null,
   "metadata": {},
   "outputs": [],
   "source": [
    "sfd = SFDQuery()\n",
    "Av_sfd = 2.742 * sfd(coords)"
   ]
  },
  {
   "cell_type": "code",
   "execution_count": null,
   "metadata": {},
   "outputs": [],
   "source": [
    "fig, ax = plt.subplots(1, 1, figsize=(9, 8))\n",
    "\n",
    "ax.pcolormesh(l, b, \n",
    "   np.sqrt(Av_sfd)[::,::-1],\n",
    "   vmin=0.,\n",
    "   vmax=2.,\n",
    "   cmap='binary'\n",
    ")\n",
    "ax.plot(gd1_gal.l.degree, gd1_gal.b.degree, \n",
    "        color='tab:orange', marker='.', linestyle='none')\n",
    "\n",
    "ax.set_xlim(230, 110)\n",
    "ax.set_ylim(0, 80)"
   ]
  },
  {
   "cell_type": "code",
   "execution_count": null,
   "metadata": {},
   "outputs": [],
   "source": []
  },
  {
   "cell_type": "code",
   "execution_count": null,
   "metadata": {},
   "outputs": [],
   "source": []
  },
  {
   "cell_type": "code",
   "execution_count": null,
   "metadata": {},
   "outputs": [],
   "source": []
  }
 ],
 "metadata": {
  "kernelspec": {
   "display_name": "Python [default]",
   "language": "python",
   "name": "python3"
  },
  "language_info": {
   "codemirror_mode": {
    "name": "ipython",
    "version": 3
   },
   "file_extension": ".py",
   "mimetype": "text/x-python",
   "name": "python",
   "nbconvert_exporter": "python",
   "pygments_lexer": "ipython3",
   "version": "3.6.4"
  }
 },
 "nbformat": 4,
 "nbformat_minor": 2
}