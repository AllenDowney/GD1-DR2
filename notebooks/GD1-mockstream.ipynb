{
 "cells": [
  {
   "cell_type": "code",
   "execution_count": null,
   "metadata": {},
   "outputs": [],
   "source": [
    "from os import path\n",
    "\n",
    "# Third-party\n",
    "import astropy.coordinates as coord\n",
    "from astropy.table import Table, vstack\n",
    "from astropy.io import fits, ascii\n",
    "import astropy.units as u\n",
    "import matplotlib as mpl\n",
    "import matplotlib.pyplot as plt\n",
    "import numpy as np\n",
    "%matplotlib inline\n",
    "\n",
    "from pyia import GaiaData\n",
    "\n",
    "import gala.coordinates as gc\n",
    "import gala.dynamics as gd\n",
    "import gala.integrate as gi\n",
    "import gala.potential as gp\n",
    "from gala.dynamics import mockstream\n",
    "from gala.units import galactic"
   ]
  },
  {
   "cell_type": "code",
   "execution_count": null,
   "metadata": {},
   "outputs": [],
   "source": [
    "g = GaiaData(Table.read('gd1_tbl.fits'))\n",
    "gd1_gal = coord.Galactic(l=g[g.parallax>0].skycoord.galactic.l,\n",
    "                         b=g[g.parallax>0].skycoord.galactic.b)"
   ]
  },
  {
   "cell_type": "code",
   "execution_count": null,
   "metadata": {},
   "outputs": [],
   "source": [
    "fig, ax = plt.subplots(1, 1, figsize=(8, 6))\n",
    "ax.plot(gd1_gal.l.degree, gd1_gal.b.degree, marker='.', linestyle='none')\n",
    "ax.set_xlim(300, 100)\n",
    "ax.set_ylim(0, 80)"
   ]
  },
  {
   "cell_type": "markdown",
   "metadata": {},
   "source": [
    "### Distance from Sergey's paper:"
   ]
  },
  {
   "cell_type": "code",
   "execution_count": null,
   "metadata": {},
   "outputs": [],
   "source": [
    "c = coord.SkyCoord(ra=g.ra, dec=g.dec,\n",
    "                   pm_ra_cosdec=g.pmra, pm_dec=g.pmdec)\n",
    "gd1_c = c.transform_to(gc.GD1)"
   ]
  },
  {
   "cell_type": "code",
   "execution_count": null,
   "metadata": {},
   "outputs": [],
   "source": [
    "def gd1_dist(phi1):\n",
    "    # 0, 10\n",
    "    # -60, 7\n",
    "    m = (10-7) / (60)\n",
    "    return (m*phi1.wrap_at(180*u.deg).value + 10) * u.kpc"
   ]
  },
  {
   "cell_type": "code",
   "execution_count": null,
   "metadata": {},
   "outputs": [],
   "source": [
    "mask = (np.abs(gd1_c.phi2) < 0.5*u.deg) & (gd1_c.phi1 > 300*u.deg)  & (gd1_c.phi1 < 310*u.deg)\n",
    "\n",
    "fig, axes = plt.subplots(1, 2, figsize=(12, 6))\n",
    "\n",
    "ax = axes[0]\n",
    "ax.plot(g.pmra[mask], g.pmdec[mask], \n",
    "        marker=',', linestyle='none', alpha=0.7)\n",
    "\n",
    "ax.set_xlim(-30, 30.)\n",
    "ax.set_ylim(-30, 30)\n",
    "ax.set_xlabel(r'$\\mu_\\alpha$')\n",
    "ax.set_ylabel(r'$\\mu_\\delta$')\n",
    "\n",
    "ax = axes[1]\n",
    "ax.plot(gd1_c.pm_phi1_cosphi2.to(u.mas/u.yr)[mask], \n",
    "        gd1_c.pm_phi2.to(u.mas/u.yr)[mask], \n",
    "        marker='.', linestyle='none', alpha=0.7)\n",
    "\n",
    "ax.set_xlim(-20, -5.)\n",
    "ax.set_ylim(-10, 5)\n",
    "ax.set_xlabel(r'$\\mu_{\\phi,1}$')\n",
    "ax.set_ylabel(r'$\\mu_{\\phi,2}$')\n",
    "\n",
    "fig.set_facecolor('w')\n",
    "fig.tight_layout()"
   ]
  },
  {
   "cell_type": "code",
   "execution_count": null,
   "metadata": {},
   "outputs": [],
   "source": [
    "(np.median(gd1_c.pm_phi1_cosphi2.to(u.mas/u.yr)[mask]), \n",
    " np.median(gd1_c.pm_phi2.to(u.mas/u.yr)[mask]))"
   ]
  },
  {
   "cell_type": "code",
   "execution_count": null,
   "metadata": {},
   "outputs": [],
   "source": [
    "w0_gd1 = gc.GD1(phi1=300*u.deg, phi2=0*u.deg, \n",
    "                distance=gd1_dist(coord.Angle(300*u.deg)),\n",
    "                pm_phi1_cosphi2=np.median(gd1_c.pm_phi1_cosphi2.to(u.mas/u.yr)[mask]),\n",
    "                pm_phi2=np.median(gd1_c.pm_phi2.to(u.mas/u.yr)[mask]),\n",
    "                radial_velocity=120*u.km/u.s)\n",
    "\n",
    "w0 = gd.PhaseSpacePosition(w0_gd1.transform_to(coord.Galactocentric).cartesian)"
   ]
  },
  {
   "cell_type": "code",
   "execution_count": null,
   "metadata": {},
   "outputs": [],
   "source": [
    "mw = gp.Hamiltonian(gp.MilkyWayPotential())"
   ]
  },
  {
   "cell_type": "code",
   "execution_count": null,
   "metadata": {},
   "outputs": [],
   "source": [
    "orbit = mw.integrate_orbit(w0, dt=-1*u.Myr, n_steps=4000)"
   ]
  },
  {
   "cell_type": "code",
   "execution_count": null,
   "metadata": {},
   "outputs": [],
   "source": [
    "stream = mockstream.fardal_stream(mw, orbit[::-1], 1e5*u.Msun, release_every=1)"
   ]
  },
  {
   "cell_type": "code",
   "execution_count": null,
   "metadata": {},
   "outputs": [],
   "source": [
    "_ = stream.plot()"
   ]
  },
  {
   "cell_type": "code",
   "execution_count": null,
   "metadata": {},
   "outputs": [],
   "source": [
    "stream_gd1 = stream.to_coord_frame(gc.GD1)"
   ]
  },
  {
   "cell_type": "code",
   "execution_count": null,
   "metadata": {},
   "outputs": [],
   "source": [
    "fig, ax = plt.subplots(1, 1, figsize=(12, 4))\n",
    "ax.plot(stream_gd1.phi1, stream_gd1.phi2, marker='.', alpha=0.5, linestyle='none')\n",
    "ax.set_ylim(-5, 5)\n",
    "ax.set_xlim(300, 360)"
   ]
  },
  {
   "cell_type": "code",
   "execution_count": null,
   "metadata": {},
   "outputs": [],
   "source": [
    "chunk_mask = np.logical_not((stream_gd1.phi1 > 338*u.deg) & (stream_gd1.phi1 < 342*u.deg))\n",
    "chunk_mask &= (stream_gd1.phi1 > 300*u.deg) & (stream_gd1.phi1 < 352*u.deg)\n",
    "chunk_mask &= np.abs(stream_gd1.phi2) < 2*u.deg\n",
    "\n",
    "fig, ax = plt.subplots(1, 1, figsize=(12, 4))\n",
    "ax.plot(stream_gd1.phi1[chunk_mask], stream_gd1.phi2[chunk_mask], \n",
    "        marker='.', alpha=0.5, linestyle='none')\n",
    "ax.set_ylim(-5, 5)\n",
    "ax.set_xlim(300, 360)"
   ]
  },
  {
   "cell_type": "code",
   "execution_count": null,
   "metadata": {},
   "outputs": [],
   "source": [
    "def reflex(c):\n",
    "    c_oph_hack = gc.GD1(phi1=c.phi1, phi2=c.phi2,\n",
    "                        distance=gd1_dist(c.phi1),\n",
    "                        pm_phi1_cosphi2=c.pm_phi1_cosphi2,\n",
    "                        pm_phi2=c.pm_phi2,\n",
    "                        radial_velocity=[0]*len(c)*u.km/u.s)\n",
    "    \n",
    "    # Correct for reflex motion\n",
    "    v_sun = coord.Galactocentric.galcen_v_sun\n",
    "    observed = c_oph_hack.transform_to(coord.Galactic)\n",
    "    rep = observed.cartesian.without_differentials()\n",
    "    rep = rep.with_differentials(observed.cartesian.differentials['s'] + v_sun)\n",
    "    return coord.Galactic(rep).transform_to(gc.GD1)"
   ]
  },
  {
   "cell_type": "code",
   "execution_count": null,
   "metadata": {},
   "outputs": [],
   "source": [
    "stream_gd1_reflex = reflex(stream_gd1)"
   ]
  },
  {
   "cell_type": "code",
   "execution_count": null,
   "metadata": {},
   "outputs": [],
   "source": [
    "fig, ax = plt.subplots(1, 1, figsize=(6, 6))\n",
    "ax.plot(stream_gd1_reflex.pm_phi1_cosphi2[chunk_mask].to(u.mas/u.yr), \n",
    "        stream_gd1_reflex.pm_phi2[chunk_mask].to(u.mas/u.yr), \n",
    "        marker='.', alpha=0.1, linestyle='none')\n",
    "ax.set_xlim(-12, -2)\n",
    "ax.set_ylim(-4, 4)"
   ]
  },
  {
   "cell_type": "code",
   "execution_count": null,
   "metadata": {},
   "outputs": [],
   "source": [
    "plt.hist(g.pmra_error.value, bins='auto');\n",
    "plt.hist(g.pmdec_error.value, bins='auto');\n",
    "np.median(g.pmra_error.value), np.median(g.pmdec_error.value)"
   ]
  },
  {
   "cell_type": "code",
   "execution_count": null,
   "metadata": {},
   "outputs": [],
   "source": [
    "obs_pm_phi1 = np.random.normal(stream_gd1_reflex.pm_phi1_cosphi2[chunk_mask].to(u.mas/u.yr).value, 0.2)\n",
    "obs_pm_phi2 = np.random.normal(stream_gd1_reflex.pm_phi2[chunk_mask].to(u.mas/u.yr).value, 0.2)"
   ]
  },
  {
   "cell_type": "code",
   "execution_count": null,
   "metadata": {},
   "outputs": [],
   "source": [
    "fig, ax = plt.subplots(1, 1, figsize=(6, 6))\n",
    "ax.plot(obs_pm_phi1, obs_pm_phi2,\n",
    "        marker='.', alpha=0.25, linestyle='none')\n",
    "ax.set_xlim(-12, -2)\n",
    "ax.set_ylim(-4, 4)"
   ]
  },
  {
   "cell_type": "code",
   "execution_count": null,
   "metadata": {},
   "outputs": [],
   "source": []
  },
  {
   "cell_type": "code",
   "execution_count": null,
   "metadata": {},
   "outputs": [],
   "source": []
  }
 ],
 "metadata": {
  "kernelspec": {
   "display_name": "Python [default]",
   "language": "python",
   "name": "python3"
  },
  "language_info": {
   "codemirror_mode": {
    "name": "ipython",
    "version": 3
   },
   "file_extension": ".py",
   "mimetype": "text/x-python",
   "name": "python",
   "nbconvert_exporter": "python",
   "pygments_lexer": "ipython3",
   "version": "3.6.4"
  }
 },
 "nbformat": 4,
 "nbformat_minor": 2
}