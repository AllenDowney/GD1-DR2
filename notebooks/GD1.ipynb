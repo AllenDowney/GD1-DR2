{
 "cells": [
  {
   "cell_type": "code",
   "execution_count": null,
   "metadata": {},
   "outputs": [],
   "source": [
    "from os import path\n",
    "\n",
    "# Third-party\n",
    "import astropy.coordinates as coord\n",
    "from astropy.table import Table, vstack\n",
    "from astropy.io import fits, ascii\n",
    "import astropy.units as u\n",
    "import matplotlib as mpl\n",
    "import matplotlib.pyplot as plt\n",
    "import numpy as np\n",
    "%matplotlib inline\n",
    "\n",
    "from pyvo.dal import TAPService\n",
    "from pyia import GaiaData\n",
    "\n",
    "import gala.coordinates as gc"
   ]
  },
  {
   "cell_type": "markdown",
   "metadata": {},
   "source": [
    "Bigger polygon!"
   ]
  },
  {
   "cell_type": "code",
   "execution_count": null,
   "metadata": {
    "scrolled": true
   },
   "outputs": [],
   "source": [
    "for r in gc.GD1(phi1=[280, 280, 300, 300]*u.deg, \n",
    "                phi2=[-5, 5, 5, -5]*u.deg).transform_to(coord.ICRS):\n",
    "    print('{0:.3f}, {1:.3f},'.format(r.ra.degree, r.dec.degree))\n",
    "\n",
    "# for r in gc.GD1(phi1=[340, 340, 360, 360]*u.deg, \n",
    "#                 phi2=[-5, 5, 5, -5]*u.deg).transform_to(coord.ICRS):\n",
    "#     print('{0:.3f}, {1:.3f},'.format(r.ra.degree, r.dec.degree))"
   ]
  },
  {
   "cell_type": "markdown",
   "metadata": {},
   "source": [
    "```\n",
    "SELECT *\n",
    "FROM gaiadr2.gaia_source\n",
    "WHERE parallax < 1 AND bp_rp > 0 AND bp_rp < 1.75 AND\n",
    "      CONTAINS(POINT('ICRS', ra, dec), \n",
    "               POLYGON('ICRS', \n",
    "\t\t\t\t\t   172.933, 46.473,\n",
    "163.017, 54.242,\n",
    "197.478, 64.308,\n",
    "201.885, 54.556)) = 1 \n",
    "```"
   ]
  },
  {
   "cell_type": "code",
   "execution_count": null,
   "metadata": {},
   "outputs": [],
   "source": [
    "# tap = TAPService(\"http://tapvizier.u-strasbg.fr/TAPVizieR/tap\")"
   ]
  },
  {
   "cell_type": "code",
   "execution_count": null,
   "metadata": {},
   "outputs": [],
   "source": [
    "# query = \"\"\"SELECT TOP 100 *\n",
    "# FROM \\\"I/345/gaia2\\\"\n",
    "# WHERE parallax < 1 AND\n",
    "#       DISTANCE(POINT('ICRS', 34.59, 29.73),\n",
    "#                POINT('ICRS', ra, dec)) > 87 AND\n",
    "#       DISTANCE(POINT('ICRS', 34.59, 29.73),\n",
    "#                POINT('ICRS', ra, dec)) < 93\n",
    "# \"\"\"\n",
    "# # res = tap.search(query, maxrec=100000)\n",
    "# job = tap.submit_job(query)"
   ]
  },
  {
   "cell_type": "code",
   "execution_count": null,
   "metadata": {},
   "outputs": [],
   "source": [
    "t1 = Table(fits.getdata('../data/gd1-polygon.fits'))\n",
    "t2 = Table(fits.getdata('../data/gd1-polygon2.fits'))\n",
    "t3 = Table(fits.getdata('../data/gd1-polygon3.fits'))\n",
    "t = vstack((t1, t2, t3))"
   ]
  },
  {
   "cell_type": "code",
   "execution_count": null,
   "metadata": {},
   "outputs": [],
   "source": [
    "g = GaiaData(t)\n",
    "c = coord.SkyCoord(ra=g.ra, dec=g.dec,\n",
    "                   pm_ra_cosdec=g.pmra, pm_dec=g.pmdec)\n",
    "gd1_c = c.transform_to(gc.GD1)\n",
    "# g = g[g.parallax > 0]"
   ]
  },
  {
   "cell_type": "code",
   "execution_count": null,
   "metadata": {},
   "outputs": [],
   "source": [
    "def gd1_dist(phi1):\n",
    "    # 0, 10\n",
    "    # -60, 7\n",
    "    m = (10-7) / (60)\n",
    "    return (m*phi1.wrap_at(180*u.deg).value + 10) * u.kpc"
   ]
  },
  {
   "cell_type": "code",
   "execution_count": null,
   "metadata": {},
   "outputs": [],
   "source": [
    "gd1_c_dist = gc.GD1(phi1=gd1_c.phi1, phi2=gd1_c.phi2,\n",
    "                    distance=gd1_dist(gd1_c.phi1),\n",
    "                    pm_phi1_cosphi2=gd1_c.pm_phi1_cosphi2,\n",
    "                    pm_phi2=gd1_c.pm_phi2,\n",
    "                    radial_velocity=[0]*len(gd1_c)*u.km/u.s)\n",
    "\n",
    "# Correct for reflex motion\n",
    "v_sun = coord.Galactocentric.galcen_v_sun\n",
    "observed = gd1_c_dist.transform_to(coord.Galactic)\n",
    "rep = observed.cartesian.without_differentials()\n",
    "rep = rep.with_differentials(observed.cartesian.differentials['s'] + v_sun)\n",
    "# gd1_c_nosunv = coord.Galactic(rep).transform_to(gc.GD1)\n",
    "gd1_c = coord.Galactic(rep).transform_to(gc.GD1)"
   ]
  },
  {
   "cell_type": "code",
   "execution_count": null,
   "metadata": {},
   "outputs": [],
   "source": [
    "np.isnan(g.pmra).sum()"
   ]
  },
  {
   "cell_type": "code",
   "execution_count": null,
   "metadata": {},
   "outputs": [],
   "source": [
    "fig, axes = plt.subplots(1, 2, figsize=(12, 6))\n",
    "\n",
    "ax = axes[0]\n",
    "ax.plot(g.pmra, g.pmdec, marker=',', linestyle='none', alpha=0.1)\n",
    "\n",
    "ax.set_xlim(-15, 15.)\n",
    "ax.set_ylim(-15, 15)\n",
    "ax.set_xlabel(r'$\\mu_\\alpha$')\n",
    "ax.set_ylabel(r'$\\mu_\\delta$')\n",
    "\n",
    "ax = axes[1]\n",
    "ax.plot(gd1_c.pm_phi1_cosphi2, gd1_c.pm_phi2, marker=',', linestyle='none', alpha=0.1)\n",
    "\n",
    "ax.set_xlim(-30, 30.)\n",
    "ax.set_ylim(-30, 30)\n",
    "ax.set_xlabel(r'$\\mu_{\\phi,1}$')\n",
    "ax.set_ylabel(r'$\\mu_{\\phi,2}$')\n",
    "\n",
    "fig.tight_layout()"
   ]
  },
  {
   "cell_type": "code",
   "execution_count": null,
   "metadata": {},
   "outputs": [],
   "source": [
    "# pm_mask = ((gd1_c.pm_phi1_cosphi2 < -10*u.mas/u.yr) & (gd1_c.pm_phi1_cosphi2 > -25*u.mas/u.yr) & \n",
    "#            (gd1_c.pm_phi2 < -2.5*u.mas/u.yr) & (gd1_c.pm_phi2 > -7.5*u.mas/u.yr) & \n",
    "#            (g.bp_rp < 1.5*u.mag) & (g.bp_rp > 0*u.mag))\n",
    "pm_mask = ((gd1_c.pm_phi1_cosphi2 < -5*u.mas/u.yr) & (gd1_c.pm_phi1_cosphi2 > -10*u.mas/u.yr) & \n",
    "           (gd1_c.pm_phi2 < 1*u.mas/u.yr) & (gd1_c.pm_phi2 > -2*u.mas/u.yr) & \n",
    "           (g.bp_rp < 1.5*u.mag) & (g.bp_rp > 0*u.mag))\n",
    "pm_mask.sum()"
   ]
  },
  {
   "cell_type": "code",
   "execution_count": null,
   "metadata": {},
   "outputs": [],
   "source": [
    "fig, ax = plt.subplots(1, 1, figsize=(12, 4))\n",
    "\n",
    "ax.plot(gd1_c.phi1[pm_mask], gd1_c.phi2[pm_mask], marker='.', alpha=0.5, linestyle='none')\n",
    "# ax.plot(gd1_c.phi1, gd1_c.phi2, marker='.', alpha=0.05, linestyle='none')"
   ]
  },
  {
   "cell_type": "code",
   "execution_count": null,
   "metadata": {},
   "outputs": [],
   "source": [
    "phi2_mask = np.abs(gd1_c.phi2) < 1*u.deg\n",
    "\n",
    "fig, axes = plt.subplots(1, 2, figsize=(12, 6))\n",
    "\n",
    "ax = axes[0]\n",
    "ax.plot(g.pmra[phi2_mask], g.pmdec[phi2_mask], marker=',', linestyle='none', alpha=0.25)\n",
    "\n",
    "ax.set_xlim(-30, 30.)\n",
    "ax.set_ylim(-30, 30)\n",
    "ax.set_xlabel(r'$\\mu_\\alpha$')\n",
    "ax.set_ylabel(r'$\\mu_\\delta$')\n",
    "\n",
    "ax = axes[1]\n",
    "ax.plot(gd1_c.pm_phi1_cosphi2.to(u.mas/u.yr)[phi2_mask], \n",
    "        gd1_c.pm_phi2.to(u.mas/u.yr)[phi2_mask], marker=',', linestyle='none', alpha=0.25)\n",
    "\n",
    "ax.set_xlim(-30, 30.)\n",
    "ax.set_ylim(-30, 30)\n",
    "ax.set_xlabel(r'$\\mu_{\\phi,1}$')\n",
    "ax.set_ylabel(r'$\\mu_{\\phi,2}$')\n",
    "\n",
    "fig.set_facecolor('w')\n",
    "fig.tight_layout()"
   ]
  },
  {
   "cell_type": "code",
   "execution_count": null,
   "metadata": {},
   "outputs": [],
   "source": [
    "better_pm_mask = ((gd1_c.pm_phi1_cosphi2 < -5.5*u.mas/u.yr) & (gd1_c.pm_phi1_cosphi2 > -8.5*u.mas/u.yr) & \n",
    "                  (gd1_c.pm_phi2 < 0.1*u.mas/u.yr) & (gd1_c.pm_phi2 > -1.25*u.mas/u.yr) & \n",
    "                  (g.bp_rp < 1.5*u.mag) & (g.bp_rp > 0*u.mag))\n",
    "better_pm_mask.sum()"
   ]
  },
  {
   "cell_type": "code",
   "execution_count": null,
   "metadata": {},
   "outputs": [],
   "source": [
    "color_mask = ((g.phot_g_mean_mag > (5*g.bp_rp + 12.5*u.mag)) | \n",
    "              (g.phot_g_mean_mag < (5*g.bp_rp + 9.5*u.mag)))\n",
    "\n",
    "fig, ax = plt.subplots(1, 1, figsize=(6, 6))\n",
    "ax.plot(g.bp_rp[better_pm_mask], g.phot_g_mean_mag[better_pm_mask], \n",
    "        marker='.', linestyle='none', alpha=0.2)\n",
    "ax.plot(g.bp_rp[better_pm_mask & color_mask], g.phot_g_mean_mag[better_pm_mask & color_mask], \n",
    "        marker='.', linestyle='none', alpha=0.2)\n",
    "\n",
    "xx = np.linspace(0, 2, 128)\n",
    "ax.plot(xx, 5*xx + 12.5)\n",
    "ax.plot(xx, 5*xx + 9.5)\n",
    "\n",
    "ax.set_ylim(20, 10)\n",
    "ax.set_xlim(-0.5, 3.)\n",
    "fig.tight_layout()"
   ]
  },
  {
   "cell_type": "code",
   "execution_count": null,
   "metadata": {},
   "outputs": [],
   "source": [
    "phi2_mask = np.abs(gd1_c.phi2) < 1*u.deg\n",
    "\n",
    "fig, axes = plt.subplots(1, 2, figsize=(12, 6))\n",
    "\n",
    "ax = axes[0]\n",
    "ax.plot(g.pmra[phi2_mask & color_mask], g.pmdec[phi2_mask & color_mask], \n",
    "        marker=',', linestyle='none', alpha=0.25)\n",
    "\n",
    "ax.set_xlim(-30, 30.)\n",
    "ax.set_ylim(-30, 30)\n",
    "ax.set_xlabel(r'$\\mu_\\alpha$')\n",
    "ax.set_ylabel(r'$\\mu_\\delta$')\n",
    "\n",
    "ax = axes[1]\n",
    "ax.plot(gd1_c.pm_phi1_cosphi2.to(u.mas/u.yr)[phi2_mask & color_mask], \n",
    "        gd1_c.pm_phi2.to(u.mas/u.yr)[phi2_mask & color_mask], \n",
    "        marker='.', linestyle='none', alpha=0.25)\n",
    "\n",
    "ax.set_xlim(-12, 0.)\n",
    "ax.set_ylim(-4, 5)\n",
    "ax.set_xlabel(r'$\\mu_{\\phi,1}$')\n",
    "ax.set_ylabel(r'$\\mu_{\\phi,2}$')\n",
    "\n",
    "fig.set_facecolor('w')\n",
    "fig.tight_layout()"
   ]
  },
  {
   "cell_type": "code",
   "execution_count": null,
   "metadata": {},
   "outputs": [],
   "source": [
    "gd1_tbl = Table.from_pandas(g[color_mask & better_pm_mask].data)\n",
    "gd1_tbl.write('gd1_tbl.fits')"
   ]
  },
  {
   "cell_type": "code",
   "execution_count": null,
   "metadata": {},
   "outputs": [],
   "source": [
    "fig, ax = plt.subplots(1, 1, figsize=(12, 4))\n",
    "\n",
    "ax.plot(gd1_c.phi1[color_mask & better_pm_mask], \n",
    "        gd1_c.phi2[color_mask & better_pm_mask], \n",
    "        marker='.', alpha=0.5, linestyle='none')\n",
    "\n",
    "ax.set_xlabel('$\\phi_1$ [degree]')\n",
    "ax.set_ylabel('$\\phi_2$ [degree]')\n",
    "\n",
    "fig.tight_layout()"
   ]
  },
  {
   "cell_type": "code",
   "execution_count": null,
   "metadata": {},
   "outputs": [],
   "source": [
    "bins1 = np.arange(280, 360+0.5, 0.3)\n",
    "bins2 = np.arange(-5, 5+0.5, 0.3)"
   ]
  },
  {
   "cell_type": "code",
   "execution_count": null,
   "metadata": {},
   "outputs": [],
   "source": [
    "from scipy.ndimage import gaussian_filter1d"
   ]
  },
  {
   "cell_type": "code",
   "execution_count": null,
   "metadata": {},
   "outputs": [],
   "source": [
    "gal = gd1_c.transform_to(coord.Galactic)"
   ]
  },
  {
   "cell_type": "code",
   "execution_count": null,
   "metadata": {},
   "outputs": [],
   "source": [
    "H, xe, ye = np.histogram2d(gd1_c.phi1[color_mask & better_pm_mask], \n",
    "                           gd1_c.phi2[color_mask & better_pm_mask],\n",
    "                           bins=(bins1, bins2))\n",
    "H = gaussian_filter1d(H, 1.2)\n",
    "fig, ax = plt.subplots(1, 1, figsize=(15, 3))\n",
    "# plt.pcolormesh(xe, ye, H.T)\n",
    "plt.pcolormesh(xe, ye, np.log(H.T), vmin=-1.5, vmax=0.6)"
   ]
  },
  {
   "cell_type": "code",
   "execution_count": null,
   "metadata": {},
   "outputs": [],
   "source": [
    "# thing  = np.log(H.T).ravel()\n",
    "# plt.hist(thing[np.isfinite(thing)], bins='auto');"
   ]
  },
  {
   "cell_type": "code",
   "execution_count": null,
   "metadata": {},
   "outputs": [],
   "source": [
    "OMG_mask = ((gd1_c.phi1 > 320*u.deg) & (gd1_c.phi1 < 330*u.deg) & \n",
    "            (gd1_c.phi2 > 0.5*u.deg) & (gd1_c.phi2 < 1.7*u.deg))\n",
    "\n",
    "OMG_stream_mask = ((gd1_c.phi1 > 320*u.deg) & (gd1_c.phi1 < 330*u.deg) & \n",
    "                   (gd1_c.phi2 > -0.5*u.deg) & (gd1_c.phi2 < 0.5*u.deg))\n",
    "\n",
    "OMG_pm_mask = np.sqrt( (gd1_c.pm_phi1_cosphi2 - (-8*u.mas/u.yr))**2 + \n",
    "                       (gd1_c.pm_phi2 - (-0.6*u.mas/u.yr))**2 ) < 0.7*u.mas/u.yr\n",
    "\n",
    "OMG_control_pm_mask = np.sqrt( (gd1_c.pm_phi1_cosphi2 - (-8*u.mas/u.yr))**2 + \n",
    "                               (gd1_c.pm_phi2 - (1.6*u.mas/u.yr))**2 ) < 0.7*u.mas/u.yr\n",
    "\n",
    "(color_mask & OMG_mask).sum()"
   ]
  },
  {
   "cell_type": "code",
   "execution_count": null,
   "metadata": {},
   "outputs": [],
   "source": [
    "(color_mask & OMG_mask).sum()"
   ]
  },
  {
   "cell_type": "code",
   "execution_count": null,
   "metadata": {},
   "outputs": [],
   "source": [
    "fig, axes = plt.subplots(1, 2, figsize=(12, 6), sharex=True, sharey=True)\n",
    "\n",
    "ax = axes[0]\n",
    "ax.plot(gd1_c.pm_phi1_cosphi2.to(u.mas/u.yr)[color_mask & OMG_mask], \n",
    "        gd1_c.pm_phi2.to(u.mas/u.yr)[color_mask & OMG_mask], \n",
    "        marker='.', linestyle='none', alpha=0.25)\n",
    "\n",
    "ax.set_xlim(-12, 0.)\n",
    "ax.set_ylim(-4, 5)\n",
    "ax.set_xlabel(r'$\\mu_{\\phi,1}$')\n",
    "ax.set_ylabel(r'$\\mu_{\\phi,2}$')\n",
    "\n",
    "ax.scatter(-8, -0.6, marker='o', facecolor='none', \n",
    "           edgecolor='k', linewidth=1, s=1200)\n",
    "\n",
    "ax = axes[1]\n",
    "ax.plot(gd1_c.pm_phi1_cosphi2.to(u.mas/u.yr)[color_mask & OMG_stream_mask], \n",
    "        gd1_c.pm_phi2.to(u.mas/u.yr)[color_mask & OMG_stream_mask], \n",
    "        marker='.', linestyle='none', alpha=0.25)\n",
    "\n",
    "# ax.scatter(-13.2, -3.4, marker='o', facecolor='none', \n",
    "#            edgecolor='k', linewidth=1, s=700)\n",
    "ax.scatter(-7.9, -0.4, marker='o', facecolor='none', \n",
    "           edgecolor='k', linewidth=1, s=1500)\n",
    "\n",
    "fig.set_facecolor('w')\n",
    "fig.tight_layout()"
   ]
  },
  {
   "cell_type": "code",
   "execution_count": null,
   "metadata": {},
   "outputs": [],
   "source": [
    "d_pm = np.sqrt((-13.2 - (-12.9))**2 + .4**2) * u.mas/u.yr\n",
    "(d_pm * 8*u.kpc).to(u.km/u.s, u.dimensionless_angles())"
   ]
  },
  {
   "cell_type": "code",
   "execution_count": null,
   "metadata": {},
   "outputs": [],
   "source": [
    "fig, ax = plt.subplots(1, 1, figsize=(6, 6))\n",
    "ax.plot(g.bp_rp[better_pm_mask], g.phot_g_mean_mag[better_pm_mask], \n",
    "        marker='.', linestyle='none', alpha=0.2)\n",
    "\n",
    "ax.plot(g.bp_rp[color_mask & OMG_mask & OMG_pm_mask], g.phot_g_mean_mag[color_mask & OMG_mask & OMG_pm_mask], \n",
    "        marker='o', linestyle='none', alpha=1., color='yellow', markeredgecolor='k', markeredgewidth=1)\n",
    "\n",
    "ax.plot(g.bp_rp[color_mask & OMG_mask & OMG_control_pm_mask], \n",
    "        g.phot_g_mean_mag[color_mask & OMG_mask & OMG_control_pm_mask], \n",
    "        marker='o', linestyle='none', alpha=1., color='tab:red', markeredgecolor='k', markeredgewidth=1)\n",
    "\n",
    "ax.set_ylim(20, 10)\n",
    "ax.set_xlim(-0.5, 3.)\n",
    "fig.tight_layout()"
   ]
  },
  {
   "cell_type": "code",
   "execution_count": null,
   "metadata": {},
   "outputs": [],
   "source": [
    "fig, ax = plt.subplots(1, 1, figsize=(12, 4))\n",
    "\n",
    "ax.quiver(gd1_c.phi1[color_mask & better_pm_mask].value, \n",
    "          gd1_c.phi2[color_mask & better_pm_mask].value,\n",
    "          gd1_c.pm_phi1_cosphi2[color_mask & better_pm_mask].value,\n",
    "          gd1_c.pm_phi2[color_mask & better_pm_mask].value,\n",
    "          alpha=0.5, headwidth=4, headlength=5, scale=1E3, width=2E-3,\n",
    "          rasterized=True)\n",
    "\n",
    "ax.set_xlabel('$\\phi_1$ [degree]')\n",
    "ax.set_ylabel('$\\phi_2$ [degree]')"
   ]
  },
  {
   "cell_type": "code",
   "execution_count": null,
   "metadata": {},
   "outputs": [],
   "source": [
    "fig, ax = plt.subplots(1, 1, figsize=(12, 4))\n",
    "\n",
    "ax.quiver(gd1_c.phi1[color_mask & better_pm_mask].value, \n",
    "          gd1_c.phi2[color_mask & better_pm_mask].value,\n",
    "          gd1_c.pm_phi1_cosphi2[color_mask & better_pm_mask].value,\n",
    "          gd1_c.pm_phi2[color_mask & better_pm_mask].value,\n",
    "          alpha=0.5, headwidth=4, headlength=5, scale=1E3, width=2E-3,\n",
    "          rasterized=True)\n",
    "\n",
    "ax.set_xlabel('$\\phi_1$ [degree]')\n",
    "ax.set_ylabel('$\\phi_2$ [degree]')\n",
    "\n",
    "ax.set_xlim(315, 330)\n",
    "ax.set_ylim(-2, 2)"
   ]
  },
  {
   "cell_type": "markdown",
   "metadata": {},
   "source": [
    "# MDM targets"
   ]
  },
  {
   "cell_type": "code",
   "execution_count": null,
   "metadata": {},
   "outputs": [],
   "source": [
    "iso = ascii.read('../data/gd1-isochrone.cmd', header_start=12)"
   ]
  },
  {
   "cell_type": "code",
   "execution_count": null,
   "metadata": {},
   "outputs": [],
   "source": [
    "# control_cut = ((gd1_c.phi1 > 315*u.deg) & (gd1_c.phi1 < 330*u.deg) & \n",
    "#                ((gd1_c.phi2 > 1*u.deg) | (gd1_c.phi2 < -1*u.deg)))\n",
    "\n",
    "control_cut = ((gd1_c.pm_phi1_cosphi2 < -6*u.mas/u.yr) & (gd1_c.pm_phi1_cosphi2 > -8.5*u.mas/u.yr) & \n",
    "               (gd1_c.pm_phi2 < 2.5*u.mas/u.yr) & (gd1_c.pm_phi2 > 0*u.mas/u.yr) & \n",
    "               (g.bp_rp < 1.5*u.mag) & (g.bp_rp > 0*u.mag))"
   ]
  },
  {
   "cell_type": "code",
   "execution_count": null,
   "metadata": {},
   "outputs": [],
   "source": [
    "mdm_cut = ((g.phot_g_mean_mag < 15*u.mag) & (g.bp_rp > 0.5*u.mag) & \n",
    "           (g.phot_g_mean_mag < (5*g.bp_rp + 9.3*u.mag)) &\n",
    "           (g.phot_g_mean_mag > (-5*g.bp_rp + 22*u.mag)))"
   ]
  },
  {
   "cell_type": "code",
   "execution_count": null,
   "metadata": {},
   "outputs": [],
   "source": [
    "fig, axes = plt.subplots(1, 2, figsize=(9, 5), sharex=True, sharey=True)\n",
    "\n",
    "ax = axes[0]\n",
    "ax.plot(g.bp_rp[better_pm_mask], \n",
    "        g.phot_g_mean_mag[better_pm_mask], \n",
    "        marker='.', linestyle='none', alpha=0.4)\n",
    "ax.axvline(0.6)\n",
    "\n",
    "ax = axes[1]\n",
    "ax.plot(g.bp_rp[control_cut], \n",
    "        g.phot_g_mean_mag[control_cut], \n",
    "        marker='.', linestyle='none', alpha=0.4)\n",
    "\n",
    "# plt.plot(iso['Gaia_BP_DR2Rev'] - iso['Gaia_RP_DR2Rev'],\n",
    "#          iso['Gaia_G_DR2Rev'] + coord.Distance(gd1_dist(coord.Angle(350*u.deg))).distmod.value)\n",
    "\n",
    "# xx = np.linspace(0, 2, 128)\n",
    "# plt.plot(xx, -8*xx + 18.5)\n",
    "\n",
    "ax.set_xlim(-0.5, 2)\n",
    "ax.set_ylim(20.7, 9.5)\n",
    "ax.axvline(0.6)\n",
    "\n",
    "axes[0].set_title('PM cut')\n",
    "axes[1].set_title('control')\n",
    "\n",
    "fig.tight_layout()"
   ]
  },
  {
   "cell_type": "code",
   "execution_count": null,
   "metadata": {},
   "outputs": [],
   "source": [
    "plt.figure(figsize=(6, 6))\n",
    "\n",
    "plt.plot(g.bp_rp[better_pm_mask], \n",
    "         g.phot_g_mean_mag[better_pm_mask], \n",
    "         marker='.', linestyle='none', alpha=0.2)\n",
    "\n",
    "plt.plot(iso['Gaia_BP_DR2Rev'] - iso['Gaia_RP_DR2Rev'],\n",
    "         iso['Gaia_G_DR2Rev'] + coord.Distance(gd1_dist(coord.Angle(300*u.deg))).distmod.value)\n",
    "plt.plot(iso['Gaia_BP_DR2Rev'] - iso['Gaia_RP_DR2Rev'],\n",
    "         iso['Gaia_G_DR2Rev'] + coord.Distance(gd1_dist(coord.Angle(350*u.deg))).distmod.value)\n",
    "\n",
    "xx = np.linspace(0, 2, 128)\n",
    "plt.plot(xx, -4.5*xx + 17.8, color='k', marker='')\n",
    "plt.plot(xx, -4.5*xx + 19.8, color='k', marker='')\n",
    "plt.plot(xx, 4.5*xx + 10.4, color='k', marker='')\n",
    "plt.axvline(0.9, color='k', marker='')\n",
    "\n",
    "plt.xlim(-0.5, 2)\n",
    "plt.ylim(20.7, 9.5)"
   ]
  },
  {
   "cell_type": "code",
   "execution_count": null,
   "metadata": {},
   "outputs": [],
   "source": [
    "sup = ((g.parallax[better_pm_mask] > 0) & \n",
    "       ((g.parallax[better_pm_mask] / g.parallax_error[better_pm_mask]) > 6))\n",
    "\n",
    "G = g.phot_g_mean_mag[better_pm_mask]\n",
    "bprp = g.bp_rp[better_pm_mask]\n",
    "\n",
    "obs_mask = ((G > (-4.5*bprp + 17.8*u.mag)) & \n",
    "            (G < (-4.5*bprp + 19.8*u.mag)) & \n",
    "            (G < (4.5*bprp + 10.4*u.mag)) &\n",
    "            (bprp > 0.9*u.mag))\n",
    "sup &= obs_mask\n",
    "\n",
    "sup2 = (((g.phot_g_mean_mag[better_pm_mask][sup] - g[better_pm_mask][sup].distmod) < 3.*u.mag) &\n",
    "        (g.bp_rp[better_pm_mask][sup] > 0.8*u.mag))\n",
    "\n",
    "len(g.parallax[better_pm_mask][sup][sup2])"
   ]
  },
  {
   "cell_type": "code",
   "execution_count": null,
   "metadata": {},
   "outputs": [],
   "source": [
    "obs_g = g[better_pm_mask][sup][sup2]"
   ]
  },
  {
   "cell_type": "code",
   "execution_count": null,
   "metadata": {},
   "outputs": [],
   "source": [
    "plt.figure(figsize=(6, 6))\n",
    "\n",
    "plt.plot(g.bp_rp[better_pm_mask], \n",
    "         g.phot_g_mean_mag[better_pm_mask], \n",
    "         marker='.', linestyle='none', alpha=0.2)\n",
    "\n",
    "plt.plot(iso['Gaia_BP_DR2Rev'] - iso['Gaia_RP_DR2Rev'],\n",
    "         iso['Gaia_G_DR2Rev'] + coord.Distance(gd1_dist(coord.Angle(300*u.deg))).distmod.value)\n",
    "plt.plot(iso['Gaia_BP_DR2Rev'] - iso['Gaia_RP_DR2Rev'],\n",
    "         iso['Gaia_G_DR2Rev'] + coord.Distance(gd1_dist(coord.Angle(350*u.deg))).distmod.value)\n",
    "\n",
    "plt.plot(obs_g.bp_rp, \n",
    "         obs_g.phot_g_mean_mag, \n",
    "         marker='o', linestyle='none', alpha=0.75)\n",
    "\n",
    "# xx = np.linspace(0, 2, 128)\n",
    "# plt.plot(xx, -4.5*xx + 17.8, color='k', marker='')\n",
    "# plt.plot(xx, -4.5*xx + 19.8, color='k', marker='')\n",
    "# plt.plot(xx, 4.5*xx + 10.4, color='k', marker='')\n",
    "# plt.axvline(0.9, color='k', marker='')\n",
    "\n",
    "plt.xlim(-0.5, 2)\n",
    "plt.ylim(20.7, 9.5)"
   ]
  },
  {
   "cell_type": "code",
   "execution_count": null,
   "metadata": {},
   "outputs": [],
   "source": [
    "gd1_tbl = Table.from_pandas(obs_g.data)\n",
    "gd1_tbl = gd1_tbl['ra', 'dec', 'phot_g_mean_mag']\n",
    "gd1_tbl = gd1_tbl[np.argsort(gd1_tbl['ra'])]\n",
    "gd1_tbl['name'] = ['GD1_{0:02d}'.format(i) for i in range(len(gd1_tbl))]\n",
    "gd1_tbl = gd1_tbl['name', 'ra', 'dec', 'phot_g_mean_mag']\n",
    "\n",
    "ra = coord.Angle(gd1_tbl['ra'] * u.deg)\n",
    "dec = coord.Angle(gd1_tbl['dec'] * u.deg)\n",
    "aaah = coord.SkyCoord(ra=ra, dec=dec)\n",
    "gd1_tbl['ra_str'] = ra.to_string(unit=u.hourangle, sep=' ', precision=2)\n",
    "gd1_tbl['dec_str'] = dec.to_string(unit=u.degree, sep=' ', precision=2)\n",
    "\n",
    "gd1_tbl = gd1_tbl['name', 'ra_str', 'dec_str', 'phot_g_mean_mag']\n",
    "gd1_tbl.write('/Users/adrian/projects/mdm-gaia/gd1.txt', format='ascii.basic')"
   ]
  },
  {
   "cell_type": "code",
   "execution_count": null,
   "metadata": {},
   "outputs": [],
   "source": [
    "from astropy.time import Time\n",
    "from astroplan import FixedTarget, Observer, is_observable, AirmassConstraint, AtNightConstraint"
   ]
  },
  {
   "cell_type": "code",
   "execution_count": null,
   "metadata": {},
   "outputs": [],
   "source": [
    "observer = Observer(location=coord.EarthLocation.of_site('MDM'))"
   ]
  },
  {
   "cell_type": "code",
   "execution_count": null,
   "metadata": {},
   "outputs": [],
   "source": [
    "time_range = Time(['2018-04-25', '2018-04-29'])\n",
    "constraints = [AirmassConstraint(max=2.5, boolean_constraint=False),\n",
    "               AtNightConstraint.twilight_civil()]"
   ]
  },
  {
   "cell_type": "code",
   "execution_count": null,
   "metadata": {},
   "outputs": [],
   "source": [
    "targets = [FixedTarget(cc) for cc in aaah]\n",
    "is_observable(constraints, observer, targets, time_range=time_range)"
   ]
  },
  {
   "cell_type": "code",
   "execution_count": null,
   "metadata": {},
   "outputs": [],
   "source": []
  }
 ],
 "metadata": {
  "kernelspec": {
   "display_name": "Python [default]",
   "language": "python",
   "name": "python3"
  },
  "language_info": {
   "codemirror_mode": {
    "name": "ipython",
    "version": 3
   },
   "file_extension": ".py",
   "mimetype": "text/x-python",
   "name": "python",
   "nbconvert_exporter": "python",
   "pygments_lexer": "ipython3",
   "version": "3.6.4"
  }
 },
 "nbformat": 4,
 "nbformat_minor": 2
}