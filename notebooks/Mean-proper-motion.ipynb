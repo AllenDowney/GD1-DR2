{
 "cells": [
  {
   "cell_type": "code",
   "execution_count": null,
   "metadata": {},
   "outputs": [],
   "source": [
    "from os import path\n",
    "\n",
    "# Third-party\n",
    "import astropy.coordinates as coord\n",
    "from astropy.table import Table, vstack\n",
    "from astropy.io import fits\n",
    "import astropy.units as u\n",
    "import matplotlib as mpl\n",
    "import matplotlib.pyplot as plt\n",
    "import numpy as np\n",
    "%matplotlib inline\n",
    "\n",
    "from pyia import GaiaData\n",
    "\n",
    "import gala.coordinates as gc\n",
    "import gala.dynamics as gd\n",
    "from scipy.stats import binned_statistic\n",
    "from scipy.special import logsumexp\n",
    "\n",
    "import emcee\n",
    "import corner"
   ]
  },
  {
   "cell_type": "code",
   "execution_count": null,
   "metadata": {},
   "outputs": [],
   "source": [
    "g = GaiaData('../data/gd1-with-masks.fits')\n",
    "stream = g[g.pm_mask & g.gi_cmd_mask]"
   ]
  },
  {
   "cell_type": "code",
   "execution_count": null,
   "metadata": {},
   "outputs": [],
   "source": [
    "fig, ax = plt.subplots(1, 1, figsize=(15, 4))\n",
    "\n",
    "ax.plot(stream.phi1, stream.phi2, \n",
    "        marker='o', linewidth=0, ms=3,\n",
    "        linestyle='none', alpha=0.6, c='k')\n",
    "\n",
    "ax.set_xlim(-36, 0)\n",
    "ax.set_ylim(-4, 4)\n",
    "\n",
    "r = mpl.patches.Rectangle((-17.5, -0.7), 8, 1.2)\n",
    "# r = mpl.patches.Rectangle((-30, -0.7), 8, 1.2)\n",
    "ax.add_patch(r)"
   ]
  },
  {
   "cell_type": "code",
   "execution_count": null,
   "metadata": {},
   "outputs": [],
   "source": [
    "box = ((stream.phi1.value > r.xy[0]) &\n",
    "       (stream.phi1.value < (r.xy[0]+r.get_width())) & \n",
    "       (stream.phi2.value > r.xy[1]) &\n",
    "       (stream.phi2.value < (r.xy[1]+r.get_height())))\n",
    "box.sum()"
   ]
  },
  {
   "cell_type": "code",
   "execution_count": null,
   "metadata": {},
   "outputs": [],
   "source": [
    "dense_part = stream[box]"
   ]
  },
  {
   "cell_type": "code",
   "execution_count": null,
   "metadata": {},
   "outputs": [],
   "source": [
    "C = dense_part.get_cov()\n",
    "# y = np.vstack((dense_part.ra.value, dense_part.dec.value,\n",
    "#                dense_part.pmra.value, dense_part.pmdec.value)).T\n",
    "y = np.vstack((dense_part.pmra.value, dense_part.pmdec.value)).T\n",
    "\n",
    "# cov = np.delete(np.delete(C, 2, axis=2), 2, axis=1)\n",
    "# cov = np.delete(np.delete(cov, -1, axis=2), -1, axis=1)\n",
    "cov = C[:, 3:5, 3:5]\n",
    "ivar = np.array([np.linalg.inv(cov[i]) for i in range(len(dense_part))])"
   ]
  },
  {
   "cell_type": "code",
   "execution_count": null,
   "metadata": {},
   "outputs": [],
   "source": [
    "def lnlike(p, y, ivar):\n",
    "    p_y = np.array(p) - y\n",
    "    derp = np.einsum('ijk,ij->ik', ivar, p_y)\n",
    "    derp = np.einsum('ij,ij->i', p_y, derp)\n",
    "    return -0.5 * np.sum(derp)"
   ]
  },
  {
   "cell_type": "code",
   "execution_count": null,
   "metadata": {},
   "outputs": [],
   "source": [
    "nwalkers = 128\n",
    "sampler = emcee.EnsembleSampler(nwalkers, y.shape[1], lnlike, \n",
    "                                args=(y, ivar))"
   ]
  },
  {
   "cell_type": "code",
   "execution_count": null,
   "metadata": {},
   "outputs": [],
   "source": [
    "# p0 = np.random.normal([177, 53.9, -7, -7.], 1e-2, size=(nwalkers, sampler.dim))\n",
    "p0 = np.random.normal([-7, -7.], 1e-2, size=(nwalkers, sampler.dim))\n",
    "pos, *_ = sampler.run_mcmc(p0, 1024)\n",
    "sampler.reset()\n",
    "_ = sampler.run_mcmc(pos, 2048)"
   ]
  },
  {
   "cell_type": "code",
   "execution_count": null,
   "metadata": {},
   "outputs": [],
   "source": [
    "fig, axes = plt.subplots(sampler.dim, 1, figsize=(6, 8),\n",
    "                         sharex=True)\n",
    "\n",
    "for k in range(sampler.dim):\n",
    "    for walker in sampler.chain[..., k]:\n",
    "        axes[k].plot(walker, marker='', \n",
    "                     drawstyle='steps-mid', color='k', alpha=0.2)"
   ]
  },
  {
   "cell_type": "code",
   "execution_count": null,
   "metadata": {},
   "outputs": [],
   "source": [
    "np.median(sampler.acceptance_fraction)"
   ]
  },
  {
   "cell_type": "code",
   "execution_count": null,
   "metadata": {},
   "outputs": [],
   "source": [
    "flatchain = np.vstack((sampler.chain[:, 256::16]))"
   ]
  },
  {
   "cell_type": "code",
   "execution_count": null,
   "metadata": {},
   "outputs": [],
   "source": [
    "_ = corner.corner(flatchain)"
   ]
  },
  {
   "cell_type": "code",
   "execution_count": null,
   "metadata": {},
   "outputs": [],
   "source": [
    "med_y = np.median(flatchain, axis=0)\n",
    "med_y_cov = np.cov(flatchain.T)\n",
    "med_y_std = 1.5 * np.median(np.abs(flatchain - med_y), axis=0)"
   ]
  },
  {
   "cell_type": "code",
   "execution_count": null,
   "metadata": {},
   "outputs": [],
   "source": [
    "med_y"
   ]
  },
  {
   "cell_type": "code",
   "execution_count": null,
   "metadata": {},
   "outputs": [],
   "source": [
    "plt.figure(figsize=(6, 6))\n",
    "plt.scatter(y[:, 0], y[:, 1])\n",
    "plt.scatter(med_y[0], med_y[1])"
   ]
  },
  {
   "cell_type": "code",
   "execution_count": null,
   "metadata": {},
   "outputs": [],
   "source": [
    "plt.scatter(dense_part.ra, dense_part.dec)\n",
    "plt.scatter(np.mean(dense_part.ra), np.mean(dense_part.dec))"
   ]
  },
  {
   "cell_type": "code",
   "execution_count": null,
   "metadata": {},
   "outputs": [],
   "source": [
    "print('ra, dec = {:.3f}, {:.3f}'.format(np.mean(dense_part.ra), np.mean(dense_part.dec)))"
   ]
  },
  {
   "cell_type": "code",
   "execution_count": null,
   "metadata": {},
   "outputs": [],
   "source": [
    "print('pmra_cosdec = {:.2f} +/- {:.2f} '.format(med_y[0], med_y_std[0]))\n",
    "print('pmdec = {:.2f} +/- {:.2f} '.format(med_y[1], med_y_std[1]))"
   ]
  },
  {
   "cell_type": "code",
   "execution_count": null,
   "metadata": {},
   "outputs": [],
   "source": []
  }
 ],
 "metadata": {
  "kernelspec": {
   "display_name": "Python [default]",
   "language": "python",
   "name": "python3"
  },
  "language_info": {
   "codemirror_mode": {
    "name": "ipython",
    "version": 3
   },
   "file_extension": ".py",
   "mimetype": "text/x-python",
   "name": "python",
   "nbconvert_exporter": "python",
   "pygments_lexer": "ipython3",
   "version": "3.6.4"
  }
 },
 "nbformat": 4,
 "nbformat_minor": 2
}