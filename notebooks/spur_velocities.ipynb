{
 "cells": [
  {
   "cell_type": "code",
   "execution_count": 183,
   "metadata": {},
   "outputs": [],
   "source": [
    "import numpy as np\n",
    "import matplotlib as mpl\n",
    "import matplotlib.pyplot as plt\n",
    "from mpl_toolkits.axes_grid1 import make_axes_locatable\n",
    "%matplotlib inline\n",
    "\n",
    "from astropy.table import Table\n",
    "import astropy.units as u\n",
    "import astropy.coordinates as coord\n",
    "from astropy.io import ascii\n",
    "\n",
    "from pyia import GaiaData\n",
    "import gala.coordinates as gc"
   ]
  },
  {
   "cell_type": "code",
   "execution_count": 184,
   "metadata": {},
   "outputs": [],
   "source": [
    "plt.style.use('notebook')"
   ]
  },
  {
   "cell_type": "code",
   "execution_count": 32,
   "metadata": {},
   "outputs": [],
   "source": [
    "tall = Table.read('../data/gd1_both.tab', format='ascii.commented_header', delimiter='\\t')"
   ]
  },
  {
   "cell_type": "code",
   "execution_count": 37,
   "metadata": {},
   "outputs": [
    {
     "data": {
      "text/plain": [
       "['object',\n",
       " 'rad',\n",
       " 'decd',\n",
       " 'VELOCITY',\n",
       " 'VELOCITY_1',\n",
       " 'VELOCITY_2',\n",
       " 'CZXCR',\n",
       " 'CZXCR_1',\n",
       " 'CZXCR_2',\n",
       " 'rank',\n",
       " 'type_1']"
      ]
     },
     "execution_count": 37,
     "metadata": {},
     "output_type": "execute_result"
    }
   ],
   "source": [
    "tall.colnames"
   ]
  },
  {
   "cell_type": "code",
   "execution_count": 33,
   "metadata": {},
   "outputs": [],
   "source": [
    "t = tall[tall['CZXCR']>4]"
   ]
  },
  {
   "cell_type": "code",
   "execution_count": 34,
   "metadata": {},
   "outputs": [],
   "source": [
    "vbins = np.arange(-200,200,10)"
   ]
  },
  {
   "cell_type": "code",
   "execution_count": 35,
   "metadata": {},
   "outputs": [
    {
     "data": {
      "image/png": "[encoded data removed]",
      "text/plain": [
       "<matplotlib.figure.Figure at 0x7fbae1cdc080>"
      ]
     },
     "metadata": {},
     "output_type": "display_data"
    }
   ],
   "source": [
    "plt.hist(t['VELOCITY'][t['rank']==1], bins=vbins, alpha=0.5)\n",
    "plt.hist(t['VELOCITY'][t['rank']==3], bins=vbins, alpha=0.5)\n",
    "plt.hist(t['VELOCITY'][t['rank']==4], bins=vbins, alpha=0.5)\n",
    "\n",
    "plt.hist(t['VELOCITY'][t['rank']==5], bins=vbins, alpha=0.5, histtype='step', color='k')\n",
    "\n",
    "plt.tight_layout()"
   ]
  },
  {
   "cell_type": "code",
   "execution_count": 45,
   "metadata": {},
   "outputs": [],
   "source": [
    "members = (t['rank']<5) & (t['VELOCITY']>-100) & (t['VELOCITY']<-70)\n",
    "members_alt = (t['rank']<5) & (t['VELOCITY']>-50) & (t['VELOCITY']<-20)"
   ]
  },
  {
   "cell_type": "code",
   "execution_count": 46,
   "metadata": {},
   "outputs": [],
   "source": [
    "ts = t['VELOCITY', 'CZXCR', 'rank']"
   ]
  },
  {
   "cell_type": "code",
   "execution_count": 47,
   "metadata": {},
   "outputs": [
    {
     "data": {
      "text/html": [
       "<i>Table length=2</i>\n",
       "<table id=\"table140440668285472\" class=\"table-striped table-bordered table-condensed\">\n",
       "<thead><tr><th>VELOCITY</th><th>CZXCR</th><th>rank</th></tr></thead>\n",
       "<thead><tr><th>float64</th><th>float64</th><th>int64</th></tr></thead>\n",
       "<tr><td>174.25</td><td>5.76</td><td>1</td></tr>\n",
       "<tr><td>-34.0</td><td>11.67</td><td>1</td></tr>\n",
       "</table>"
      ],
      "text/plain": [
       "<Table length=2>\n",
       "VELOCITY  CZXCR   rank\n",
       "float64  float64 int64\n",
       "-------- ------- -----\n",
       "  174.25    5.76     1\n",
       "   -34.0   11.67     1"
      ]
     },
     "execution_count": 47,
     "metadata": {},
     "output_type": "execute_result"
    }
   ],
   "source": [
    "ts[ts['rank']==1]"
   ]
  },
  {
   "cell_type": "code",
   "execution_count": 48,
   "metadata": {},
   "outputs": [
    {
     "data": {
      "text/html": [
       "<i>Table length=10</i>\n",
       "<table id=\"table140440629478232\" class=\"table-striped table-bordered table-condensed\">\n",
       "<thead><tr><th>VELOCITY</th><th>CZXCR</th><th>rank</th></tr></thead>\n",
       "<thead><tr><th>float64</th><th>float64</th><th>int64</th></tr></thead>\n",
       "<tr><td>-73.97</td><td>14.68</td><td>4</td></tr>\n",
       "<tr><td>85.71</td><td>32.53</td><td>4</td></tr>\n",
       "<tr><td>-73.37</td><td>8.58</td><td>4</td></tr>\n",
       "<tr><td>-14.0</td><td>22.27</td><td>4</td></tr>\n",
       "<tr><td>31.49</td><td>40.07</td><td>4</td></tr>\n",
       "<tr><td>31.38</td><td>12.22</td><td>4</td></tr>\n",
       "<tr><td>-31.58</td><td>10.62</td><td>4</td></tr>\n",
       "<tr><td>16.06</td><td>9.33</td><td>4</td></tr>\n",
       "<tr><td>23.5</td><td>9.32</td><td>4</td></tr>\n",
       "<tr><td>-116.34</td><td>25.46</td><td>4</td></tr>\n",
       "</table>"
      ],
      "text/plain": [
       "<Table length=10>\n",
       "VELOCITY  CZXCR   rank\n",
       "float64  float64 int64\n",
       "-------- ------- -----\n",
       "  -73.97   14.68     4\n",
       "   85.71   32.53     4\n",
       "  -73.37    8.58     4\n",
       "   -14.0   22.27     4\n",
       "   31.49   40.07     4\n",
       "   31.38   12.22     4\n",
       "  -31.58   10.62     4\n",
       "   16.06    9.33     4\n",
       "    23.5    9.32     4\n",
       " -116.34   25.46     4"
      ]
     },
     "execution_count": 48,
     "metadata": {},
     "output_type": "execute_result"
    }
   ],
   "source": [
    "ts[ts['rank']==4]"
   ]
  },
  {
   "cell_type": "code",
   "execution_count": 49,
   "metadata": {},
   "outputs": [
    {
     "data": {
      "text/html": [
       "<i>Table length=2</i>\n",
       "<table id=\"table140440634564560\" class=\"table-striped table-bordered table-condensed\">\n",
       "<thead><tr><th>VELOCITY</th><th>CZXCR</th><th>rank</th></tr></thead>\n",
       "<thead><tr><th>float64</th><th>float64</th><th>int64</th></tr></thead>\n",
       "<tr><td>-73.97</td><td>14.68</td><td>4</td></tr>\n",
       "<tr><td>-73.37</td><td>8.58</td><td>4</td></tr>\n",
       "</table>"
      ],
      "text/plain": [
       "<Table length=2>\n",
       "VELOCITY  CZXCR   rank\n",
       "float64  float64 int64\n",
       "-------- ------- -----\n",
       "  -73.97   14.68     4\n",
       "  -73.37    8.58     4"
      ]
     },
     "execution_count": 49,
     "metadata": {},
     "output_type": "execute_result"
    }
   ],
   "source": [
    "ts[members]"
   ]
  },
  {
   "cell_type": "code",
   "execution_count": 50,
   "metadata": {},
   "outputs": [
    {
     "data": {
      "text/html": [
       "<i>Table length=2</i>\n",
       "<table id=\"table140440634564168\" class=\"table-striped table-bordered table-condensed\">\n",
       "<thead><tr><th>VELOCITY</th><th>CZXCR</th><th>rank</th></tr></thead>\n",
       "<thead><tr><th>float64</th><th>float64</th><th>int64</th></tr></thead>\n",
       "<tr><td>-34.0</td><td>11.67</td><td>1</td></tr>\n",
       "<tr><td>-31.58</td><td>10.62</td><td>4</td></tr>\n",
       "</table>"
      ],
      "text/plain": [
       "<Table length=2>\n",
       "VELOCITY  CZXCR   rank\n",
       "float64  float64 int64\n",
       "-------- ------- -----\n",
       "   -34.0   11.67     1\n",
       "  -31.58   10.62     4"
      ]
     },
     "execution_count": 50,
     "metadata": {},
     "output_type": "execute_result"
    }
   ],
   "source": [
    "ts[members_alt]"
   ]
  },
  {
   "cell_type": "code",
   "execution_count": 171,
   "metadata": {},
   "outputs": [],
   "source": [
    "ts_all = tall['VELOCITY', 'CZXCR', 'rank']"
   ]
  },
  {
   "cell_type": "code",
   "execution_count": 172,
   "metadata": {},
   "outputs": [
    {
     "data": {
      "text/html": [
       "<i>Table length=18</i>\n",
       "<table id=\"table140440514946944\" class=\"table-striped table-bordered table-condensed\">\n",
       "<thead><tr><th>VELOCITY</th><th>CZXCR</th><th>rank</th></tr></thead>\n",
       "<thead><tr><th>float64</th><th>float64</th><th>int64</th></tr></thead>\n",
       "<tr><td>-73.97</td><td>14.68</td><td>4</td></tr>\n",
       "<tr><td>85.71</td><td>32.53</td><td>4</td></tr>\n",
       "<tr><td>-73.37</td><td>8.58</td><td>4</td></tr>\n",
       "<tr><td>-14.0</td><td>22.27</td><td>4</td></tr>\n",
       "<tr><td>174.25</td><td>5.76</td><td>1</td></tr>\n",
       "<tr><td>-34.0</td><td>11.67</td><td>1</td></tr>\n",
       "<tr><td>319.12</td><td>2.78</td><td>1</td></tr>\n",
       "<tr><td>31.49</td><td>40.07</td><td>4</td></tr>\n",
       "<tr><td>-29.71</td><td>3.72</td><td>4</td></tr>\n",
       "<tr><td>31.38</td><td>12.22</td><td>4</td></tr>\n",
       "<tr><td>-377.49</td><td>2.13</td><td>1</td></tr>\n",
       "<tr><td>-31.58</td><td>10.62</td><td>4</td></tr>\n",
       "<tr><td>-71.82</td><td>3.31</td><td>1</td></tr>\n",
       "<tr><td>16.06</td><td>9.33</td><td>4</td></tr>\n",
       "<tr><td>23.5</td><td>9.32</td><td>4</td></tr>\n",
       "<tr><td>-80.78</td><td>3.17</td><td>1</td></tr>\n",
       "<tr><td>119.23</td><td>22.75</td><td>3</td></tr>\n",
       "<tr><td>-116.34</td><td>25.46</td><td>4</td></tr>\n",
       "</table>"
      ],
      "text/plain": [
       "<Table length=18>\n",
       "VELOCITY  CZXCR   rank\n",
       "float64  float64 int64\n",
       "-------- ------- -----\n",
       "  -73.97   14.68     4\n",
       "   85.71   32.53     4\n",
       "  -73.37    8.58     4\n",
       "   -14.0   22.27     4\n",
       "  174.25    5.76     1\n",
       "   -34.0   11.67     1\n",
       "  319.12    2.78     1\n",
       "   31.49   40.07     4\n",
       "  -29.71    3.72     4\n",
       "   31.38   12.22     4\n",
       " -377.49    2.13     1\n",
       "  -31.58   10.62     4\n",
       "  -71.82    3.31     1\n",
       "   16.06    9.33     4\n",
       "    23.5    9.32     4\n",
       "  -80.78    3.17     1\n",
       "  119.23   22.75     3\n",
       " -116.34   25.46     4"
      ]
     },
     "execution_count": 172,
     "metadata": {},
     "output_type": "execute_result"
    }
   ],
   "source": [
    "ts_all[ts_all['rank']<5]"
   ]
  },
  {
   "cell_type": "markdown",
   "metadata": {},
   "source": [
    "### Position in CMD and proper motions"
   ]
  },
  {
   "cell_type": "code",
   "execution_count": 51,
   "metadata": {},
   "outputs": [],
   "source": [
    "tin = Table.read('../data/gd1_input_catalog.fits')"
   ]
  },
  {
   "cell_type": "code",
   "execution_count": 59,
   "metadata": {},
   "outputs": [],
   "source": [
    "g = GaiaData(tin)\n",
    "c = coord.SkyCoord(ra=g.ra, dec=g.dec, pm_ra_cosdec=g.pmra, pm_dec=g.pmdec)"
   ]
  },
  {
   "cell_type": "code",
   "execution_count": 60,
   "metadata": {},
   "outputs": [],
   "source": [
    "def gd1_dist(phi1):\n",
    "    # 0, 10\n",
    "    # -60, 7\n",
    "    m = (10-7) / (60)\n",
    "    return (m*phi1.wrap_at(180*u.deg).value + 10) * u.kpc"
   ]
  },
  {
   "cell_type": "code",
   "execution_count": 64,
   "metadata": {},
   "outputs": [],
   "source": [
    "gd1_c = c.transform_to(gc.GD1)\n",
    "\n",
    "gd1_c_dist = gc.GD1(phi1=gd1_c.phi1, phi2=gd1_c.phi2,\n",
    "                    distance=gd1_dist(gd1_c.phi1),\n",
    "                    pm_phi1_cosphi2=gd1_c.pm_phi1_cosphi2,\n",
    "                    pm_phi2=gd1_c.pm_phi2,\n",
    "                    radial_velocity=[0]*len(gd1_c)*u.km/u.s)\n",
    "\n",
    "# Correct for reflex motion\n",
    "v_sun = coord.Galactocentric.galcen_v_sun\n",
    "observed = gd1_c_dist.transform_to(coord.Galactic)\n",
    "rep = observed.cartesian.without_differentials()\n",
    "rep = rep.with_differentials(observed.cartesian.differentials['s'] + v_sun)\n",
    "gd1_c = coord.Galactic(rep).transform_to(gc.GD1)"
   ]
  },
  {
   "cell_type": "code",
   "execution_count": 65,
   "metadata": {},
   "outputs": [],
   "source": [
    "observed = tall['object']"
   ]
  },
  {
   "cell_type": "code",
   "execution_count": 178,
   "metadata": {},
   "outputs": [
    {
     "data": {
      "image/png": "[encoded data removed]",
      "text/plain": [
       "<matplotlib.figure.Figure at 0x7fbace9a29b0>"
      ]
     },
     "metadata": {},
     "output_type": "display_data"
    }
   ],
   "source": [
    "fig, ax = plt.subplots(1,2,figsize=(12,6), sharex=True, sharey=True)\n",
    "\n",
    "plt.sca(ax[0])\n",
    "for i in range(5,0,-1):\n",
    "    ind = tall['rank']==i\n",
    "    plt.plot(gd1_c.pm_phi1_cosphi2[observed][ind].to(u.mas/u.yr), gd1_c.pm_phi2[observed][ind].to(u.mas/u.yr),\n",
    "             '.', ms=15, mec='k', mew=1, color=mpl.cm.bone(i/5))\n",
    "\n",
    "plt.xlabel('$\\mu_{\\phi_1}$ [mas yr$^{-1}$]')\n",
    "plt.ylabel('$\\mu_{\\phi_2}$ [mas yr$^{-1}$]')\n",
    "\n",
    "plt.sca(ax[1])\n",
    "ind = tall['rank']<5\n",
    "im = plt.scatter(gd1_c.pm_phi1_cosphi2[observed][ind].to(u.mas/u.yr), gd1_c.pm_phi2[observed][ind].to(u.mas/u.yr),\n",
    "                 c=tall['VELOCITY'][ind], vmin=-120, vmax=0, s=70)\n",
    "\n",
    "plt.xlabel('$\\mu_{\\phi_1}$ [mas yr$^{-1}$]')\n",
    "\n",
    "divider = make_axes_locatable(plt.gca())\n",
    "cax = divider.append_axes(\"right\", size=\"4%\", pad=0.05)\n",
    "plt.colorbar(im, cax=cax)\n",
    "plt.ylabel('$V_r$ [km s$^{-1}$]')\n",
    "\n",
    "plt.tight_layout()"
   ]
  },
  {
   "cell_type": "code",
   "execution_count": 175,
   "metadata": {},
   "outputs": [
    {
     "data": {
      "image/png": "[encoded data removed]",
      "text/plain": [
       "<matplotlib.figure.Figure at 0x7fbacf5c1710>"
      ]
     },
     "metadata": {},
     "output_type": "display_data"
    }
   ],
   "source": [
    "fig, ax = plt.subplots(1,2,figsize=(12,6), sharex=True, sharey=True)\n",
    "\n",
    "plt.sca(ax[0])\n",
    "for i in range(5,0,-1):\n",
    "    ind = tall['rank']==i\n",
    "    plt.plot(g.g[observed][ind] - g.i[observed][ind], g.g[observed][ind],\n",
    "             '.', ms=15, mec='k', mew=1, color=mpl.cm.bone(i/5), label='Rank {}'.format(i))\n",
    "\n",
    "# plt.legend(fontsize='small', handlelength=0.2)\n",
    "plt.xlabel('g - i')\n",
    "plt.ylabel('g')\n",
    "\n",
    "plt.sca(ax[1])\n",
    "ind = tall['rank']<5\n",
    "im = plt.scatter(g.g[observed][ind] - g.i[observed][ind], g.g[observed][ind], c=tall['VELOCITY'][ind], \n",
    "            vmin=-120, vmax=0, s=70)\n",
    "\n",
    "# im = plt.scatter(g.g[observed][ind] - g.i[observed][ind], g.g[observed][ind],\n",
    "#                  c=gd1_c.pm_phi1_cosphi2[observed][ind].to(u.mas/u.yr),\n",
    "#                  vmin=-15, vmax=-5, s=70)\n",
    "\n",
    "plt.xlabel('g - i')\n",
    "plt.gca().invert_yaxis()\n",
    "\n",
    "divider = make_axes_locatable(plt.gca())\n",
    "cax = divider.append_axes(\"right\", size=\"4%\", pad=0.05)\n",
    "plt.colorbar(im, cax=cax)\n",
    "plt.ylabel('$V_r$ [km s$^{-1}$]')\n",
    "\n",
    "plt.tight_layout()"
   ]
  },
  {
   "cell_type": "code",
   "execution_count": 130,
   "metadata": {},
   "outputs": [],
   "source": [
    "members = ((tall['rank']<5) & (tall['VELOCITY']>-90) & (tall['VELOCITY']<-70) & \n",
    "           (tin['g'][observed]-tin['i'][observed]<0.8))"
   ]
  },
  {
   "cell_type": "code",
   "execution_count": 138,
   "metadata": {},
   "outputs": [
    {
     "data": {
      "text/html": [
       "&lt;Column name=&apos;CZXCR&apos; dtype=&apos;float64&apos; length=3&gt;\n",
       "<table>\n",
       "<tr><td>8.58</td></tr>\n",
       "<tr><td>3.31</td></tr>\n",
       "<tr><td>3.17</td></tr>\n",
       "</table>"
      ],
      "text/plain": [
       "<Column name='CZXCR' dtype='float64' length=3>\n",
       "8.58\n",
       "3.31\n",
       "3.17"
      ]
     },
     "execution_count": 138,
     "metadata": {},
     "output_type": "execute_result"
    }
   ],
   "source": [
    "tall['CZXCR'][members]"
   ]
  },
  {
   "cell_type": "code",
   "execution_count": 181,
   "metadata": {},
   "outputs": [
    {
     "data": {
      "text/plain": [
       "(<Column name='VELOCITY' dtype='float64' length=3>\n",
       " -73.37\n",
       " -71.82\n",
       " -80.78, -75.32333333333334)"
      ]
     },
     "execution_count": 181,
     "metadata": {},
     "output_type": "execute_result"
    }
   ],
   "source": [
    "tall['VELOCITY'][members], np.mean(tall['VELOCITY'][members])"
   ]
  },
  {
   "cell_type": "code",
   "execution_count": 136,
   "metadata": {},
   "outputs": [
    {
     "data": {
      "text/latex": [
       "$[-6.5949558,~-6.8330465,~-7.0982835] \\; \\mathrm{\\frac{marcsec}{yr}}$"
      ],
      "text/plain": [
       "<Quantity [-6.59495579, -6.83304654, -7.09828349] marcsec / yr>"
      ]
     },
     "execution_count": 136,
     "metadata": {},
     "output_type": "execute_result"
    }
   ],
   "source": [
    "g.pmra[observed][members]"
   ]
  },
  {
   "cell_type": "code",
   "execution_count": 137,
   "metadata": {},
   "outputs": [
    {
     "data": {
      "text/latex": [
       "$[-11.265245,~-10.455258,~-11.262745] \\; \\mathrm{\\frac{marcsec}{yr}}$"
      ],
      "text/plain": [
       "<Quantity [-11.2652454 , -10.45525777, -11.26274454] marcsec / yr>"
      ]
     },
     "execution_count": 137,
     "metadata": {},
     "output_type": "execute_result"
    }
   ],
   "source": [
    "g.pmdec[observed][members]"
   ]
  },
  {
   "cell_type": "code",
   "execution_count": 134,
   "metadata": {},
   "outputs": [
    {
     "data": {
      "text/latex": [
       "$[-7.6389968,~-7.1969119,~-7.9708754] \\; \\mathrm{\\frac{mas}{yr}}$"
      ],
      "text/plain": [
       "<Quantity [-7.63899682, -7.19691191, -7.97087536] mas / yr>"
      ]
     },
     "execution_count": 134,
     "metadata": {},
     "output_type": "execute_result"
    }
   ],
   "source": [
    "gd1_c.pm_phi1_cosphi2[observed][members].to(u.mas/u.yr)"
   ]
  },
  {
   "cell_type": "code",
   "execution_count": 135,
   "metadata": {},
   "outputs": [
    {
     "data": {
      "text/latex": [
       "$[-0.090322583,~0.60356689,~0.15733172] \\; \\mathrm{\\frac{mas}{yr}}$"
      ],
      "text/plain": [
       "<Quantity [-0.09032258,  0.60356689,  0.15733172] mas / yr>"
      ]
     },
     "execution_count": 135,
     "metadata": {},
     "output_type": "execute_result"
    }
   ],
   "source": [
    "gd1_c.pm_phi2[observed][members].to(u.mas/u.yr)"
   ]
  },
  {
   "cell_type": "code",
   "execution_count": 139,
   "metadata": {},
   "outputs": [],
   "source": [
    "cmem = coord.SkyCoord(ra=g.ra[observed][members], dec=g.dec[observed][members],\n",
    "                      pm_ra_cosdec=g.pmra[observed][members], pm_dec=g.pmdec[observed][members],\n",
    "                      distance=gd1_dist(gd1_c.phi1[observed][members]),\n",
    "                      radial_velocity=tall['VELOCITY'][members]*u.km/u.s)"
   ]
  },
  {
   "cell_type": "code",
   "execution_count": 144,
   "metadata": {},
   "outputs": [
    {
     "data": {
      "text/plain": [
       "<SkyCoord (Galactocentric: galcen_coord=<ICRS Coordinate: (ra, dec) in deg\n",
       "    (266.4051, -28.936175)>, galcen_distance=8.3 kpc, galcen_v_sun=(11.1, 232.24, 7.25) km / s, z_sun=27.0 pc, roll=0.0 deg): (x, y, z) in kpc\n",
       "    [(-12.98926456, 0.62364127, 7.08674843),\n",
       "     (-12.97248902, 0.6170137 , 7.10048172),\n",
       "     (-12.93769217, 0.66100661, 7.14507605)]\n",
       " (v_x, v_y, v_z) in km / s\n",
       "    [(-106.33881889, -271.02975429, -114.6178673 ),\n",
       "     (-118.81622603, -241.52232363, -123.54542864),\n",
       "     (-118.19946734, -278.82897617, -126.23935049)]>"
      ]
     },
     "execution_count": 144,
     "metadata": {},
     "output_type": "execute_result"
    }
   ],
   "source": [
    "cgal = cmem.transform_to(coord.Galactocentric)\n",
    "cgal"
   ]
  },
  {
   "cell_type": "code",
   "execution_count": 159,
   "metadata": {},
   "outputs": [],
   "source": [
    "v = np.linalg.norm([cgal.v_x, cgal.v_y, cgal.v_z], axis=0)*u.km/u.s"
   ]
  },
  {
   "cell_type": "code",
   "execution_count": 163,
   "metadata": {},
   "outputs": [],
   "source": [
    "vth = np.arcsin(cgal.v_z/v)\n",
    "vphi = np.arctan2(cgal.v_y, cgal.v_x)"
   ]
  },
  {
   "cell_type": "code",
   "execution_count": 179,
   "metadata": {},
   "outputs": [
    {
     "data": {
      "text/plain": [
       "(<Quantity [312.89347647, 296.16515885, 328.10529658] km / s>,\n",
       " <Quantity [-21.48859023, -24.65481361, -22.62837931] deg>,\n",
       " <Quantity [-111.42261383, -116.19474945, -112.97276095] deg>)"
      ]
     },
     "execution_count": 179,
     "metadata": {},
     "output_type": "execute_result"
    }
   ],
   "source": [
    "v, vth.to(u.deg), vphi.to(u.deg)"
   ]
  },
  {
   "cell_type": "code",
   "execution_count": 180,
   "metadata": {},
   "outputs": [
    {
     "data": {
      "text/plain": [
       "(<Quantity 13.04440484 km / s>,\n",
       " <Quantity 1.30939026 deg>,\n",
       " <Quantity 1.98766877 deg>)"
      ]
     },
     "execution_count": 180,
     "metadata": {},
     "output_type": "execute_result"
    }
   ],
   "source": [
    "np.std(v), np.std(vth.to(u.deg)), np.std(vphi.to(u.deg))"
   ]
  },
  {
   "cell_type": "code",
   "execution_count": 185,
   "metadata": {},
   "outputs": [],
   "source": [
    "kop_vr = ascii.read(\"\"\"phi1 phi2 vr err\n",
    "-45.23 -0.04 28.8 6.9\n",
    "-43.17 -0.09 29.3 10.2\n",
    "-39.54 -0.07 2.9  8.7\n",
    "-39.25 -0.22 -5.2 6.5\n",
    "-37.95 0.00 1.1   5.6\n",
    "-37.96 -0.00 -11.7 11.2\n",
    "-35.49 -0.05 -50.4 5.2\n",
    "-35.27 -0.02 -30.9 12.8\n",
    "-34.92 -0.15 -35.3 7.5\n",
    "-34.74 -0.08 -30.9 9.2\n",
    "-33.74 -0.18 -74.3 9.8\n",
    "-32.90 -0.15 -71.5 9.6\n",
    "-32.25 -0.17 -71.5 9.2\n",
    "-29.95 -0.00 -92.7 8.7\n",
    "-26.61 -0.11 -114.2 7.3\n",
    "-25.45 -0.14 -67.8 7.1\n",
    "-24.86 0.01 -111.2 17.8\n",
    "-21.21 -0.02 -144.4 10.5\n",
    "-14.47 -0.15 -179.0 10.0\n",
    "-13.73 -0.28 -191.4 7.5\n",
    "-13.02 -0.21 -162.9 9.6\n",
    "-12.68 -0.26 -217.2 10.7\n",
    "-12.55 -0.23 -172.2 6.6\"\"\")"
   ]
  },
  {
   "cell_type": "code",
   "execution_count": 201,
   "metadata": {},
   "outputs": [
    {
     "data": {
      "text/plain": [
       "(<Angle -29.87134146 deg>, <Latitude 0.12890834 deg>, -75.32333333333334)"
      ]
     },
     "execution_count": 201,
     "metadata": {},
     "output_type": "execute_result"
    }
   ],
   "source": [
    "wangle = 180*u.deg\n",
    "(np.mean(gd1_c.phi1[observed][members].wrap_at(wangle)),\n",
    "np.std(gd1_c.phi2[observed][members]),\n",
    "np.mean(tall['VELOCITY'][members]))"
   ]
  },
  {
   "cell_type": "code",
   "execution_count": 202,
   "metadata": {},
   "outputs": [
    {
     "data": {
      "image/png": "[encoded data removed]",
      "text/plain": [
       "<matplotlib.figure.Figure at 0x7fbacea17438>"
      ]
     },
     "metadata": {},
     "output_type": "display_data"
    }
   ],
   "source": [
    "plt.figure(figsize=(10,6))\n",
    "plt.errorbar(kop_vr['phi1'], kop_vr['vr'], yerr=kop_vr['err'], fmt='o', color='k', label='Main stream')\n",
    "plt.plot(gd1_c.phi1[observed][members].wrap_at(wangle), tall['VELOCITY'][members], 'ro', label='Spur')\n",
    "\n",
    "plt.legend(fontsize='small', handlelength=0.3)\n",
    "plt.xlabel('$\\phi_1$ [deg]')\n",
    "plt.ylabel('$V_r$ [km s$^{-1}$]')\n",
    "\n",
    "plt.tight_layout()"
   ]
  },
  {
   "cell_type": "code",
   "execution_count": 203,
   "metadata": {},
   "outputs": [
    {
     "data": {
      "image/png": "[encoded data removed]",
      "text/plain": [
       "<matplotlib.figure.Figure at 0x7fbaceda3d30>"
      ]
     },
     "metadata": {},
     "output_type": "display_data"
    }
   ],
   "source": [
    "plt.figure(figsize=(10,6))\n",
    "plt.errorbar(kop_vr['phi1'], kop_vr['vr'], yerr=kop_vr['err'], fmt='o', color='k', label='Main stream')\n",
    "plt.plot(gd1_c.phi1[observed][members].wrap_at(wangle), tall['VELOCITY'][members], 'ro', label='Spur')\n",
    "\n",
    "plt.legend(fontsize='small', handlelength=0.3)\n",
    "plt.xlabel('$\\phi_1$ [deg]')\n",
    "plt.ylabel('$V_r$ [km s$^{-1}$]')\n",
    "\n",
    "plt.xlim(-35,-25)\n",
    "plt.ylim(-150,-50)\n",
    "\n",
    "plt.tight_layout()"
   ]
  },
  {
   "cell_type": "code",
   "execution_count": null,
   "metadata": {},
   "outputs": [],
   "source": []
  }
 ],
 "metadata": {
  "kernelspec": {
   "display_name": "Python 3",
   "language": "python",
   "name": "python3"
  },
  "language_info": {
   "codemirror_mode": {
    "name": "ipython",
    "version": 3
   },
   "file_extension": ".py",
   "mimetype": "text/x-python",
   "name": "python",
   "nbconvert_exporter": "python",
   "pygments_lexer": "ipython3",
   "version": "3.6.4"
  }
 },
 "nbformat": 4,
 "nbformat_minor": 2
}
