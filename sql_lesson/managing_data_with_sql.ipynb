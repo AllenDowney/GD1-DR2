{
 "cells": [
  {
   "cell_type": "markdown",
   "metadata": {
    "slideshow": {
     "slide_type": "slide"
    }
   },
   "source": [
    "# Types of Databases\n",
    "\n"
   ]
  },
  {
   "cell_type": "markdown",
   "metadata": {
    "slideshow": {
     "slide_type": "fragment"
    }
   },
   "source": [
    "### Relational\n",
    "- Represent and store data in tables and rows.\n",
    "- Use Structured Query Language (`SQL`), which is like a programming language for relational databases.\n",
    "- Examples include `SQLite`, `MySQL`, `PostreSQL`, `T-SQL`.\n",
    "\n",
    "### Non-relational\n",
    "- Represent and store data as collections of documents, objects, key-value stores, or heirarchal data formats.\n",
    "- Also known as \"NoSQL\" databases.\n",
    "- Examples include `JSON`, `MongoDB`."
   ]
  },
  {
   "cell_type": "markdown",
   "metadata": {
    "slideshow": {
     "slide_type": "slide"
    }
   },
   "source": [
    "# SQL: Structured Query Language\n",
    "\n",
    "- Programming language for storing, manipulating, and retreiving data stored in a relational database.\n",
    "- All relational database management systems (e.g. `MySQL`, `SQLite`, `PostgreSQL`) use `SQL` as their standard database landuage.\n",
    "- `SQL` can have different *dialects* that contain small, subtle differences (just like there are different *accents* in the english language). For example, a string-like data type in `MySQL` is defined as **`STRING`**, while in `SQLite` it is defined as **`TEXT`**. \n",
    "- However, the vast majority of `SQL` is the same in all relational database management systems."
   ]
  },
  {
   "cell_type": "markdown",
   "metadata": {
    "slideshow": {
     "slide_type": "slide"
    }
   },
   "source": [
    "# What will we learn?\n",
    "\n",
    "In this lesson, we will learn how to retreive astronomical data from a `SQLite` database.\n",
    "\n",
    "- How to retrieve data from a database\n",
    "- How to select a subset of the data\n",
    "- How to sort a query's results\n",
    "- How to combine data from multiple tables\n",
    "\n",
    "We will first learn how to do this through the `SQLite` command line interface, then we will learn how to accomplish the same tasks using Python."
   ]
  },
  {
   "cell_type": "markdown",
   "metadata": {
    "slideshow": {
     "slide_type": "slide"
    }
   },
   "source": [
    "# The `hipparcos.db` Database\n",
    "\n",
    "In this lesson, we will use with the `hipparcos.db` database, which stores data from the Extended Hipparcos Compilation (XHIP), created\n",
    "by Erik Anderson and Charles Francis.\n",
    "\n",
    "It contains:\n",
    "- Spectral classificaitons\n",
    "- Radial velocities\n",
    "- Iron abundances\n",
    "- Stellar classifications\n",
    "- Stellar ages\n",
    "- 2MASS photometry\n",
    "\n",
    "The data can be downloaded from [this page](http://cdsarc.u-strasbg.fr/viz-bin/cat/V/137D):"
   ]
  },
  {
   "cell_type": "code",
   "execution_count": 1,
   "metadata": {},
   "outputs": [],
   "source": [
    "import os\n",
    "\n",
    "filename = 'main.fits.gz'\n",
    "if not os.path.exists(filename):\n",
    "    !wget http://cdsarc.u-strasbg.fr/viz-bin/nph-Cat/fits.gz?V/137D/main.dat.gz -O main.fits.gz"
   ]
  },
  {
   "cell_type": "code",
   "execution_count": 2,
   "metadata": {},
   "outputs": [],
   "source": [
    "filename = 'photo.fits.gz'\n",
    "\n",
    "if not os.path.exists(filename):\n",
    "    !wget http://cdsarc.u-strasbg.fr/viz-bin/nph-Cat/fits.gz?V/137D/photo.dat.gz -O photo.fits.gz"
   ]
  },
  {
   "cell_type": "markdown",
   "metadata": {
    "slideshow": {
     "slide_type": "slide"
    }
   },
   "source": [
    "More information about the Extended Hipparcos Compilation:\n",
    "\n",
    "- https://arxiv.org/abs/1108.4971\n",
    "- http://cdsarc.u-strasbg.fr/viz-bin/cat/V/137D\n",
    "\n",
    "The `main.fits` file stores Astrometry, spectrography, space motions, and exoplanet indications.  The `photo.fits` file stores photometry information."
   ]
  },
  {
   "cell_type": "markdown",
   "metadata": {},
   "source": [
    "## Reading main\n",
    "\n",
    "We can use Astropy to open the file and read info."
   ]
  },
  {
   "cell_type": "code",
   "execution_count": 3,
   "metadata": {},
   "outputs": [
    {
     "name": "stdout",
     "output_type": "stream",
     "text": [
      "Filename: main.fits.gz\n",
      "No.    Name      Ver    Type      Cards   Dimensions   Format\n",
      "  0  PRIMARY       1 PrimaryHDU     112   ()      \n",
      "  1  main.dat      1 TableHDU       372   117955R x 55C   [I6, A6, A41, I1, F12.8, F12.8, F6.2, F8.2, F8.2, F6.2, F6.2, F5.2, F6.2, F5.2, I1, I1, F12.8, F12.8, F7.2, F4.1, F8.2, F8.2, F6.1, F7.1, F6.1, I4, F5.1, A26, I3, I1, F7.2, F6.2, A1, F5.2, F4.2, A1, F4.1, F4.1, F4.1, F6.1, F6.1, F6.1, F5.1, F7.2, I5, F6.4, F6.1, I7, I5, I7, I5, I4, I7, I1, A5]   \n"
     ]
    }
   ],
   "source": [
    "from astropy.io import fits\n",
    "\n",
    "hdul = fits.open('main.fits.gz')\n",
    "hdul.info()"
   ]
  },
  {
   "cell_type": "markdown",
   "metadata": {},
   "source": [
    "And read the data into a table.\n",
    "\n",
    "It looks like there are some issue in the file, so we have to run `verify` with the `fix` argument."
   ]
  },
  {
   "cell_type": "code",
   "execution_count": 4,
   "metadata": {},
   "outputs": [
    {
     "name": "stderr",
     "output_type": "stream",
     "text": [
      "WARNING: VerifyWarning: Verification reported errors: [astropy.io.fits.verify]\n",
      "WARNING: VerifyWarning: HDU 1: [astropy.io.fits.verify]\n",
      "WARNING: VerifyWarning:     Card 223: [astropy.io.fits.verify]\n",
      "WARNING: VerifyWarning:         Card 'TAMAX38' is not FITS standard (invalid value string: '-nan / Allowed maximal value').  Fixed 'TAMAX38' card to meet the FITS standard. [astropy.io.fits.verify]\n",
      "WARNING: VerifyWarning:     Card 230: [astropy.io.fits.verify]\n",
      "WARNING: VerifyWarning:         Card 'TAMIN39' is not FITS standard (invalid value string: '-nan / Allowed minimal value').  Fixed 'TAMIN39' card to meet the FITS standard. [astropy.io.fits.verify]\n",
      "WARNING: VerifyWarning: Note: astropy.io.fits uses zero-based indexing.\n",
      " [astropy.io.fits.verify]\n",
      "WARNING: VerifyWarning: It is strongly recommended that column names contain only upper and lower-case ASCII letters, digits, or underscores for maximum compatibility with other software (got '[Fe/H]'). [astropy.io.fits.column]\n"
     ]
    }
   ],
   "source": [
    "from astropy.table import Table\n",
    "\n",
    "with fits.open('main.fits.gz') as data:\n",
    "    data.verify('fix')\n",
    "    table = Table.read(data, format='fits')"
   ]
  },
  {
   "cell_type": "code",
   "execution_count": 5,
   "metadata": {},
   "outputs": [
    {
     "data": {
      "text/plain": [
       "<Table length=117955>\n",
       "  name    dtype    unit    format \n",
       "-------- ------- -------- --------\n",
       "     HIP   int32             {:6d}\n",
       "    Comp    str6                  \n",
       " Classes   str41                  \n",
       "      Gr   int32             {:1d}\n",
       "   RAdeg float64      deg {:12.8f}\n",
       "   DEdeg float64      deg {:12.8f}\n",
       "     Plx float64      mas  {:6.2f}\n",
       "    pmRA float64 mas / yr  {:8.2f}\n",
       "    pmDE float64 mas / yr  {:8.2f}\n",
       " e_RAdeg float64      mas  {:6.2f}\n",
       " e_DEdeg float64      mas  {:6.2f}\n",
       "   e_Plx float64      mas  {:5.2f}\n",
       "  e_pmRA float64 mas / yr  {:6.2f}\n",
       "  e_pmDE float64 mas / yr  {:5.2f}\n",
       "   r_HIP   int32             {:1d}\n",
       "    r_pm   int32             {:1d}\n",
       "    GLon float64      deg {:12.8f}\n",
       "    GLat float64      deg {:12.8f}\n",
       "    Dist float64       pc  {:7.2f}\n",
       "  e_Dist float64        %  {:4.1f}\n",
       "  pmGLon float64 mas / yr  {:8.2f}\n",
       "  pmGLat float64 mas / yr  {:8.2f}\n",
       "       X float64       pc  {:6.1f}\n",
       "       Y float64       pc  {:7.1f}\n",
       "       Z float64       pc  {:6.1f}\n",
       "    RGal   int32       pc    {:4d}\n",
       "      vT float64   km / s  {:5.1f}\n",
       "  SpType   str26                  \n",
       "      Tc   int32             {:3d}\n",
       "      Lc   int32             {:1d}\n",
       "      RV float64   km / s  {:7.2f}\n",
       "    e_RV float64   km / s  {:6.2f}\n",
       "    q_RV    str1                  \n",
       "  [Fe/H] float64    [Sun]  {:5.2f}\n",
       "e_[Fe/H] float64    [Sun]  {:4.2f}\n",
       "q_[Fe/H]    str1                  \n",
       "     age float64      Gyr  {:4.1f}\n",
       "   b_age float64      Gyr  {:4.1f}\n",
       "   B_age float64      Gyr  {:4.1f}\n",
       "       U float64   km / s  {:6.1f}\n",
       "       V float64   km / s  {:6.1f}\n",
       "       W float64   km / s  {:6.1f}\n",
       "     UVW float64   km / s  {:5.1f}\n",
       "    Dmin float64       pc  {:7.2f}\n",
       "    Tmin   int32      kyr    {:5d}\n",
       "       e float64           {:6.4f}\n",
       "     phi float64      deg  {:6.1f}\n",
       "       a   int32       pc    {:7d}\n",
       "       b   int32       pc    {:5d}\n",
       "       c   int32       pc    {:7d}\n",
       "       L   int32      deg    {:5d}\n",
       "    Rmin   int32       pc    {:4d}\n",
       "    Rmax   int32       pc    {:7d}\n",
       "     Npl   int32             {:1d}\n",
       "     Mpl    str5                  "
      ]
     },
     "execution_count": 5,
     "metadata": {},
     "output_type": "execute_result"
    }
   ],
   "source": [
    "table.info"
   ]
  },
  {
   "cell_type": "markdown",
   "metadata": {},
   "source": [
    "We can also read the data using Pandas, so the result goes into a `DataFrame`."
   ]
  },
  {
   "cell_type": "code",
   "execution_count": 6,
   "metadata": {},
   "outputs": [],
   "source": [
    "import pandas as pd"
   ]
  },
  {
   "cell_type": "code",
   "execution_count": 7,
   "metadata": {},
   "outputs": [
    {
     "name": "stderr",
     "output_type": "stream",
     "text": [
      "WARNING: VerifyWarning: Verification reported errors: [astropy.io.fits.verify]\n",
      "WARNING: VerifyWarning: HDU 1: [astropy.io.fits.verify]\n",
      "WARNING: VerifyWarning:     Card 223: [astropy.io.fits.verify]\n",
      "WARNING: VerifyWarning:         Card 'TAMAX38' is not FITS standard (invalid value string: '-nan / Allowed maximal value').  Fixed 'TAMAX38' card to meet the FITS standard. [astropy.io.fits.verify]\n",
      "WARNING: VerifyWarning:     Card 230: [astropy.io.fits.verify]\n",
      "WARNING: VerifyWarning:         Card 'TAMIN39' is not FITS standard (invalid value string: '-nan / Allowed minimal value').  Fixed 'TAMIN39' card to meet the FITS standard. [astropy.io.fits.verify]\n",
      "WARNING: VerifyWarning: Note: astropy.io.fits uses zero-based indexing.\n",
      " [astropy.io.fits.verify]\n",
      "WARNING: VerifyWarning: It is strongly recommended that column names contain only upper and lower-case ASCII letters, digits, or underscores for maximum compatibility with other software (got '[Fe/H]'). [astropy.io.fits.column]\n"
     ]
    }
   ],
   "source": [
    "with fits.open('main.fits.gz') as data:\n",
    "    data.verify('fix')\n",
    "    main = pd.DataFrame(data[1].data)"
   ]
  },
  {
   "cell_type": "code",
   "execution_count": 8,
   "metadata": {},
   "outputs": [
    {
     "data": {
      "text/plain": [
       "(117955, 55)"
      ]
     },
     "execution_count": 8,
     "metadata": {},
     "output_type": "execute_result"
    }
   ],
   "source": [
    "main.shape"
   ]
  },
  {
   "cell_type": "code",
   "execution_count": 9,
   "metadata": {},
   "outputs": [
    {
     "data": {
      "text/html": [
       "<div>\n",
       "<style scoped>\n",
       "    .dataframe tbody tr th:only-of-type {\n",
       "        vertical-align: middle;\n",
       "    }\n",
       "\n",
       "    .dataframe tbody tr th {\n",
       "        vertical-align: top;\n",
       "    }\n",
       "\n",
       "    .dataframe thead th {\n",
       "        text-align: right;\n",
       "    }\n",
       "</style>\n",
       "<table border=\"1\" class=\"dataframe\">\n",
       "  <thead>\n",
       "    <tr style=\"text-align: right;\">\n",
       "      <th></th>\n",
       "      <th>HIP</th>\n",
       "      <th>Comp</th>\n",
       "      <th>Classes</th>\n",
       "      <th>Gr</th>\n",
       "      <th>RAdeg</th>\n",
       "      <th>DEdeg</th>\n",
       "      <th>Plx</th>\n",
       "      <th>pmRA</th>\n",
       "      <th>pmDE</th>\n",
       "      <th>e_RAdeg</th>\n",
       "      <th>...</th>\n",
       "      <th>e</th>\n",
       "      <th>phi</th>\n",
       "      <th>a</th>\n",
       "      <th>b</th>\n",
       "      <th>c</th>\n",
       "      <th>L</th>\n",
       "      <th>Rmin</th>\n",
       "      <th>Rmax</th>\n",
       "      <th>Npl</th>\n",
       "      <th>Mpl</th>\n",
       "    </tr>\n",
       "  </thead>\n",
       "  <tbody>\n",
       "    <tr>\n",
       "      <th>0</th>\n",
       "      <td>1</td>\n",
       "      <td></td>\n",
       "      <td>*,IR</td>\n",
       "      <td>0</td>\n",
       "      <td>0.000912</td>\n",
       "      <td>1.089013</td>\n",
       "      <td>4.55</td>\n",
       "      <td>-4.58</td>\n",
       "      <td>-1.61</td>\n",
       "      <td>1.29</td>\n",
       "      <td>...</td>\n",
       "      <td>0.0000</td>\n",
       "      <td>0.0</td>\n",
       "      <td>0</td>\n",
       "      <td>0</td>\n",
       "      <td>0</td>\n",
       "      <td>0</td>\n",
       "      <td>0</td>\n",
       "      <td>0</td>\n",
       "      <td>0</td>\n",
       "      <td></td>\n",
       "    </tr>\n",
       "    <tr>\n",
       "      <th>1</th>\n",
       "      <td>2</td>\n",
       "      <td>A</td>\n",
       "      <td>*,PM*,IR</td>\n",
       "      <td>0</td>\n",
       "      <td>0.003797</td>\n",
       "      <td>-19.498837</td>\n",
       "      <td>20.85</td>\n",
       "      <td>179.70</td>\n",
       "      <td>1.40</td>\n",
       "      <td>0.95</td>\n",
       "      <td>...</td>\n",
       "      <td>0.0000</td>\n",
       "      <td>0.0</td>\n",
       "      <td>0</td>\n",
       "      <td>0</td>\n",
       "      <td>0</td>\n",
       "      <td>0</td>\n",
       "      <td>0</td>\n",
       "      <td>0</td>\n",
       "      <td>0</td>\n",
       "      <td></td>\n",
       "    </tr>\n",
       "    <tr>\n",
       "      <th>2</th>\n",
       "      <td>3</td>\n",
       "      <td>AB</td>\n",
       "      <td>**,*,Em*,IR,UV</td>\n",
       "      <td>0</td>\n",
       "      <td>0.005008</td>\n",
       "      <td>38.859286</td>\n",
       "      <td>2.26</td>\n",
       "      <td>4.28</td>\n",
       "      <td>-3.42</td>\n",
       "      <td>0.31</td>\n",
       "      <td>...</td>\n",
       "      <td>0.1114</td>\n",
       "      <td>-5.2</td>\n",
       "      <td>8504</td>\n",
       "      <td>8451</td>\n",
       "      <td>947</td>\n",
       "      <td>8398</td>\n",
       "      <td>7557</td>\n",
       "      <td>9451</td>\n",
       "      <td>0</td>\n",
       "      <td></td>\n",
       "    </tr>\n",
       "    <tr>\n",
       "      <th>3</th>\n",
       "      <td>4</td>\n",
       "      <td></td>\n",
       "      <td>*,IR</td>\n",
       "      <td>0</td>\n",
       "      <td>0.008382</td>\n",
       "      <td>-51.893546</td>\n",
       "      <td>7.45</td>\n",
       "      <td>62.95</td>\n",
       "      <td>0.56</td>\n",
       "      <td>0.40</td>\n",
       "      <td>...</td>\n",
       "      <td>0.0000</td>\n",
       "      <td>0.0</td>\n",
       "      <td>0</td>\n",
       "      <td>0</td>\n",
       "      <td>0</td>\n",
       "      <td>0</td>\n",
       "      <td>0</td>\n",
       "      <td>0</td>\n",
       "      <td>0</td>\n",
       "      <td></td>\n",
       "    </tr>\n",
       "    <tr>\n",
       "      <th>4</th>\n",
       "      <td>5</td>\n",
       "      <td></td>\n",
       "      <td>*,IR</td>\n",
       "      <td>0</td>\n",
       "      <td>0.009965</td>\n",
       "      <td>-40.591224</td>\n",
       "      <td>3.88</td>\n",
       "      <td>1.54</td>\n",
       "      <td>8.30</td>\n",
       "      <td>0.55</td>\n",
       "      <td>...</td>\n",
       "      <td>0.0000</td>\n",
       "      <td>0.0</td>\n",
       "      <td>0</td>\n",
       "      <td>0</td>\n",
       "      <td>0</td>\n",
       "      <td>0</td>\n",
       "      <td>0</td>\n",
       "      <td>0</td>\n",
       "      <td>0</td>\n",
       "      <td></td>\n",
       "    </tr>\n",
       "  </tbody>\n",
       "</table>\n",
       "<p>5 rows × 55 columns</p>\n",
       "</div>"
      ],
      "text/plain": [
       "   HIP    Comp                                    Classes  Gr     RAdeg  \\\n",
       "0    1          *,IR                                        0  0.000912   \n",
       "1    2  A       *,PM*,IR                                    0  0.003797   \n",
       "2    3  AB      **,*,Em*,IR,UV                              0  0.005008   \n",
       "3    4          *,IR                                        0  0.008382   \n",
       "4    5          *,IR                                        0  0.009965   \n",
       "\n",
       "       DEdeg    Plx    pmRA  pmDE  e_RAdeg  ...       e  phi     a     b    c  \\\n",
       "0   1.089013   4.55   -4.58 -1.61     1.29  ...  0.0000  0.0     0     0    0   \n",
       "1 -19.498837  20.85  179.70  1.40     0.95  ...  0.0000  0.0     0     0    0   \n",
       "2  38.859286   2.26    4.28 -3.42     0.31  ...  0.1114 -5.2  8504  8451  947   \n",
       "3 -51.893546   7.45   62.95  0.56     0.40  ...  0.0000  0.0     0     0    0   \n",
       "4 -40.591224   3.88    1.54  8.30     0.55  ...  0.0000  0.0     0     0    0   \n",
       "\n",
       "      L  Rmin  Rmax  Npl    Mpl  \n",
       "0     0     0     0    0         \n",
       "1     0     0     0    0         \n",
       "2  8398  7557  9451    0         \n",
       "3     0     0     0    0         \n",
       "4     0     0     0    0         \n",
       "\n",
       "[5 rows x 55 columns]"
      ]
     },
     "execution_count": 9,
     "metadata": {},
     "output_type": "execute_result"
    }
   ],
   "source": [
    "main.head()"
   ]
  },
  {
   "cell_type": "markdown",
   "metadata": {},
   "source": [
    "## Reading photometry\n",
    "\n",
    "Same with the photometry data: we can use Astropy to read the info and the data, and Pandas to put the results into a `DataFrame`."
   ]
  },
  {
   "cell_type": "code",
   "execution_count": 10,
   "metadata": {},
   "outputs": [
    {
     "name": "stdout",
     "output_type": "stream",
     "text": [
      "Filename: photo.fits.gz\n",
      "No.    Name      Ver    Type      Cards   Dimensions   Format\n",
      "  0  PRIMARY       1 PrimaryHDU     112   ()      \n",
      "  1  photo.dat     1 TableHDU       236   117955R x 36C   [I6, F7.4, F6.4, A1, F5.2, F5.2, F6.2, A1, F6.3, F6.3, F5.2, F5.2, F6.3, F6.3, F6.3, F6.3, F5.3, F5.3, F5.3, A17, A3, F6.3, F5.2, F5.3, F4.2, F6.3, F6.3, F5.2, F5.2, F5.2, F5.2, F5.2, F5.2, F6.2, F9.2, F5.2]   \n"
     ]
    }
   ],
   "source": [
    "hdul = fits.open('photo.fits.gz')\n",
    "hdul.info()"
   ]
  },
  {
   "cell_type": "code",
   "execution_count": 11,
   "metadata": {},
   "outputs": [],
   "source": [
    "with fits.open('photo.fits.gz') as data:\n",
    "    data.verify('fix')\n",
    "    table2 = Table.read(data, format='fits')"
   ]
  },
  {
   "cell_type": "code",
   "execution_count": 12,
   "metadata": {},
   "outputs": [
    {
     "data": {
      "text/plain": [
       "<Table length=117955>\n",
       "  name   dtype  unit  format\n",
       "------- ------- ---- -------\n",
       "    HIP   int32   pc   {:6d}\n",
       "  Hpmag float64  mag {:7.4f}\n",
       "e_Hpmag float64  mag {:6.4f}\n",
       "m_Hpmag    str1             \n",
       "  Hpmax float64  mag {:5.2f}\n",
       "  Hpmin float64  mag {:5.2f}\n",
       "    Per float64    d {:6.2f}\n",
       "   Hvar    str1  mag        \n",
       "   Umag float64  mag {:6.3f}\n",
       "   Bmag float64  mag {:6.3f}\n",
       "   Vmag float64  mag {:5.2f}\n",
       "   Rmag float64  mag {:5.2f}\n",
       "   Imag float64  mag {:6.3f}\n",
       "   Jmag float64  mag {:6.3f}\n",
       "   Hmag float64  mag {:6.3f}\n",
       "   Kmag float64  mag {:6.3f}\n",
       " e_Jmag float64  mag {:5.3f}\n",
       " e_Hmag float64  mag {:5.3f}\n",
       " e_Kmag float64  mag {:5.3f}\n",
       "  2MASS   str17             \n",
       "    q2M    str3             \n",
       "    B-V float64  mag {:6.3f}\n",
       "    V-I float64  mag {:5.2f}\n",
       "  e_B-V float64  mag {:5.3f}\n",
       "  e_V-I float64  mag {:4.2f}\n",
       "  HpMag float64  mag {:6.3f}\n",
       "   UMag float64  mag {:6.3f}\n",
       "   BMag float64  mag {:5.2f}\n",
       "   VMag float64  mag {:5.2f}\n",
       "   RMag float64  mag {:5.2f}\n",
       "   IMag float64  mag {:5.2f}\n",
       "   JMag float64  mag {:5.2f}\n",
       "   HMag float64  mag {:5.2f}\n",
       "   KMag float64  mag {:6.2f}\n",
       "    Lum float64 Lsun {:9.2f}\n",
       " magmin float64  mag {:5.2f}"
      ]
     },
     "execution_count": 12,
     "metadata": {},
     "output_type": "execute_result"
    }
   ],
   "source": [
    "table2.info"
   ]
  },
  {
   "cell_type": "code",
   "execution_count": 13,
   "metadata": {},
   "outputs": [],
   "source": [
    "with fits.open('photo.fits.gz') as data:\n",
    "    data.verify('fix')\n",
    "    photo = pd.DataFrame(data[1].data)"
   ]
  },
  {
   "cell_type": "code",
   "execution_count": 14,
   "metadata": {},
   "outputs": [
    {
     "data": {
      "text/plain": [
       "(117955, 36)"
      ]
     },
     "execution_count": 14,
     "metadata": {},
     "output_type": "execute_result"
    }
   ],
   "source": [
    "photo.shape"
   ]
  },
  {
   "cell_type": "markdown",
   "metadata": {},
   "source": [
    "## Writing the database\n",
    "\n",
    "Now we can replicate the database from the original version of this tutorial.\n",
    "\n",
    "First I'll connect to the database file, creating it if it doesn't already exist."
   ]
  },
  {
   "cell_type": "code",
   "execution_count": 15,
   "metadata": {},
   "outputs": [],
   "source": [
    "import sqlite3\n",
    "\n",
    "con = sqlite3.connect('hipparcos.db')"
   ]
  },
  {
   "cell_type": "markdown",
   "metadata": {},
   "source": [
    "The main table has two columns that are the same except for capitalization, which SQL cannot handle.  So I'll rename the second column before trying to write the table."
   ]
  },
  {
   "cell_type": "code",
   "execution_count": 16,
   "metadata": {},
   "outputs": [],
   "source": [
    "main.rename(columns={'B_age': 'B_age2'}, inplace=True)"
   ]
  },
  {
   "cell_type": "markdown",
   "metadata": {},
   "source": [
    "Now we can add the table to the database."
   ]
  },
  {
   "cell_type": "code",
   "execution_count": 17,
   "metadata": {},
   "outputs": [],
   "source": [
    "main.to_sql(name='data', con=con, if_exists='replace')"
   ]
  },
  {
   "cell_type": "markdown",
   "metadata": {},
   "source": [
    "The photometry table has the same problem with repeated column names, but we can rename them the same way."
   ]
  },
  {
   "cell_type": "code",
   "execution_count": 18,
   "metadata": {},
   "outputs": [],
   "source": [
    "mapper = {'HpMag': 'HpMag2',\n",
    "          'HMag': 'HMag2',\n",
    "          'IMag': 'IMag2',\n",
    "          'JMag': 'JMag2',\n",
    "          'KMag': 'KMag2',\n",
    "          'UMag': 'UMag2',\n",
    "          'VMag': 'VMag2',\n",
    "          'RMag': 'RMag2',\n",
    "          'BMag': 'BMag2'}\n",
    "photo.rename(columns=mapper, inplace=True)"
   ]
  },
  {
   "cell_type": "markdown",
   "metadata": {},
   "source": [
    "And then add the second table to the database."
   ]
  },
  {
   "cell_type": "code",
   "execution_count": 19,
   "metadata": {},
   "outputs": [],
   "source": [
    "photo.to_sql(name='photometry', con=con, if_exists='replace')"
   ]
  },
  {
   "cell_type": "markdown",
   "metadata": {},
   "source": [
    "Now the examples and exercises in the next section work."
   ]
  },
  {
   "cell_type": "markdown",
   "metadata": {
    "slideshow": {
     "slide_type": "slide"
    }
   },
   "source": [
    "# Opening and Navigating the Database\n",
    "\n",
    "To connect to the database, we can use the `sqlite3` command line interface:\n",
    "\n",
    "```\n",
    ">>> sqlite3 hipparcos.db\n",
    "```\n",
    "\n",
    "```\n",
    "SQLite version 3.13.0 2016-05-18 10:57:30\n",
    "Enter \".help\" for usage hints.\n",
    "```"
   ]
  },
  {
   "cell_type": "markdown",
   "metadata": {
    "slideshow": {
     "slide_type": "fragment"
    }
   },
   "source": [
    "**Excercise 1:** Try connecting to the `hipparcos.db` database.  Use the `.help` command to determine which command to use to list the names of tables of the database and run it."
   ]
  },
  {
   "cell_type": "markdown",
   "metadata": {
    "slideshow": {
     "slide_type": "slide"
    }
   },
   "source": [
    "To make the output a bit more human-readable, let's run the following commands:\n",
    "\n",
    "```\n",
    ".mode column\n",
    ".header on\n",
    "```\n",
    "\n",
    "In `sqlite`, we can list the columns of a table using the `PRAGMA table_info()` command:\n",
    "\n",
    "```\n",
    "sqlite> PRAGMA table_info(data);\n",
    "```"
   ]
  },
  {
   "cell_type": "markdown",
   "metadata": {
    "slideshow": {
     "slide_type": "fragment"
    }
   },
   "source": [
    "**Excercise 2:** List all of the columns in the `photometry` table.  How many columns are there?"
   ]
  },
  {
   "cell_type": "markdown",
   "metadata": {
    "slideshow": {
     "slide_type": "slide"
    }
   },
   "source": [
    "# Selecting everything from a table"
   ]
  },
  {
   "cell_type": "markdown",
   "metadata": {
    "slideshow": {
     "slide_type": "fragment"
    }
   },
   "source": [
    "```SQL\n",
    "SELECT *\n",
    "FROM <table_name>;\n",
    "```\n",
    "\n",
    "for example:\n",
    "\n",
    "```SQL\n",
    "SELECT *\n",
    "FROM data;\n",
    "```"
   ]
  },
  {
   "cell_type": "markdown",
   "metadata": {
    "slideshow": {
     "slide_type": "fragment"
    }
   },
   "source": [
    "Note that we can also limit the number of results returned:\n",
    "\n",
    "```SQL\n",
    "SELECT *\n",
    "FROM data\n",
    "LIMIT 10;\n",
    "```"
   ]
  },
  {
   "cell_type": "markdown",
   "metadata": {
    "slideshow": {
     "slide_type": "fragment"
    }
   },
   "source": [
    "**Excercise 3:** Write a query that selects all columns from the `photometry` table and limits the results to 50 rows."
   ]
  },
  {
   "cell_type": "markdown",
   "metadata": {
    "slideshow": {
     "slide_type": "fragment"
    }
   },
   "source": [
    "*Solution*:\n",
    "\n",
    "```SQL\n",
    "SELECT *\n",
    "FROM photometry\n",
    "LIMIT 50;\n",
    "```"
   ]
  },
  {
   "cell_type": "markdown",
   "metadata": {
    "slideshow": {
     "slide_type": "slide"
    }
   },
   "source": [
    "# Filtering specific columns"
   ]
  },
  {
   "cell_type": "markdown",
   "metadata": {
    "slideshow": {
     "slide_type": "fragment"
    }
   },
   "source": [
    "```SQL\n",
    "SELECT <column1_name>, <column2_name>, ..., <columnN_name>\n",
    "FROM <table_name>;\n",
    "```\n",
    "\n",
    "for example:\n",
    "\n",
    "```SQL\n",
    "SELECT HIP, RV, e_RV\n",
    "FROM data;\n",
    "```"
   ]
  },
  {
   "cell_type": "markdown",
   "metadata": {
    "slideshow": {
     "slide_type": "fragment"
    }
   },
   "source": [
    "**Exercise 4**: Write a query that selects the Hipparcos Identifier, the Hipparcos magnitude, and the variability period from the `photometry` table.  You may need to list the table's columns or refer to the documentation to check their column name."
   ]
  },
  {
   "cell_type": "markdown",
   "metadata": {
    "slideshow": {
     "slide_type": "slide"
    }
   },
   "source": [
    "# Filtering specific rows"
   ]
  },
  {
   "cell_type": "markdown",
   "metadata": {
    "slideshow": {
     "slide_type": "fragment"
    }
   },
   "source": [
    "```SQL\n",
    "SELECT <column1_name>, <column2_name>, ..., <columnN_name>\n",
    "FROM <table_name>\n",
    "WHERE <column_name> <condition>;\n",
    "```\n",
    "\n",
    "for example:\n",
    "\n",
    "```SQL\n",
    "SELECT HIP, RV, e_RV\n",
    "FROM data\n",
    "WHERE RV != 0;\n",
    "```"
   ]
  },
  {
   "cell_type": "markdown",
   "metadata": {
    "slideshow": {
     "slide_type": "fragment"
    }
   },
   "source": [
    "More conditions can be added to the query using the `AND` command.  There is no limit to the number of conditions you can put on a query.\n",
    "\n",
    "\n",
    "```SQL\n",
    "SELECT <column1_name>, <column2_name>, ..., <columnN_name>\n",
    "FROM <table_name>\n",
    "WHERE <column_name> <condition>\n",
    "AND <column_name> <condition>\n",
    "...\n",
    "AND <column_name> <condition>;\n",
    "```\n",
    "\n",
    "for example:\n",
    "```SQL\n",
    "SELECT HIP, RV, e_RV\n",
    "FROM data\n",
    "WHERE RV != 0\n",
    "AND e_RV < 1;\n",
    "```"
   ]
  },
  {
   "cell_type": "markdown",
   "metadata": {
    "slideshow": {
     "slide_type": "fragment"
    }
   },
   "source": [
    "**Exercise 5:** Write a query that selects the Hipparcos indentifier, the Johnson B apparent magnitute, the Johnson V apparent magnitude, and the variability period.  Only select sources whose variability period and B-magnitute are non-zero, and have a B-magnitude less than 10.  "
   ]
  },
  {
   "cell_type": "markdown",
   "metadata": {
    "slideshow": {
     "slide_type": "slide"
    }
   },
   "source": [
    "# Sorting results"
   ]
  },
  {
   "cell_type": "markdown",
   "metadata": {
    "slideshow": {
     "slide_type": "fragment"
    }
   },
   "source": [
    "```SQL\n",
    "SELECT <column1_name>, <column2_name>, ..., <columnN_name>\n",
    "FROM <table_name>\n",
    "WHERE <column_name> <condition>\n",
    "AND <column_name> <condition>\n",
    "...\n",
    "AND <column_name> <condition>\n",
    "ORDER BY <column_name>;\n",
    "```\n",
    "\n",
    "for example:\n",
    "\n",
    "```SQL\n",
    "SELECT HIP, Bmag, Vmag, Per\n",
    "FROM photometry\n",
    "WHERE Per != 0\n",
    "AND Bmag != 0\n",
    "AND Bmag < 10\n",
    "ORDER BY Vmag;\n",
    "```"
   ]
  },
  {
   "cell_type": "markdown",
   "metadata": {
    "slideshow": {
     "slide_type": "fragment"
    }
   },
   "source": [
    "**Exercise 6:** Write a query that selects the Hipparcos identifer, the Johnson B and V apparent magnitudes, and the variability period.  Only select sources whose V-magnitude is greater than 11, and whose variability type is 'P'.  Order the results by the variability period. "
   ]
  },
  {
   "cell_type": "markdown",
   "metadata": {
    "slideshow": {
     "slide_type": "slide"
    }
   },
   "source": [
    "# Joining Tables"
   ]
  },
  {
   "cell_type": "markdown",
   "metadata": {
    "slideshow": {
     "slide_type": "fragment"
    }
   },
   "source": [
    "<img src=\"https://image.slidesharecdn.com/2-background-140403152126-phpapp02/95/database-2-background-30-638.jpg?cb=1396538564\">\n",
    "\n",
    "```SQL\n",
    "SELECT <column1_name>, <column2_name>, ..., <columnN_name>\n",
    "FROM <table1_name>\n",
    "JOIN <table2_name> ON <condition>;\n",
    "```\n",
    "\n",
    "for example:\n",
    "\n",
    "```SQL\n",
    "SELECT data.HIP, pmRA, pmDE, Bmag, Vmag\n",
    "FROM data\n",
    "JOIN photometry ON data.HIP = photometry.HIP;\n",
    "```\n",
    "\n",
    "Note that `WHERE`, `AND`, and `ORDER BY` conditions can be applied to the query after the `JOIN`, for example:\n",
    "\n",
    "```SQL\n",
    "SELECT data.HIP, pmRA, pmDE, Bmag, Vmag\n",
    "FROM data\n",
    "JOIN photometry ON data.HIP = photometry.HIP\n",
    "WHERE Vmag > 11\n",
    "AND Bmag > 11\n",
    "ORDER BY Vmag;\n",
    "```"
   ]
  },
  {
   "cell_type": "markdown",
   "metadata": {
    "slideshow": {
     "slide_type": "fragment"
    }
   },
   "source": [
    "**Exercise 7:** Using `JOIN`, write a query that selects the Hipparcos identifier and the radial velocity from the `data` table, as well as the Johnson B and V apparent magnitudes from the `photometry` table. Only select sources whose radial velocity are greater than 0, and order the results by the Johnson B magnitude."
   ]
  },
  {
   "cell_type": "markdown",
   "metadata": {
    "slideshow": {
     "slide_type": "slide"
    }
   },
   "source": [
    "# Programming with Databases using Python"
   ]
  },
  {
   "cell_type": "markdown",
   "metadata": {
    "slideshow": {
     "slide_type": "fragment"
    }
   },
   "source": [
    "We have now learned how to retreive, filter, and sort data from a `SQL` database using the `SQLite` command line interface.  The same tasks can be performed in Python, using the `sqlite3` library."
   ]
  },
  {
   "cell_type": "code",
   "execution_count": 20,
   "metadata": {
    "slideshow": {
     "slide_type": "fragment"
    }
   },
   "outputs": [],
   "source": [
    "import sqlite3"
   ]
  },
  {
   "cell_type": "markdown",
   "metadata": {
    "slideshow": {
     "slide_type": "fragment"
    }
   },
   "source": [
    "To connect to the database, we can use the `sqlite3` `connect()` method:"
   ]
  },
  {
   "cell_type": "code",
   "execution_count": 21,
   "metadata": {},
   "outputs": [],
   "source": [
    "connection = sqlite3.connect(\"hipparcos.db\")"
   ]
  },
  {
   "cell_type": "markdown",
   "metadata": {
    "slideshow": {
     "slide_type": "fragment"
    }
   },
   "source": [
    "Next, we set up a `cursor` object, which will later allow us to execute `SQL` commands:"
   ]
  },
  {
   "cell_type": "code",
   "execution_count": 22,
   "metadata": {},
   "outputs": [],
   "source": [
    "cursor = connection.cursor()"
   ]
  },
  {
   "cell_type": "markdown",
   "metadata": {
    "slideshow": {
     "slide_type": "fragment"
    }
   },
   "source": [
    "Executing a database query is not as simple as passing the hard-coded query to the `cursor.execute()` command:\n",
    "\n",
    "```python\n",
    "cursor.execute(\"<SQL COMMAND>;\")\n",
    "```"
   ]
  },
  {
   "cell_type": "code",
   "execution_count": 23,
   "metadata": {},
   "outputs": [
    {
     "data": {
      "text/plain": [
       "<sqlite3.Cursor at 0x7fad918c1490>"
      ]
     },
     "execution_count": 23,
     "metadata": {},
     "output_type": "execute_result"
    }
   ],
   "source": [
    "sql_command = \"\"\"\n",
    "    SELECT HIP, RV, e_RV\n",
    "    FROM data\n",
    "    WHERE RV != 0\n",
    "    AND e_RV < 1\n",
    "    LIMIT 10;\n",
    "    \"\"\"\n",
    "cursor.execute(sql_command)"
   ]
  },
  {
   "cell_type": "markdown",
   "metadata": {
    "slideshow": {
     "slide_type": "fragment"
    }
   },
   "source": [
    "To retreive the results of the query, we can use the `cursor.fetchall()` method.  This returns a list of tuples, with each element in the list being a row of results:\n"
   ]
  },
  {
   "cell_type": "code",
   "execution_count": 24,
   "metadata": {},
   "outputs": [
    {
     "name": "stdout",
     "output_type": "stream",
     "text": [
      "(14, 21.61, 0.27)\n",
      "(19, 6.3, 0.7)\n",
      "(20, 37.8, 0.4)\n",
      "(21, -11.72, 0.16)\n",
      "(25, 3.0, 0.7)\n",
      "(31, 3.52, 0.21)\n",
      "(33, -18.2, 0.5)\n",
      "(38, 10.0, 0.4)\n",
      "(39, -1.9, 0.2)\n",
      "(43, -33.3, 0.4)\n"
     ]
    }
   ],
   "source": [
    "results = cursor.fetchall()\n",
    "for result in results:\n",
    "    print(result)"
   ]
  },
  {
   "cell_type": "markdown",
   "metadata": {},
   "source": [
    "We can also use Pandas to run the query and put the results into a `DataFrame`:"
   ]
  },
  {
   "cell_type": "code",
   "execution_count": 25,
   "metadata": {},
   "outputs": [
    {
     "data": {
      "text/html": [
       "<div>\n",
       "<style scoped>\n",
       "    .dataframe tbody tr th:only-of-type {\n",
       "        vertical-align: middle;\n",
       "    }\n",
       "\n",
       "    .dataframe tbody tr th {\n",
       "        vertical-align: top;\n",
       "    }\n",
       "\n",
       "    .dataframe thead th {\n",
       "        text-align: right;\n",
       "    }\n",
       "</style>\n",
       "<table border=\"1\" class=\"dataframe\">\n",
       "  <thead>\n",
       "    <tr style=\"text-align: right;\">\n",
       "      <th></th>\n",
       "      <th>HIP</th>\n",
       "      <th>RV</th>\n",
       "      <th>e_RV</th>\n",
       "    </tr>\n",
       "  </thead>\n",
       "  <tbody>\n",
       "    <tr>\n",
       "      <th>0</th>\n",
       "      <td>14</td>\n",
       "      <td>21.61</td>\n",
       "      <td>0.27</td>\n",
       "    </tr>\n",
       "    <tr>\n",
       "      <th>1</th>\n",
       "      <td>19</td>\n",
       "      <td>6.30</td>\n",
       "      <td>0.70</td>\n",
       "    </tr>\n",
       "    <tr>\n",
       "      <th>2</th>\n",
       "      <td>20</td>\n",
       "      <td>37.80</td>\n",
       "      <td>0.40</td>\n",
       "    </tr>\n",
       "    <tr>\n",
       "      <th>3</th>\n",
       "      <td>21</td>\n",
       "      <td>-11.72</td>\n",
       "      <td>0.16</td>\n",
       "    </tr>\n",
       "    <tr>\n",
       "      <th>4</th>\n",
       "      <td>25</td>\n",
       "      <td>3.00</td>\n",
       "      <td>0.70</td>\n",
       "    </tr>\n",
       "    <tr>\n",
       "      <th>5</th>\n",
       "      <td>31</td>\n",
       "      <td>3.52</td>\n",
       "      <td>0.21</td>\n",
       "    </tr>\n",
       "    <tr>\n",
       "      <th>6</th>\n",
       "      <td>33</td>\n",
       "      <td>-18.20</td>\n",
       "      <td>0.50</td>\n",
       "    </tr>\n",
       "    <tr>\n",
       "      <th>7</th>\n",
       "      <td>38</td>\n",
       "      <td>10.00</td>\n",
       "      <td>0.40</td>\n",
       "    </tr>\n",
       "    <tr>\n",
       "      <th>8</th>\n",
       "      <td>39</td>\n",
       "      <td>-1.90</td>\n",
       "      <td>0.20</td>\n",
       "    </tr>\n",
       "    <tr>\n",
       "      <th>9</th>\n",
       "      <td>43</td>\n",
       "      <td>-33.30</td>\n",
       "      <td>0.40</td>\n",
       "    </tr>\n",
       "  </tbody>\n",
       "</table>\n",
       "</div>"
      ],
      "text/plain": [
       "   HIP     RV  e_RV\n",
       "0   14  21.61  0.27\n",
       "1   19   6.30  0.70\n",
       "2   20  37.80  0.40\n",
       "3   21 -11.72  0.16\n",
       "4   25   3.00  0.70\n",
       "5   31   3.52  0.21\n",
       "6   33 -18.20  0.50\n",
       "7   38  10.00  0.40\n",
       "8   39  -1.90  0.20\n",
       "9   43 -33.30  0.40"
      ]
     },
     "execution_count": 25,
     "metadata": {},
     "output_type": "execute_result"
    }
   ],
   "source": [
    "df = pd.read_sql_query(sql_command, con)\n",
    "df"
   ]
  },
  {
   "cell_type": "markdown",
   "metadata": {},
   "source": [
    "Here's a more complex example involving a join."
   ]
  },
  {
   "cell_type": "code",
   "execution_count": 26,
   "metadata": {
    "slideshow": {
     "slide_type": "slide"
    }
   },
   "outputs": [
    {
     "data": {
      "text/html": [
       "<div>\n",
       "<style scoped>\n",
       "    .dataframe tbody tr th:only-of-type {\n",
       "        vertical-align: middle;\n",
       "    }\n",
       "\n",
       "    .dataframe tbody tr th {\n",
       "        vertical-align: top;\n",
       "    }\n",
       "\n",
       "    .dataframe thead th {\n",
       "        text-align: right;\n",
       "    }\n",
       "</style>\n",
       "<table border=\"1\" class=\"dataframe\">\n",
       "  <thead>\n",
       "    <tr style=\"text-align: right;\">\n",
       "      <th></th>\n",
       "      <th>HIP</th>\n",
       "      <th>RV</th>\n",
       "      <th>Bmag</th>\n",
       "      <th>Vmag</th>\n",
       "    </tr>\n",
       "  </thead>\n",
       "  <tbody>\n",
       "    <tr>\n",
       "      <th>0</th>\n",
       "      <td>30438</td>\n",
       "      <td>20.30</td>\n",
       "      <td>-0.456</td>\n",
       "      <td>-0.62</td>\n",
       "    </tr>\n",
       "    <tr>\n",
       "      <th>1</th>\n",
       "      <td>53</td>\n",
       "      <td>11.42</td>\n",
       "      <td>0.000</td>\n",
       "      <td>10.96</td>\n",
       "    </tr>\n",
       "    <tr>\n",
       "      <th>2</th>\n",
       "      <td>3937</td>\n",
       "      <td>6.00</td>\n",
       "      <td>0.000</td>\n",
       "      <td>12.01</td>\n",
       "    </tr>\n",
       "    <tr>\n",
       "      <th>3</th>\n",
       "      <td>4725</td>\n",
       "      <td>57.00</td>\n",
       "      <td>0.000</td>\n",
       "      <td>11.80</td>\n",
       "    </tr>\n",
       "    <tr>\n",
       "      <th>4</th>\n",
       "      <td>6115</td>\n",
       "      <td>130.00</td>\n",
       "      <td>0.000</td>\n",
       "      <td>11.63</td>\n",
       "    </tr>\n",
       "    <tr>\n",
       "      <th>5</th>\n",
       "      <td>8939</td>\n",
       "      <td>24.00</td>\n",
       "      <td>0.000</td>\n",
       "      <td>12.37</td>\n",
       "    </tr>\n",
       "    <tr>\n",
       "      <th>6</th>\n",
       "      <td>11517</td>\n",
       "      <td>9.00</td>\n",
       "      <td>0.000</td>\n",
       "      <td>11.85</td>\n",
       "    </tr>\n",
       "    <tr>\n",
       "      <th>7</th>\n",
       "      <td>12886</td>\n",
       "      <td>28.00</td>\n",
       "      <td>0.000</td>\n",
       "      <td>10.80</td>\n",
       "    </tr>\n",
       "    <tr>\n",
       "      <th>8</th>\n",
       "      <td>14574</td>\n",
       "      <td>11.80</td>\n",
       "      <td>0.000</td>\n",
       "      <td>11.72</td>\n",
       "    </tr>\n",
       "    <tr>\n",
       "      <th>9</th>\n",
       "      <td>14699</td>\n",
       "      <td>12.79</td>\n",
       "      <td>0.000</td>\n",
       "      <td>10.63</td>\n",
       "    </tr>\n",
       "    <tr>\n",
       "      <th>10</th>\n",
       "      <td>19978</td>\n",
       "      <td>6.00</td>\n",
       "      <td>0.000</td>\n",
       "      <td>11.22</td>\n",
       "    </tr>\n",
       "    <tr>\n",
       "      <th>11</th>\n",
       "      <td>20031</td>\n",
       "      <td>36.60</td>\n",
       "      <td>0.000</td>\n",
       "      <td>11.44</td>\n",
       "    </tr>\n",
       "    <tr>\n",
       "      <th>12</th>\n",
       "      <td>20160</td>\n",
       "      <td>16.18</td>\n",
       "      <td>0.000</td>\n",
       "      <td>11.96</td>\n",
       "    </tr>\n",
       "    <tr>\n",
       "      <th>13</th>\n",
       "      <td>20990</td>\n",
       "      <td>22.90</td>\n",
       "      <td>0.000</td>\n",
       "      <td>11.03</td>\n",
       "    </tr>\n",
       "    <tr>\n",
       "      <th>14</th>\n",
       "      <td>22466</td>\n",
       "      <td>21.00</td>\n",
       "      <td>0.000</td>\n",
       "      <td>11.54</td>\n",
       "    </tr>\n",
       "    <tr>\n",
       "      <th>15</th>\n",
       "      <td>22750</td>\n",
       "      <td>245.00</td>\n",
       "      <td>0.000</td>\n",
       "      <td>11.71</td>\n",
       "    </tr>\n",
       "    <tr>\n",
       "      <th>16</th>\n",
       "      <td>24226</td>\n",
       "      <td>49.00</td>\n",
       "      <td>0.000</td>\n",
       "      <td>11.98</td>\n",
       "    </tr>\n",
       "    <tr>\n",
       "      <th>17</th>\n",
       "      <td>24763</td>\n",
       "      <td>66.50</td>\n",
       "      <td>0.000</td>\n",
       "      <td>11.09</td>\n",
       "    </tr>\n",
       "    <tr>\n",
       "      <th>18</th>\n",
       "      <td>26220</td>\n",
       "      <td>28.30</td>\n",
       "      <td>0.000</td>\n",
       "      <td>4.98</td>\n",
       "    </tr>\n",
       "    <tr>\n",
       "      <th>19</th>\n",
       "      <td>28699</td>\n",
       "      <td>150.00</td>\n",
       "      <td>0.000</td>\n",
       "      <td>13.25</td>\n",
       "    </tr>\n",
       "  </tbody>\n",
       "</table>\n",
       "</div>"
      ],
      "text/plain": [
       "      HIP      RV   Bmag   Vmag\n",
       "0   30438   20.30 -0.456  -0.62\n",
       "1      53   11.42  0.000  10.96\n",
       "2    3937    6.00  0.000  12.01\n",
       "3    4725   57.00  0.000  11.80\n",
       "4    6115  130.00  0.000  11.63\n",
       "5    8939   24.00  0.000  12.37\n",
       "6   11517    9.00  0.000  11.85\n",
       "7   12886   28.00  0.000  10.80\n",
       "8   14574   11.80  0.000  11.72\n",
       "9   14699   12.79  0.000  10.63\n",
       "10  19978    6.00  0.000  11.22\n",
       "11  20031   36.60  0.000  11.44\n",
       "12  20160   16.18  0.000  11.96\n",
       "13  20990   22.90  0.000  11.03\n",
       "14  22466   21.00  0.000  11.54\n",
       "15  22750  245.00  0.000  11.71\n",
       "16  24226   49.00  0.000  11.98\n",
       "17  24763   66.50  0.000  11.09\n",
       "18  26220   28.30  0.000   4.98\n",
       "19  28699  150.00  0.000  13.25"
      ]
     },
     "execution_count": 26,
     "metadata": {},
     "output_type": "execute_result"
    }
   ],
   "source": [
    "import sqlite3\n",
    "\n",
    "connection = sqlite3.connect(\"hipparcos.db\")\n",
    "cursor = connection.cursor()\n",
    "\n",
    "sql_command = \"\"\"\n",
    "    SELECT data.HIP, RV, Bmag, Vmag\n",
    "    FROM data\n",
    "    JOIN photometry ON data.HIP = photometry.HIP\n",
    "    WHERE RV > 0\n",
    "    ORDER BY Bmag\n",
    "    LIMIT 20;\n",
    "    \"\"\"\n",
    "\n",
    "df2 = pd.read_sql_query(sql_command, con)\n",
    "df2"
   ]
  },
  {
   "cell_type": "markdown",
   "metadata": {
    "slideshow": {
     "slide_type": "fragment"
    }
   },
   "source": [
    "**Exercise 8:**\n",
    "\n",
    "1. Using `sqlite3` and python, query the database for `B-V` and Absolute V mag (i.e. `VAbsMag`) measurements.\n",
    "  - Select only sources that are have a Distance error (`e_Dist`) that is non-zero and less than 10. \n",
    "  - Also filter out non-zero `B-V` values\n",
    "  - *Hint: You will need to join the `data` and `photometry` tables.*\n",
    "  - *Hint: You will need to wrap 'B-V' in double-quotes in the `SELECT` statement to avoid errors caused by the minus-sign.*\n",
    "2. Parse the results by creating a list that holds the `B-V` values and a list that holds the `VabsMag` values.\n",
    "3. Plot the results using `pyplot` *(hint: It may be useful to invery the y-axis using `plt.ylim(plt.ylim()[::-1])`*"
   ]
  },
  {
   "cell_type": "markdown",
   "metadata": {
    "slideshow": {
     "slide_type": "slide"
    }
   },
   "source": [
    "**(Bonus) Exercise 9:**\n",
    "\n",
    "1. Execute the previous query, only this time add conditions to select only white dwarf stars (`\"B-V\" < 0.7`, `VAbsMag > 10`).\n",
    "2. Overplot the white dwarf stars on the plot from Excercise 8 using a different marker color."
   ]
  }
 ],
 "metadata": {
  "anaconda-cloud": {},
  "kernelspec": {
   "display_name": "Python 3",
   "language": "python",
   "name": "python3"
  },
  "language_info": {
   "codemirror_mode": {
    "name": "ipython",
    "version": 3
   },
   "file_extension": ".py",
   "mimetype": "text/x-python",
   "name": "python",
   "nbconvert_exporter": "python",
   "pygments_lexer": "ipython3",
   "version": "3.8.3"
  }
 },
 "nbformat": 4,
 "nbformat_minor": 1
}
